{
 "cells": [
  {
   "cell_type": "markdown",
   "metadata": {},
   "source": [
    "# leetcode"
   ]
  },
  {
   "cell_type": "code",
   "execution_count": 1,
   "metadata": {},
   "outputs": [],
   "source": [
    "#For every problem\n",
    "from typing import List"
   ]
  },
  {
   "cell_type": "markdown",
   "metadata": {},
   "source": [
    "# 10/1 Number of recent calls"
   ]
  },
  {
   "cell_type": "raw",
   "metadata": {},
   "source": [
    "Input\n",
    "[\"RecentCounter\", \"ping\", \"ping\", \"ping\", \"ping\"]\n",
    "[[], [1], [100], [3001], [3002]]\n",
    "Output\n",
    "[null, 1, 2, 3, 3]\n",
    "\n",
    "\n",
    "[t - 3000, t]\n",
    "#Test case:\n",
    "[[],[1178],[1483],[1563],[4054],[4152]]\n",
    "return 5\n",
    "\n",
    "Explanation\n",
    "RecentCounter recentCounter = new RecentCounter();\n",
    "recentCounter.ping(1);     // requests = [1], range is [-2999,1], return 1\n",
    "recentCounter.ping(100);   // requests = [1, 100], range is [-2900,100], return 2\n",
    "recentCounter.ping(3001);  // requests = [1, 100, 3001], range is [1,3001], return 3\n",
    "recentCounter.ping(3002);  // requests = [1, 100, 3001, 3002], range is [2,3002], return 3"
   ]
  },
  {
   "cell_type": "markdown",
   "metadata": {},
   "source": [
    "# My answer"
   ]
  },
  {
   "cell_type": "code",
   "execution_count": 337,
   "metadata": {},
   "outputs": [],
   "source": [
    "class RecentCounter:\n",
    "    def __init__(self):\n",
    "        self.requests = []\n",
    "    \n",
    "    def RecentCounter(self):\n",
    "        self.requests = []\n",
    "    def ping(self, t: int) -> int:\n",
    "        count = 0\n",
    "        self.requests.append(t)\n",
    "        i = len(self.requests) - 1\n",
    "        \n",
    "        while i >= 0:            \n",
    "            if t - 3000 > self.requests[i]:\n",
    "                break\n",
    "            count += 1\n",
    "            i -= 1\n",
    "        return count"
   ]
  },
  {
   "cell_type": "code",
   "execution_count": 354,
   "metadata": {},
   "outputs": [
    {
     "data": {
      "text/plain": [
       "3"
      ]
     },
     "execution_count": 354,
     "metadata": {},
     "output_type": "execute_result"
    }
   ],
   "source": [
    "recentCounter = RecentCounter()\n",
    "recentCounter.ping(1)\n",
    "recentCounter.ping(100)\n",
    "recentCounter.ping(3001)\n",
    "recentCounter.ping(3002)"
   ]
  },
  {
   "cell_type": "code",
   "execution_count": 343,
   "metadata": {},
   "outputs": [
    {
     "name": "stdout",
     "output_type": "stream",
     "text": [
      "642\n",
      "1849\n",
      "642\n",
      "4921\n",
      "1849\n"
     ]
    },
    {
     "data": {
      "text/plain": [
       "1"
      ]
     },
     "execution_count": 343,
     "metadata": {},
     "output_type": "execute_result"
    }
   ],
   "source": [
    "recentCounter = RecentCounter()\n",
    "recentCounter.RecentCounter()\n",
    "recentCounter.ping(642)\n",
    "recentCounter.ping(1849)\n",
    "recentCounter.ping(4921)"
   ]
  },
  {
   "cell_type": "markdown",
   "metadata": {},
   "source": [
    "# Best answer"
   ]
  },
  {
   "cell_type": "code",
   "execution_count": 351,
   "metadata": {},
   "outputs": [],
   "source": [
    "from collections import deque\n",
    "\n",
    "class RecentCounter:\n",
    "\n",
    "    def __init__(self):\n",
    "        self.slide_window = deque()\n",
    "\n",
    "    def ping(self, t: int) -> int:\n",
    "        self.slide_window.append(t)\n",
    "        \n",
    "        while self.slide_window[0] < t - 3000:\n",
    "            self.slide_window.popleft()\n",
    "            \n",
    "        return len(self.slide_window)"
   ]
  },
  {
   "cell_type": "code",
   "execution_count": 352,
   "metadata": {},
   "outputs": [
    {
     "data": {
      "text/plain": [
       "1"
      ]
     },
     "execution_count": 352,
     "metadata": {},
     "output_type": "execute_result"
    }
   ],
   "source": [
    "recentCounter = RecentCounter()\n",
    "recentCounter.ping(642)\n",
    "recentCounter.ping(1849)\n",
    "recentCounter.ping(4921)"
   ]
  },
  {
   "cell_type": "markdown",
   "metadata": {},
   "source": [
    "# Combination sum"
   ]
  },
  {
   "cell_type": "raw",
   "metadata": {},
   "source": [
    "Input: candidates = [2,3,6,7], target = 7\n",
    "Output: [[2,2,3],[7]]\n",
    "Explanation:\n",
    "2 and 3 are candidates, and 2 + 2 + 3 = 7. Note that 2 can be used multiple times.\n",
    "7 is a candidate, and 7 = 7.\n",
    "These are the only two combinations."
   ]
  },
  {
   "cell_type": "code",
   "execution_count": 426,
   "metadata": {},
   "outputs": [],
   "source": [
    "class Solution:\n",
    "    def combinationSum(self, candidates, target):\n",
    "        candidates.sort()\n",
    "        res=set()\n",
    "        intermedia=[]\n",
    "        self.f(candidates,target,res,intermedia)\n",
    "        return [list(i) for i in res]\n",
    " \n",
    "    def f(self,candidates,target,res,intermedia):\n",
    "        for i in candidates:\n",
    "            if target==i:\n",
    "                temp=intermedia+[i]\n",
    "                temp.sort()\n",
    "                if temp is not None:\n",
    "                    res.add(tuple(temp))\n",
    "                return\n",
    "            elif target>i:\n",
    "                self.f(candidates,target-i,res,intermedia+[i])\n",
    "            else:\n",
    "                return"
   ]
  },
  {
   "cell_type": "code",
   "execution_count": 427,
   "metadata": {},
   "outputs": [
    {
     "name": "stdout",
     "output_type": "stream",
     "text": [
      "[[7], [2, 2, 3]]\n"
     ]
    }
   ],
   "source": [
    "solution = Solution()\n",
    "print(solution.combinationSum([2,3,6,7],7))"
   ]
  },
  {
   "cell_type": "markdown",
   "metadata": {},
   "source": [
    "# Running Sum of 1d Array"
   ]
  },
  {
   "cell_type": "raw",
   "metadata": {},
   "source": [
    "Input: nums = [1,2,3,4]\n",
    "Output: [1,3,6,10]\n",
    "Explanation: Running sum is obtained as follows: [1, 1+2, 1+2+3, 1+2+3+4]."
   ]
  },
  {
   "cell_type": "code",
   "execution_count": 540,
   "metadata": {},
   "outputs": [],
   "source": [
    "class Solution:\n",
    "    def runningSum(self, nums):\n",
    "        for i,k in enumerate(nums):\n",
    "            if i == 0:\n",
    "                nums[i] = nums[i]\n",
    "            else:\n",
    "                nums[i] = k + nums[i-1]\n",
    "        return nums"
   ]
  },
  {
   "cell_type": "code",
   "execution_count": 541,
   "metadata": {},
   "outputs": [
    {
     "data": {
      "text/plain": [
       "[1, 3, 6, 10]"
      ]
     },
     "execution_count": 541,
     "metadata": {},
     "output_type": "execute_result"
    }
   ],
   "source": [
    "solution = Solution()\n",
    "nums = [1,2,3,4]\n",
    "solution.runningSum(nums)"
   ]
  },
  {
   "cell_type": "markdown",
   "metadata": {},
   "source": [
    "# Kids With the Greatest Number of Candies"
   ]
  },
  {
   "cell_type": "raw",
   "metadata": {},
   "source": [
    "Input: candies = [2,3,5,1,3], extraCandies = 3\n",
    "Output: [true,true,true,false,true] \n",
    "Explanation: \n",
    "Kid 1 has 2 candies and if he or she receives all extra candies (3) will have 5 candies --- the greatest number of candies among the kids. \n",
    "Kid 2 has 3 candies and if he or she receives at least 2 extra candies will have the greatest number of candies among the kids. \n",
    "Kid 3 has 5 candies and this is already the greatest number of candies among the kids. \n",
    "Kid 4 has 1 candy and even if he or she receives all extra candies will only have 4 candies. \n",
    "Kid 5 has 3 candies and if he or she receives at least 2 extra candies will have the greatest number of candies among the kids. "
   ]
  },
  {
   "cell_type": "markdown",
   "metadata": {},
   "source": [
    "### My solution"
   ]
  },
  {
   "cell_type": "code",
   "execution_count": 567,
   "metadata": {},
   "outputs": [],
   "source": [
    "class Solution:\n",
    "    def kidsWithCandies(self, candies, extraCandies):\n",
    "        delta = max(candies) - extraCandies\n",
    "        for i,k in enumerate(candies):\n",
    "            if candies[i] >= delta:\n",
    "                candies[i] = True\n",
    "            else:\n",
    "                candies[i] = False\n",
    "        return candies[:-1]"
   ]
  },
  {
   "cell_type": "code",
   "execution_count": 568,
   "metadata": {
    "scrolled": true
   },
   "outputs": [
    {
     "data": {
      "text/plain": [
       "[True, True, True, False]"
      ]
     },
     "execution_count": 568,
     "metadata": {},
     "output_type": "execute_result"
    }
   ],
   "source": [
    "solution = Solution()\n",
    "candies = [2,3,5,1,3]\n",
    "extraCandies = 3\n",
    "solution.kidsWithCandies(candies, extraCandies)"
   ]
  },
  {
   "cell_type": "markdown",
   "metadata": {},
   "source": [
    "### Best solution"
   ]
  },
  {
   "cell_type": "code",
   "execution_count": 569,
   "metadata": {},
   "outputs": [],
   "source": [
    "class Solution:\n",
    "    def kidsWithCandies(self, candies, extraC):\n",
    "            maxcand=max(candies)\n",
    "            for i in range(len(candies)):\n",
    "                if candies[i]+extraC >=maxcand:\n",
    "                    candies[i]=True\n",
    "                else:\n",
    "                    candies[i]=False\n",
    "            return candies"
   ]
  },
  {
   "cell_type": "code",
   "execution_count": 570,
   "metadata": {},
   "outputs": [
    {
     "data": {
      "text/plain": [
       "[True, True, True, False, True]"
      ]
     },
     "execution_count": 570,
     "metadata": {},
     "output_type": "execute_result"
    }
   ],
   "source": [
    "solution = Solution()\n",
    "candies = [2,3,5,1,3]\n",
    "extraCandies = 3\n",
    "solution.kidsWithCandies(candies, extraCandies)"
   ]
  },
  {
   "cell_type": "markdown",
   "metadata": {},
   "source": [
    "# 1470. Shuffle the Array"
   ]
  },
  {
   "cell_type": "raw",
   "metadata": {},
   "source": [
    "Given the array nums consisting of 2n elements in the form [x1,x2,...,xn,y1,y2,...,yn].\n",
    "\n",
    "Return the array in the form [x1,y1,x2,y2,...,xn,yn].\n",
    "\n",
    "Example 1:\n",
    "\n",
    "Input: nums = [2,5,1,3,4,7], n = 3\n",
    "Output: [2,3,5,4,1,7] \n",
    "Explanation: Since x1=2, x2=5, x3=1, y1=3, y2=4, y3=7 then the answer is [2,3,5,4,1,7]."
   ]
  },
  {
   "cell_type": "markdown",
   "metadata": {},
   "source": [
    "### My solution"
   ]
  },
  {
   "cell_type": "code",
   "execution_count": 662,
   "metadata": {},
   "outputs": [],
   "source": [
    "class Solution:\n",
    "    def shuffle(self, nums, n):\n",
    "        new_nums = []\n",
    "        for i in range(len(nums) - n):\n",
    "            new_nums.append(nums[i])\n",
    "            if n == len(nums):\n",
    "                break\n",
    "            else:\n",
    "                new_nums.append(nums[n])\n",
    "            n += 1\n",
    "        return new_nums"
   ]
  },
  {
   "cell_type": "code",
   "execution_count": 663,
   "metadata": {},
   "outputs": [
    {
     "data": {
      "text/plain": [
       "[2, 3, 5, 4, 1, 7]"
      ]
     },
     "execution_count": 663,
     "metadata": {},
     "output_type": "execute_result"
    }
   ],
   "source": [
    "nums = [2,5,1,3,4,7]\n",
    "n = 3\n",
    "\n",
    "solution = Solution()\n",
    "solution.shuffle(nums, n)"
   ]
  },
  {
   "cell_type": "markdown",
   "metadata": {},
   "source": [
    "### Best solution"
   ]
  },
  {
   "cell_type": "code",
   "execution_count": 665,
   "metadata": {},
   "outputs": [],
   "source": [
    "def shuffle(self, nums, n):\n",
    "        res = []\n",
    "        for i, j in zip(nums[:n],nums[n:]):\n",
    "            res += [i,j]\n",
    "        return res"
   ]
  },
  {
   "cell_type": "code",
   "execution_count": 666,
   "metadata": {},
   "outputs": [
    {
     "data": {
      "text/plain": [
       "[2, 3, 5, 4, 1, 7]"
      ]
     },
     "execution_count": 666,
     "metadata": {},
     "output_type": "execute_result"
    }
   ],
   "source": [
    "nums = [2,5,1,3,4,7]\n",
    "n = 3\n",
    "\n",
    "solution = Solution()\n",
    "solution.shuffle(nums, n)"
   ]
  },
  {
   "cell_type": "markdown",
   "metadata": {},
   "source": [
    "# 1512. Number of Good Pairs"
   ]
  },
  {
   "cell_type": "raw",
   "metadata": {},
   "source": [
    "Given an array of integers nums.\n",
    "\n",
    "A pair (i,j) is called good if nums[i] == nums[j] and i < j.\n",
    "\n",
    "Return the number of good pairs.\n",
    "\n",
    " \n",
    "\n",
    "Example 1:\n",
    "\n",
    "Input: nums = [1,2,3,1,1,3]\n",
    "Output: 4\n",
    "Explanation: There are 4 good pairs (0,3), (0,4), (3,4), (2,5) 0-indexed.\n",
    "Example 2:\n",
    "\n",
    "Input: nums = [1,1,1,1]\n",
    "Output: 6\n",
    "Explanation: Each pair in the array are good."
   ]
  },
  {
   "cell_type": "markdown",
   "metadata": {},
   "source": [
    "### My answer 1"
   ]
  },
  {
   "cell_type": "code",
   "execution_count": 700,
   "metadata": {},
   "outputs": [],
   "source": [
    "import collections\n",
    "\n",
    "class Solution:\n",
    "    def numIdenticalPairs(self, nums):\n",
    "        sum = 0\n",
    "        counter = collections.Counter(nums)\n",
    "        for i in counter.values():\n",
    "            if i != 0:\n",
    "                sum += i*(i-1)/2\n",
    "        return int(sum)"
   ]
  },
  {
   "cell_type": "code",
   "execution_count": 730,
   "metadata": {
    "scrolled": true
   },
   "outputs": [
    {
     "data": {
      "text/plain": [
       "4"
      ]
     },
     "execution_count": 730,
     "metadata": {},
     "output_type": "execute_result"
    }
   ],
   "source": [
    "nums = [1,2,3,1,1,3]\n",
    "solution = Solution()\n",
    "solution.numIdenticalPairs(nums)"
   ]
  },
  {
   "cell_type": "markdown",
   "metadata": {},
   "source": [
    "### My answer 2"
   ]
  },
  {
   "cell_type": "code",
   "execution_count": 731,
   "metadata": {},
   "outputs": [],
   "source": [
    "class Solution:\n",
    "    def numIdenticalPairs(self, nums):\n",
    "        count = 0\n",
    "        for i in range(len(nums)):\n",
    "            for k in range(len(nums)):\n",
    "                if (nums[i] == nums[k]) & (i < k):\n",
    "                    count +=1\n",
    "        return count"
   ]
  },
  {
   "cell_type": "code",
   "execution_count": 732,
   "metadata": {},
   "outputs": [
    {
     "data": {
      "text/plain": [
       "4"
      ]
     },
     "execution_count": 732,
     "metadata": {},
     "output_type": "execute_result"
    }
   ],
   "source": [
    "nums2 = [1,2,3,1,1,3]\n",
    "solution = Solution()\n",
    "solution.numIdenticalPairs(nums2)"
   ]
  },
  {
   "cell_type": "markdown",
   "metadata": {},
   "source": [
    "# 771. Jewels and Stones"
   ]
  },
  {
   "cell_type": "raw",
   "metadata": {},
   "source": [
    "You're given strings J representing the types of stones that are jewels, and S representing the stones you have.  Each character in S is a type of stone you have.  You want to know how many of the stones you have are also jewels.\n",
    "\n",
    "The letters in J are guaranteed distinct, and all characters in J and S are letters. Letters are case sensitive, so \"a\" is considered a different type of stone from \"A\".\n",
    "\n",
    "Example 1:\n",
    "\n",
    "Input: J = \"aA\", S = \"aAAbbbb\"\n",
    "Output: 3\n",
    "Example 2:\n",
    "\n",
    "Input: J = \"z\", S = \"ZZ\"\n",
    "Output: 0"
   ]
  },
  {
   "cell_type": "markdown",
   "metadata": {},
   "source": [
    "### My answer"
   ]
  },
  {
   "cell_type": "code",
   "execution_count": 39,
   "metadata": {},
   "outputs": [],
   "source": [
    "class Solution:\n",
    "    def numJewelsInStones(self, J, S):\n",
    "        count = 0\n",
    "        for i in S:\n",
    "            if i in J:\n",
    "                count += 1\n",
    "        return count"
   ]
  },
  {
   "cell_type": "code",
   "execution_count": 44,
   "metadata": {},
   "outputs": [
    {
     "data": {
      "text/plain": [
       "0"
      ]
     },
     "execution_count": 44,
     "metadata": {},
     "output_type": "execute_result"
    }
   ],
   "source": [
    "J = \"B\"\n",
    "S = \"aAAbbbb\"\n",
    "solution = Solution()\n",
    "solution.numJewelsInStones(J,S)"
   ]
  },
  {
   "cell_type": "markdown",
   "metadata": {},
   "source": [
    "### Best answer"
   ]
  },
  {
   "cell_type": "code",
   "execution_count": 57,
   "metadata": {},
   "outputs": [],
   "source": [
    "class Solution:\n",
    "    def numJewelsInStones(self, J: str, S: str) -> int:\n",
    "    \treturn sum(i in J for i in S)"
   ]
  },
  {
   "cell_type": "code",
   "execution_count": 58,
   "metadata": {
    "scrolled": true
   },
   "outputs": [
    {
     "data": {
      "text/plain": [
       "3"
      ]
     },
     "execution_count": 58,
     "metadata": {},
     "output_type": "execute_result"
    }
   ],
   "source": [
    "solution = Solution()\n",
    "J = \"aA\"\n",
    "S = \"aAAbbbb\"\n",
    "solution.numJewelsInStones(J,S)"
   ]
  },
  {
   "cell_type": "markdown",
   "metadata": {},
   "source": [
    "# 1342. Number of Steps to Reduce a Number to Zero"
   ]
  },
  {
   "cell_type": "raw",
   "metadata": {},
   "source": [
    "Given a non-negative integer num, return the number of steps to reduce it to zero. If the current number is even, you have to divide it by 2, otherwise, you have to subtract 1 from it.\n",
    "\n",
    " \n",
    "\n",
    "Example 1:\n",
    "\n",
    "Input: num = 14\n",
    "Output: 6\n",
    "Explanation: \n",
    "Step 1) 14 is even; divide by 2 and obtain 7. \n",
    "Step 2) 7 is odd; subtract 1 and obtain 6.\n",
    "Step 3) 6 is even; divide by 2 and obtain 3. \n",
    "Step 4) 3 is odd; subtract 1 and obtain 2. \n",
    "Step 5) 2 is even; divide by 2 and obtain 1. \n",
    "Step 6) 1 is odd; subtract 1 and obtain 0.\n",
    "Example 2:\n",
    "\n",
    "Input: num = 8\n",
    "Output: 4\n",
    "Explanation: \n",
    "Step 1) 8 is even; divide by 2 and obtain 4. \n",
    "Step 2) 4 is even; divide by 2 and obtain 2. \n",
    "Step 3) 2 is even; divide by 2 and obtain 1. \n",
    "Step 4) 1 is odd; subtract 1 and obtain 0."
   ]
  },
  {
   "cell_type": "markdown",
   "metadata": {},
   "source": [
    "### My solution"
   ]
  },
  {
   "cell_type": "code",
   "execution_count": 68,
   "metadata": {},
   "outputs": [],
   "source": [
    "class Solution:\n",
    "    def numberOfSteps (self, num: int) -> int:\n",
    "        count = 0\n",
    "        while True:\n",
    "            if num == 0:\n",
    "                break\n",
    "            elif num % 2 == 0:\n",
    "                num /= 2\n",
    "            else:\n",
    "                num -= 1\n",
    "            count += 1\n",
    "        return count"
   ]
  },
  {
   "cell_type": "code",
   "execution_count": 71,
   "metadata": {},
   "outputs": [
    {
     "data": {
      "text/plain": [
       "4"
      ]
     },
     "execution_count": 71,
     "metadata": {},
     "output_type": "execute_result"
    }
   ],
   "source": [
    "solution = Solution()\n",
    "num = 5\n",
    "solution.numberOfSteps(num)"
   ]
  },
  {
   "cell_type": "markdown",
   "metadata": {},
   "source": [
    "### Best solution"
   ]
  },
  {
   "cell_type": "code",
   "execution_count": 73,
   "metadata": {},
   "outputs": [],
   "source": [
    "class Solution:\n",
    "    def numberOfSteps (self, num: int) -> int:\n",
    "        bitstring = bin(num)[2:] # [2:] will remove the '0b' that is prepended to each bitstring by bin()\n",
    "        return len(bitstring) - 1 + bitstring.count('1')"
   ]
  },
  {
   "cell_type": "code",
   "execution_count": 74,
   "metadata": {},
   "outputs": [
    {
     "data": {
      "text/plain": [
       "4"
      ]
     },
     "execution_count": 74,
     "metadata": {},
     "output_type": "execute_result"
    }
   ],
   "source": [
    "solution = Solution()\n",
    "num = 5\n",
    "solution.numberOfSteps(num)"
   ]
  },
  {
   "cell_type": "markdown",
   "metadata": {},
   "source": [
    "# 1528. Shuffle String"
   ]
  },
  {
   "cell_type": "raw",
   "metadata": {},
   "source": [
    "Given a string s and an integer array indices of the same length.\n",
    "\n",
    "The string s will be shuffled such that the character at the ith position moves to indices[i] in the shuffled string.\n",
    "\n",
    "Return the shuffled string.\n",
    "\n",
    "Example 1:\n",
    "\n",
    "\n",
    "Input: s = \"codeleet\", indices = [4,5,6,7,0,2,1,3]\n",
    "Output: \"leetcode\"\n",
    "Explanation: As shown, \"codeleet\" becomes \"leetcode\" after shuffling."
   ]
  },
  {
   "cell_type": "markdown",
   "metadata": {},
   "source": [
    "### My solution"
   ]
  },
  {
   "cell_type": "code",
   "execution_count": 5,
   "metadata": {},
   "outputs": [],
   "source": [
    "def getKey(item):\n",
    "        return item[1]\n",
    "\n",
    "class Solution:\n",
    "    \n",
    "    def restoreString(self, s, indices):\n",
    "        s1 = \"\"\n",
    "        n = list(s)\n",
    "        l = list(zip(n, indices))\n",
    "        for i in range(len(l)):\n",
    "            s1 += sorted(l, key = getKey)[i][0]\n",
    "        return(s1)"
   ]
  },
  {
   "cell_type": "code",
   "execution_count": 19,
   "metadata": {},
   "outputs": [
    {
     "data": {
      "text/plain": [
       "'leetcode'"
      ]
     },
     "execution_count": 19,
     "metadata": {},
     "output_type": "execute_result"
    }
   ],
   "source": [
    "s = \"codeleet\"\n",
    "indices = [4,5,6,7,0,2,1,3]\n",
    "solution.restoreString(s, indices)"
   ]
  },
  {
   "cell_type": "code",
   "execution_count": 10,
   "metadata": {},
   "outputs": [],
   "source": [
    "class Solution:\n",
    "    def restoreString(self, s: str, indices: List[int]) -> str:\n",
    "        res = [''] * len(s)\n",
    "        for i in range(len(s)):\n",
    "            res[indices[i]] = s[i]\n",
    "            print(res)\n",
    "        return ''.join(res)"
   ]
  },
  {
   "cell_type": "code",
   "execution_count": 11,
   "metadata": {
    "scrolled": true
   },
   "outputs": [
    {
     "name": "stdout",
     "output_type": "stream",
     "text": [
      "['', '', '', '', 'c', '', '', '']\n",
      "['', '', '', '', 'c', 'o', '', '']\n",
      "['', '', '', '', 'c', 'o', 'd', '']\n",
      "['', '', '', '', 'c', 'o', 'd', 'e']\n",
      "['l', '', '', '', 'c', 'o', 'd', 'e']\n",
      "['l', '', 'e', '', 'c', 'o', 'd', 'e']\n",
      "['l', 'e', 'e', '', 'c', 'o', 'd', 'e']\n",
      "['l', 'e', 'e', 't', 'c', 'o', 'd', 'e']\n"
     ]
    },
    {
     "data": {
      "text/plain": [
       "'leetcode'"
      ]
     },
     "execution_count": 11,
     "metadata": {},
     "output_type": "execute_result"
    }
   ],
   "source": [
    "solution = Solution()\n",
    "s = \"codeleet\"\n",
    "indices = [4,5,6,7,0,2,1,3]\n",
    "solution.restoreString(s, indices)"
   ]
  },
  {
   "cell_type": "markdown",
   "metadata": {},
   "source": [
    "# 1365. How Many Numbers Are Smaller Than the Current Number"
   ]
  },
  {
   "cell_type": "raw",
   "metadata": {},
   "source": [
    "Given the array nums, for each nums[i] find out how many numbers in the array are smaller than it. That is, for each nums[i] you have to count the number of valid j's such that j != i and nums[j] < nums[i].\n",
    "\n",
    "Return the answer in an array.\n",
    "\n",
    "Example 1:\n",
    "\n",
    "Input: nums = [8,1,2,2,3]\n",
    "Output: [4,0,1,1,3]\n",
    "Explanation: \n",
    "For nums[0]=8 there exist four smaller numbers than it (1, 2, 2 and 3). \n",
    "For nums[1]=1 does not exist any smaller number than it.\n",
    "For nums[2]=2 there exist one smaller number than it (1). \n",
    "For nums[3]=2 there exist one smaller number than it (1). \n",
    "For nums[4]=3 there exist three smaller numbers than it (1, 2 and 2).\n",
    "Example 2:\n",
    "\n",
    "Input: nums = [6,5,4,8]\n",
    "Output: [2,1,0,3]"
   ]
  },
  {
   "cell_type": "code",
   "execution_count": 17,
   "metadata": {},
   "outputs": [],
   "source": [
    "class Solution:\n",
    "    def smallerNumbersThanCurrent(self, nums: List[int]) -> List[int]:\n",
    "        nums1 = [None] * len(nums)\n",
    "        for i in range(len(nums)):\n",
    "            count = 0\n",
    "            for j in range(len(nums)):\n",
    "                if (j != i) & (nums[j] < nums[i]) :\n",
    "                    count += 1\n",
    "            nums1[i] = count\n",
    "        return nums1"
   ]
  },
  {
   "cell_type": "code",
   "execution_count": 18,
   "metadata": {},
   "outputs": [
    {
     "data": {
      "text/plain": [
       "[2, 1, 0, 3]"
      ]
     },
     "execution_count": 18,
     "metadata": {},
     "output_type": "execute_result"
    }
   ],
   "source": [
    "nums = [6,5,4,8]\n",
    "solution = Solution()\n",
    "solution.smallerNumbersThanCurrent(nums)"
   ]
  },
  {
   "cell_type": "code",
   "execution_count": null,
   "metadata": {},
   "outputs": [],
   "source": [
    "class Solution:\n",
    "    def smallerNumbersThanCurrent(self, nums: List[int]) -> List[int]:\n",
    "        nums1 = [None] * len(nums)\n",
    "        for i in range(len(nums)):\n",
    "            count = 0\n",
    "            for j in range(len(nums)):\n",
    "                if (j != i) & (nums[j] < nums[i]) :\n",
    "                    count += 1\n",
    "            nums1[i] = count\n",
    "        return nums1"
   ]
  },
  {
   "cell_type": "markdown",
   "metadata": {},
   "source": [
    "# 1281. Subtract the Product and Sum of Digits of an Integer"
   ]
  },
  {
   "cell_type": "raw",
   "metadata": {},
   "source": [
    "Given an integer number n, return the difference between the product of its digits and the sum of its digits.\n",
    "\n",
    "Example 1:\n",
    "\n",
    "Input: n = 234\n",
    "Output: 15 \n",
    "Explanation: \n",
    "Product of digits = 2 * 3 * 4 = 24 \n",
    "Sum of digits = 2 + 3 + 4 = 9 \n",
    "Result = 24 - 9 = 15\n",
    "\n",
    "Example 2:\n",
    "\n",
    "Input: n = 4421\n",
    "Output: 21\n",
    "Explanation: \n",
    "Product of digits = 4 * 4 * 2 * 1 = 32 \n",
    "Sum of digits = 4 + 4 + 2 + 1 = 11 \n",
    "Result = 32 - 11 = 21"
   ]
  },
  {
   "cell_type": "markdown",
   "metadata": {},
   "source": [
    "### My answer"
   ]
  },
  {
   "cell_type": "code",
   "execution_count": 4,
   "metadata": {},
   "outputs": [],
   "source": [
    "class Solution:\n",
    "    def subtractProductAndSum(self, n: int) -> int:\n",
    "        mul = 1\n",
    "        sum1 = 0\n",
    "        \n",
    "        for i in str(n):\n",
    "            mul *= int(i)\n",
    "            sum1 += int(i)\n",
    "        \n",
    "        return mul - sum1"
   ]
  },
  {
   "cell_type": "markdown",
   "metadata": {},
   "source": [
    "### Best answer"
   ]
  },
  {
   "cell_type": "code",
   "execution_count": 5,
   "metadata": {},
   "outputs": [
    {
     "data": {
      "text/plain": [
       "21"
      ]
     },
     "execution_count": 5,
     "metadata": {},
     "output_type": "execute_result"
    }
   ],
   "source": [
    "solution = Solution()\n",
    "n = 4421\n",
    "solution.subtractProductAndSum(n)"
   ]
  },
  {
   "cell_type": "code",
   "execution_count": 3,
   "metadata": {},
   "outputs": [],
   "source": [
    "import numpy as np\n",
    "\n",
    "class Solution:\n",
    "    def subtractProductAndSum(self, n: int) -> int:\n",
    "        a = [int(i) for i in str(n)]\n",
    "        return np.prod(a)- np.sum(a)"
   ]
  },
  {
   "cell_type": "code",
   "execution_count": 4,
   "metadata": {},
   "outputs": [
    {
     "data": {
      "text/plain": [
       "21"
      ]
     },
     "execution_count": 4,
     "metadata": {},
     "output_type": "execute_result"
    }
   ],
   "source": [
    "solution = Solution()\n",
    "n = 4421\n",
    "solution.subtractProductAndSum(n)"
   ]
  },
  {
   "cell_type": "markdown",
   "metadata": {},
   "source": [
    "# 1313. Decompress Run-Length Encoded List"
   ]
  },
  {
   "cell_type": "raw",
   "metadata": {},
   "source": [
    "We are given a list nums of integers representing a list compressed with run-length encoding.\n",
    "\n",
    "Consider each adjacent pair of elements [freq, val] = [nums[2*i], nums[2*i+1]] (with i >= 0).  For each such pair, there are freq elements with value val concatenated in a sublist. Concatenate all the sublists from left to right to generate the decompressed list.\n",
    "\n",
    "Return the decompressed list.\n",
    " \n",
    "\n",
    "Example 1:\n",
    "\n",
    "Input: nums = [1,2,3,4]\n",
    "Output: [2,4,4,4]\n",
    "Explanation: The first pair [1,2] means we have freq = 1 and val = 2 so we generate the array [2].\n",
    "The second pair [3,4] means we have freq = 3 and val = 4 so we generate [4,4,4].\n",
    "At the end the concatenation [2] + [4,4,4] is [2,4,4,4].\n",
    "Example 2:\n",
    "\n",
    "Input: nums = [1,1,2,3]\n",
    "Output: [1,3,3]"
   ]
  },
  {
   "cell_type": "markdown",
   "metadata": {},
   "source": [
    "### My answer"
   ]
  },
  {
   "cell_type": "code",
   "execution_count": 33,
   "metadata": {},
   "outputs": [],
   "source": [
    "class Solution:\n",
    "    def decompressRLElist(self, nums: List[int]) -> List[int]:\n",
    "        output = []\n",
    "        for i in range(1, len(nums), 2):\n",
    "                output.extend([nums[i]] * nums[i-1])\n",
    "        return output"
   ]
  },
  {
   "cell_type": "code",
   "execution_count": 35,
   "metadata": {},
   "outputs": [
    {
     "data": {
      "text/plain": [
       "[1, 3, 3]"
      ]
     },
     "execution_count": 35,
     "metadata": {},
     "output_type": "execute_result"
    }
   ],
   "source": [
    "solution = Solution()\n",
    "nums = [1,1,2,3]\n",
    "solution.decompressRLElist(nums)"
   ]
  },
  {
   "cell_type": "markdown",
   "metadata": {},
   "source": [
    "### Best answer"
   ]
  },
  {
   "cell_type": "code",
   "execution_count": 37,
   "metadata": {},
   "outputs": [],
   "source": [
    "class Solution:    \n",
    "    def decompressRLElist(self, A):\n",
    "        return [x for a, b in zip(A[0::2], A[1::2]) for x in [b] * a]"
   ]
  },
  {
   "cell_type": "markdown",
   "metadata": {},
   "source": [
    "# 1389. Create Target Array in the Given Order"
   ]
  },
  {
   "cell_type": "raw",
   "metadata": {},
   "source": [
    "Given two arrays of integers nums and index. Your task is to create target array under the following rules:\n",
    "\n",
    "Initially target array is empty.\n",
    "From left to right read nums[i] and index[i], insert at index index[i] the value nums[i] in target array.\n",
    "Repeat the previous step until there are no elements to read in nums and index.\n",
    "Return the target array.\n",
    "\n",
    "It is guaranteed that the insertion operations will be valid.\n",
    "\n",
    "\n",
    "Example 1:\n",
    "\n",
    "Input: nums = [0,1,2,3,4], index = [0,1,2,2,1]\n",
    "Output: [0,4,1,3,2]\n",
    "Explanation:\n",
    "nums       index     target\n",
    "0            0        [0]\n",
    "1            1        [0,1]\n",
    "2            2        [0,1,2]\n",
    "3            2        [0,1,3,2]\n",
    "4            1        [0,4,1,3,2]\n",
    "Example 2:\n",
    "\n",
    "Input: nums = [1,2,3,4,0], index = [0,1,2,3,0]\n",
    "Output: [0,1,2,3,4]\n",
    "Explanation:\n",
    "nums       index     target\n",
    "1            0        [1]\n",
    "2            1        [1,2]\n",
    "3            2        [1,2,3]\n",
    "4            3        [1,2,3,4]\n",
    "0            0        [0,1,2,3,4]"
   ]
  },
  {
   "cell_type": "markdown",
   "metadata": {},
   "source": [
    "### My solution"
   ]
  },
  {
   "cell_type": "code",
   "execution_count": 30,
   "metadata": {
    "scrolled": true
   },
   "outputs": [],
   "source": [
    "class Solution:\n",
    "    def createTargetArray(self, nums: List[int], index: List[int]) -> List[int]:\n",
    "        output = [None] * len(nums)\n",
    "        head = []\n",
    "        tail = []\n",
    "        \n",
    "        for i, k in zip(index, nums):\n",
    "            if output[i] != None:\n",
    "                head = output[:i]\n",
    "                tail = output[i:]\n",
    "                output = []\n",
    "                output.extend(head)\n",
    "                output.append(k)\n",
    "                output.extend(tail)\n",
    "            else:\n",
    "                output[i] = k\n",
    "        return output[:len(nums)]"
   ]
  },
  {
   "cell_type": "code",
   "execution_count": 31,
   "metadata": {},
   "outputs": [
    {
     "data": {
      "text/plain": [
       "[0, 4, 1, 3, 2]"
      ]
     },
     "execution_count": 31,
     "metadata": {},
     "output_type": "execute_result"
    }
   ],
   "source": [
    "solution = Solution()\n",
    "\n",
    "nums = [0,1,2,3,4]\n",
    "index = [0,1,2,2,1]\n",
    "\n",
    "# nums = [5,11,1,1,15,13,17,10,11,7,13,9,1,14,8,12,12,10,10]\n",
    "# index = [0,0,2,1,3,0,2,1,6,8,2,4,4,1,5,3,11,4,7]\n",
    "\n",
    "solution.createTargetArray(nums, index)"
   ]
  },
  {
   "cell_type": "markdown",
   "metadata": {},
   "source": [
    "### Best solution"
   ]
  },
  {
   "cell_type": "code",
   "execution_count": 34,
   "metadata": {},
   "outputs": [],
   "source": [
    "class Solution:\n",
    "    def createTargetArray(self, nums: List[int], index: List[int]) -> List[int]:\n",
    "        res = []\n",
    "        for i, v in zip(index, nums):\n",
    "            res.insert(i, v)\n",
    "        return res    "
   ]
  },
  {
   "cell_type": "code",
   "execution_count": 35,
   "metadata": {},
   "outputs": [
    {
     "data": {
      "text/plain": [
       "[0, 4, 1, 3, 2]"
      ]
     },
     "execution_count": 35,
     "metadata": {},
     "output_type": "execute_result"
    }
   ],
   "source": [
    "solution = Solution()\n",
    "\n",
    "nums = [0,1,2,3,4]\n",
    "index = [0,1,2,2,1]\n",
    "\n",
    "# nums = [5,11,1,1,15,13,17,10,11,7,13,9,1,14,8,12,12,10,10]\n",
    "# index = [0,0,2,1,3,0,2,1,6,8,2,4,4,1,5,3,11,4,7]\n",
    "\n",
    "solution.createTargetArray(nums, index)"
   ]
  },
  {
   "cell_type": "markdown",
   "metadata": {},
   "source": [
    "# 1486. XOR Operation in an Array"
   ]
  },
  {
   "cell_type": "raw",
   "metadata": {},
   "source": [
    "Given an integer n and an integer start.\n",
    "\n",
    "Define an array nums where nums[i] = start + 2*i (0-indexed) and n == nums.length.\n",
    "\n",
    "Return the bitwise XOR of all elements of nums.\n",
    "\n",
    " \n",
    "\n",
    "Example 1:\n",
    "\n",
    "Input: n = 5, start = 0\n",
    "Output: 8\n",
    "Explanation: Array nums is equal to [0, 2, 4, 6, 8] where (0 ^ 2 ^ 4 ^ 6 ^ 8) = 8.\n",
    "Where \"^\" corresponds to bitwise XOR operator.\n",
    "Example 2:\n",
    "\n",
    "Input: n = 4, start = 3\n",
    "Output: 8\n",
    "Explanation: Array nums is equal to [3, 5, 7, 9] where (3 ^ 5 ^ 7 ^ 9) = 8.\n",
    "Example 3:\n",
    "\n",
    "Input: n = 1, start = 7\n",
    "Output: 7"
   ]
  },
  {
   "cell_type": "markdown",
   "metadata": {},
   "source": [
    "### My solution"
   ]
  },
  {
   "cell_type": "code",
   "execution_count": 19,
   "metadata": {},
   "outputs": [],
   "source": [
    "class Solution:\n",
    "    def xorOperation(self, n: int, start: int) -> int:\n",
    "        output = 0\n",
    "        numbers = []\n",
    "        for i in range(n):\n",
    "            numbers.append(start + 2 * i)\n",
    "            output ^= numbers[i]\n",
    "        return output"
   ]
  },
  {
   "cell_type": "code",
   "execution_count": 53,
   "metadata": {},
   "outputs": [
    {
     "data": {
      "text/plain": [
       "[0, 2, 4, 6, 8]"
      ]
     },
     "execution_count": 53,
     "metadata": {},
     "output_type": "execute_result"
    }
   ],
   "source": [
    "solution = Solution()\n",
    "n = 5\n",
    "start = 0\n",
    "solution.xorOperation(n, start)"
   ]
  },
  {
   "cell_type": "code",
   "execution_count": 68,
   "metadata": {},
   "outputs": [
    {
     "ename": "SyntaxError",
     "evalue": "invalid syntax (<ipython-input-68-e3e5e5623b89>, line 4)",
     "output_type": "error",
     "traceback": [
      "\u001b[0;36m  File \u001b[0;32m\"<ipython-input-68-e3e5e5623b89>\"\u001b[0;36m, line \u001b[0;32m4\u001b[0m\n\u001b[0;31m    output ^= (start + 2 * i) for i in range(n)\u001b[0m\n\u001b[0m                                ^\u001b[0m\n\u001b[0;31mSyntaxError\u001b[0m\u001b[0;31m:\u001b[0m invalid syntax\n"
     ]
    }
   ],
   "source": [
    "class Solution:\n",
    "    def xorOperation(self, n: int, start: int) -> int:\n",
    "        output = 0\n",
    "        for i in range(n):\n",
    "            output ^= start + 2 * i\n",
    "        return output"
   ]
  },
  {
   "cell_type": "code",
   "execution_count": 69,
   "metadata": {},
   "outputs": [
    {
     "data": {
      "text/plain": [
       "8"
      ]
     },
     "execution_count": 69,
     "metadata": {},
     "output_type": "execute_result"
    }
   ],
   "source": [
    "solution = Solution()\n",
    "n = 5\n",
    "start = 0\n",
    "solution.xorOperation(n, start)"
   ]
  },
  {
   "cell_type": "markdown",
   "metadata": {},
   "source": [
    "# 1603. Design Parking System"
   ]
  },
  {
   "cell_type": "raw",
   "metadata": {},
   "source": [
    "Design a parking system for a parking lot. The parking lot has three kinds of parking spaces: big, medium, and small, with a fixed number of slots for each size.\n",
    "\n",
    "Implement the ParkingSystem class:\n",
    "\n",
    "ParkingSystem(int big, int medium, int small) Initializes object of the ParkingSystem class. The number of slots for each parking space are given as part of the constructor.\n",
    "bool addCar(int carType) Checks whether there is a parking space of carType for the car that wants to get into the parking lot. carType can be of three kinds: big, medium, or small, which are represented by 1, 2, and 3 respectively. A car can only park in a parking space of its carType. If there is no space available, return false, else park the car in that size space and return true.\n",
    " \n",
    "\n",
    "Example 1:\n",
    "\n",
    "Input\n",
    "[\"ParkingSystem\", \"addCar\", \"addCar\", \"addCar\", \"addCar\"]\n",
    "[[1, 1, 0], [1], [2], [3], [1]]\n",
    "Output\n",
    "[null, true, true, false, false]\n",
    "\n",
    "Explanation\n",
    "ParkingSystem parkingSystem = new ParkingSystem(1, 1, 0);\n",
    "parkingSystem.addCar(1); // return true because there is 1 available slot for a big car\n",
    "parkingSystem.addCar(2); // return true because there is 1 available slot for a medium car\n",
    "parkingSystem.addCar(3); // return false because there is no available slot for a small car\n",
    "parkingSystem.addCar(1); // return false because there is no available slot for a big car. It is already occupied."
   ]
  },
  {
   "cell_type": "markdown",
   "metadata": {},
   "source": [
    "### My solution"
   ]
  },
  {
   "cell_type": "code",
   "execution_count": 109,
   "metadata": {},
   "outputs": [],
   "source": [
    "class ParkingSystem:\n",
    "\n",
    "    def __init__(self, big: int, medium: int, small: int):\n",
    "        self.big = big\n",
    "        self.medium = medium\n",
    "        self.small = small\n",
    "        self.parking = [self.big, self.medium, self.small]\n",
    "        \n",
    "    def addCar(self, carType: int) -> bool:\n",
    "        self.carType = carType\n",
    "        if self.carType == 1:\n",
    "            if self.parking[0] != 0:\n",
    "                self.parking[0] -= 1\n",
    "                self.result = True\n",
    "            else:\n",
    "                self.result = False\n",
    "        elif self.carType == 2:\n",
    "            if self.parking[1] != 0:\n",
    "                self.parking[1] -= 1\n",
    "                self.result = True\n",
    "            else:\n",
    "                self.result = False\n",
    "        else:\n",
    "            if self.parking[2] != 0:\n",
    "                self.parking[2] -= 1\n",
    "                self.result = True\n",
    "            else:\n",
    "                self.result = False\n",
    "        return self.result"
   ]
  },
  {
   "cell_type": "code",
   "execution_count": 112,
   "metadata": {},
   "outputs": [
    {
     "data": {
      "text/plain": [
       "False"
      ]
     },
     "execution_count": 112,
     "metadata": {},
     "output_type": "execute_result"
    }
   ],
   "source": [
    "# Your ParkingSystem object will be instantiated and called as such:\n",
    "# obj = ParkingSystem(big, medium, small)\n",
    "# param_1 = obj.addCar(carType)\n",
    "# [\"ParkingSystem\", \"addCar\", \"addCar\", \"addCar\", \"addCar\"]\n",
    "# [[1, 1, 0], [1], [2], [3], [1]]\n",
    "\n",
    "parkingSystem = ParkingSystem(1, 1, 0)\n",
    "parkingSystem.addCar(1)\n",
    "parkingSystem.addCar(2)\n",
    "parkingSystem.addCar(3)\n",
    "parkingSystem.addCar(1)"
   ]
  },
  {
   "cell_type": "code",
   "execution_count": 111,
   "metadata": {},
   "outputs": [],
   "source": [
    "class ParkingSystem:\n",
    "\n",
    "    def __init__(self, big: int, medium: int, small: int):\n",
    "        self.arr  =[big,medium,small]\n",
    "    def addCar(self, carType: int) -> bool:\n",
    "        if(self.arr[carType-1]):\n",
    "            self.arr[carType-1]-=1\n",
    "            return True\n",
    "        return False"
   ]
  },
  {
   "cell_type": "markdown",
   "metadata": {},
   "source": [
    "# 1221. Split a String in Balanced Strings"
   ]
  },
  {
   "cell_type": "raw",
   "metadata": {},
   "source": [
    "Balanced strings are those who have equal quantity of 'L' and 'R' characters.\n",
    "\n",
    "Given a balanced string s split it in the maximum amount of balanced strings.\n",
    "\n",
    "Return the maximum amount of splitted balanced strings.\n",
    "\n",
    "Example 1:\n",
    "\n",
    "Input: s = \"RLRRLLRLRL\"\n",
    "Output: 4\n",
    "Explanation: s can be split into \"RL\", \"RRLL\", \"RL\", \"RL\", each substring contains same number of 'L' and 'R'.\n",
    "Example 2:\n",
    "\n",
    "Input: s = \"RLLLLRRRLR\"\n",
    "Output: 3\n",
    "Explanation: s can be split into \"RL\", \"LLLRRR\", \"LR\", each substring contains same number of 'L' and 'R'.\n",
    "Example 3:\n",
    "\n",
    "Input: s = \"LLLLRRRR\"\n",
    "Output: 1\n",
    "Explanation: s can be split into \"LLLLRRRR\"."
   ]
  },
  {
   "cell_type": "markdown",
   "metadata": {},
   "source": [
    "### My solution"
   ]
  },
  {
   "cell_type": "code",
   "execution_count": 145,
   "metadata": {},
   "outputs": [],
   "source": [
    "class Solution:\n",
    "    def balancedStringSplit(self, s: str) -> int:\n",
    "        count = 0\n",
    "        res = 0\n",
    "        for i in range(len(s)):\n",
    "            if s[i] == \"L\":\n",
    "                count += 1\n",
    "            else:\n",
    "                count -= 1\n",
    "            if count == 0:\n",
    "                res += 1\n",
    "        return res"
   ]
  },
  {
   "cell_type": "code",
   "execution_count": 146,
   "metadata": {},
   "outputs": [
    {
     "data": {
      "text/plain": [
       "1"
      ]
     },
     "execution_count": 146,
     "metadata": {},
     "output_type": "execute_result"
    }
   ],
   "source": [
    "s = \"LLLLRRRR\"\n",
    "solution = Solution()\n",
    "solution.balancedStringSplit(s)"
   ]
  },
  {
   "cell_type": "code",
   "execution_count": 161,
   "metadata": {},
   "outputs": [],
   "source": [
    "class Solution:\n",
    "    def balancedStringSplit(self, s: str) -> int:\n",
    "        count = res = 0\n",
    "        for i in range(len(s)):\n",
    "            count += 1 if s[i] == \"L\" else -1\n",
    "            res += 1 and count == 0\n",
    "        return res"
   ]
  },
  {
   "cell_type": "code",
   "execution_count": 162,
   "metadata": {},
   "outputs": [
    {
     "data": {
      "text/plain": [
       "4"
      ]
     },
     "execution_count": 162,
     "metadata": {},
     "output_type": "execute_result"
    }
   ],
   "source": [
    "s = \"RLRRLLRLRL\"\n",
    "solution = Solution()\n",
    "solution.balancedStringSplit(s)"
   ]
  },
  {
   "cell_type": "markdown",
   "metadata": {},
   "source": [
    "### Best solution"
   ]
  },
  {
   "cell_type": "code",
   "execution_count": 5,
   "metadata": {},
   "outputs": [],
   "source": [
    "from itertools import accumulate as acc\n",
    "class Solution:\n",
    "    def balancedStringSplit(self, s: str) -> int:\n",
    "        return list(acc(map({'L': 1, 'R': -1}.get, s))).count(0)"
   ]
  },
  {
   "cell_type": "code",
   "execution_count": 6,
   "metadata": {},
   "outputs": [
    {
     "data": {
      "text/plain": [
       "4"
      ]
     },
     "execution_count": 6,
     "metadata": {},
     "output_type": "execute_result"
    }
   ],
   "source": [
    "s = \"RLRRLLRLRL\"\n",
    "solution = Solution()\n",
    "solution.balancedStringSplit(s)"
   ]
  },
  {
   "cell_type": "markdown",
   "metadata": {},
   "source": [
    "# 938. Range Sum of BST"
   ]
  },
  {
   "cell_type": "raw",
   "metadata": {},
   "source": [
    "Given the root node of a binary search tree, return the sum of values of all nodes with value between L and R (inclusive).\n",
    "\n",
    "The binary search tree is guaranteed to have unique values.\n",
    "\n",
    "Example 1:\n",
    "\n",
    "Input: root = [10,5,15,3,7,null,18], L = 7, R = 15\n",
    "Output: 32\n",
    "Example 2:\n",
    "\n",
    "Input: root = [10,5,15,3,7,13,18,1,null,6], L = 6, R = 10\n",
    "Output: 23"
   ]
  },
  {
   "cell_type": "markdown",
   "metadata": {},
   "source": [
    "### My solution"
   ]
  },
  {
   "cell_type": "code",
   "execution_count": 67,
   "metadata": {},
   "outputs": [],
   "source": [
    "# Definition for a binary tree node.\n",
    "class TreeNode:\n",
    "    def __init__(self, val = 0, left = None, right = None):\n",
    "        self.val = val\n",
    "        self.left = left\n",
    "        self.right = right\n",
    "class Solution:\n",
    "    def rangeSumBST(self, root: TreeNode, L: int, R: int) -> int:\n",
    "        sum1 = 0\n",
    "        for i in root:\n",
    "#             print(i)\n",
    "            if (i >= L) & (i <= R):\n",
    "                sum1 += i\n",
    "#                 print(\"sum1\", sum1)\n",
    "        return sum1"
   ]
  },
  {
   "cell_type": "code",
   "execution_count": 68,
   "metadata": {},
   "outputs": [
    {
     "ename": "AttributeError",
     "evalue": "'list' object has no attribute 'val'",
     "output_type": "error",
     "traceback": [
      "\u001b[0;31m---------------------------------------------------------------------------\u001b[0m",
      "\u001b[0;31mAttributeError\u001b[0m                            Traceback (most recent call last)",
      "\u001b[0;32m<ipython-input-68-c2e1c7bf6108>\u001b[0m in \u001b[0;36m<module>\u001b[0;34m\u001b[0m\n\u001b[1;32m      3\u001b[0m \u001b[0mR\u001b[0m \u001b[0;34m=\u001b[0m \u001b[0;36m10\u001b[0m\u001b[0;34m\u001b[0m\u001b[0;34m\u001b[0m\u001b[0m\n\u001b[1;32m      4\u001b[0m \u001b[0msolution\u001b[0m \u001b[0;34m=\u001b[0m \u001b[0mSolution\u001b[0m\u001b[0;34m(\u001b[0m\u001b[0;34m)\u001b[0m\u001b[0;34m\u001b[0m\u001b[0;34m\u001b[0m\u001b[0m\n\u001b[0;32m----> 5\u001b[0;31m \u001b[0msolution\u001b[0m\u001b[0;34m.\u001b[0m\u001b[0mrangeSumBST\u001b[0m\u001b[0;34m(\u001b[0m\u001b[0mroot\u001b[0m\u001b[0;34m,\u001b[0m \u001b[0mL\u001b[0m\u001b[0;34m,\u001b[0m \u001b[0mR\u001b[0m\u001b[0;34m)\u001b[0m\u001b[0;34m\u001b[0m\u001b[0;34m\u001b[0m\u001b[0m\n\u001b[0m",
      "\u001b[0;32m<ipython-input-67-c2fd37c84b55>\u001b[0m in \u001b[0;36mrangeSumBST\u001b[0;34m(self, root, L, R)\u001b[0m\n\u001b[1;32m      8\u001b[0m     \u001b[0;32mdef\u001b[0m \u001b[0mrangeSumBST\u001b[0m\u001b[0;34m(\u001b[0m\u001b[0mself\u001b[0m\u001b[0;34m,\u001b[0m \u001b[0mroot\u001b[0m\u001b[0;34m:\u001b[0m \u001b[0mTreeNode\u001b[0m\u001b[0;34m,\u001b[0m \u001b[0mL\u001b[0m\u001b[0;34m:\u001b[0m \u001b[0mint\u001b[0m\u001b[0;34m,\u001b[0m \u001b[0mR\u001b[0m\u001b[0;34m:\u001b[0m \u001b[0mint\u001b[0m\u001b[0;34m)\u001b[0m \u001b[0;34m->\u001b[0m \u001b[0mint\u001b[0m\u001b[0;34m:\u001b[0m\u001b[0;34m\u001b[0m\u001b[0;34m\u001b[0m\u001b[0m\n\u001b[1;32m      9\u001b[0m         \u001b[0msum1\u001b[0m \u001b[0;34m=\u001b[0m \u001b[0;36m0\u001b[0m\u001b[0;34m\u001b[0m\u001b[0;34m\u001b[0m\u001b[0m\n\u001b[0;32m---> 10\u001b[0;31m         \u001b[0;32mfor\u001b[0m \u001b[0mi\u001b[0m \u001b[0;32min\u001b[0m \u001b[0mroot\u001b[0m\u001b[0;34m.\u001b[0m\u001b[0mval\u001b[0m\u001b[0;34m:\u001b[0m\u001b[0;34m\u001b[0m\u001b[0;34m\u001b[0m\u001b[0m\n\u001b[0m\u001b[1;32m     11\u001b[0m \u001b[0;31m#             print(i)\u001b[0m\u001b[0;34m\u001b[0m\u001b[0;34m\u001b[0m\u001b[0;34m\u001b[0m\u001b[0m\n\u001b[1;32m     12\u001b[0m             \u001b[0;32mif\u001b[0m \u001b[0;34m(\u001b[0m\u001b[0mi\u001b[0m \u001b[0;34m>=\u001b[0m \u001b[0mL\u001b[0m\u001b[0;34m)\u001b[0m \u001b[0;34m&\u001b[0m \u001b[0;34m(\u001b[0m\u001b[0mi\u001b[0m \u001b[0;34m<=\u001b[0m \u001b[0mR\u001b[0m\u001b[0;34m)\u001b[0m\u001b[0;34m:\u001b[0m\u001b[0;34m\u001b[0m\u001b[0;34m\u001b[0m\u001b[0m\n",
      "\u001b[0;31mAttributeError\u001b[0m: 'list' object has no attribute 'val'"
     ]
    }
   ],
   "source": [
    "root = [10,5,15,3,7,13,18,1,6]\n",
    "L = 6\n",
    "R = 10\n",
    "solution = Solution()\n",
    "solution.rangeSumBST(root, L, R)"
   ]
  },
  {
   "cell_type": "markdown",
   "metadata": {},
   "source": [
    "### Best solution"
   ]
  },
  {
   "cell_type": "code",
   "execution_count": 16,
   "metadata": {},
   "outputs": [],
   "source": [
    "# Definition for a binary tree node.\n",
    "\n",
    "class TreeNode:\n",
    "    def __init__(self, val = 0, left = None, right = None):\n",
    "        self.val = val\n",
    "        self.left = left\n",
    "        self.right = right\n",
    "        \n",
    "class Solution(object):\n",
    "    def rangeSumBST(self, root: TreeNode, L, R):\n",
    "        if not root:\n",
    "            return 0\n",
    "\n",
    "        current = left = right = 0\n",
    "\n",
    "        if R < root.val:\n",
    "            left = self.rangeSumBST(root.left, L, R)\n",
    "        elif L > root.val:\n",
    "            right = self.rangeSumBST(root.right, L, R)\n",
    "        else:\n",
    "            current = root.val\n",
    "            left = self.rangeSumBST(root.left, L, R)\n",
    "            right = self.rangeSumBST(root.right, L, R)\n",
    "\n",
    "        return current + left + right"
   ]
  },
  {
   "cell_type": "code",
   "execution_count": 5,
   "metadata": {
    "scrolled": true
   },
   "outputs": [
    {
     "ename": "NameError",
     "evalue": "name 'Solution' is not defined",
     "output_type": "error",
     "traceback": [
      "\u001b[0;31m---------------------------------------------------------------------------\u001b[0m",
      "\u001b[0;31mNameError\u001b[0m                                 Traceback (most recent call last)",
      "\u001b[0;32m<ipython-input-5-c2e1c7bf6108>\u001b[0m in \u001b[0;36m<module>\u001b[0;34m\u001b[0m\n\u001b[1;32m      2\u001b[0m \u001b[0mL\u001b[0m \u001b[0;34m=\u001b[0m \u001b[0;36m6\u001b[0m\u001b[0;34m\u001b[0m\u001b[0;34m\u001b[0m\u001b[0m\n\u001b[1;32m      3\u001b[0m \u001b[0mR\u001b[0m \u001b[0;34m=\u001b[0m \u001b[0;36m10\u001b[0m\u001b[0;34m\u001b[0m\u001b[0;34m\u001b[0m\u001b[0m\n\u001b[0;32m----> 4\u001b[0;31m \u001b[0msolution\u001b[0m \u001b[0;34m=\u001b[0m \u001b[0mSolution\u001b[0m\u001b[0;34m(\u001b[0m\u001b[0;34m)\u001b[0m\u001b[0;34m\u001b[0m\u001b[0;34m\u001b[0m\u001b[0m\n\u001b[0m\u001b[1;32m      5\u001b[0m \u001b[0msolution\u001b[0m\u001b[0;34m.\u001b[0m\u001b[0mrangeSumBST\u001b[0m\u001b[0;34m(\u001b[0m\u001b[0mroot\u001b[0m\u001b[0;34m,\u001b[0m \u001b[0mL\u001b[0m\u001b[0;34m,\u001b[0m \u001b[0mR\u001b[0m\u001b[0;34m)\u001b[0m\u001b[0;34m\u001b[0m\u001b[0;34m\u001b[0m\u001b[0m\n",
      "\u001b[0;31mNameError\u001b[0m: name 'Solution' is not defined"
     ]
    }
   ],
   "source": [
    "list1 = [10,5,15,3,7,13,18,1,6]\n",
    "L = 6\n",
    "R = 10\n",
    "solution = Solution()\n",
    "solution.rangeSumBST(root, L, R)"
   ]
  },
  {
   "cell_type": "code",
   "execution_count": 1,
   "metadata": {},
   "outputs": [],
   "source": [
    "class TreeNode:\n",
    "    def __init__(self, val = 0, left = None, right = None):\n",
    "        self.val = val\n",
    "        self.left = left\n",
    "        self.right = right"
   ]
  },
  {
   "cell_type": "code",
   "execution_count": 3,
   "metadata": {
    "scrolled": false
   },
   "outputs": [
    {
     "name": "stdout",
     "output_type": "stream",
     "text": [
      "10\n",
      "10\n"
     ]
    },
    {
     "ename": "AttributeError",
     "evalue": "'int' object has no attribute 'left'",
     "output_type": "error",
     "traceback": [
      "\u001b[0;31m---------------------------------------------------------------------------\u001b[0m",
      "\u001b[0;31mAttributeError\u001b[0m                            Traceback (most recent call last)",
      "\u001b[0;32m<ipython-input-3-d60fba134532>\u001b[0m in \u001b[0;36m<module>\u001b[0;34m\u001b[0m\n\u001b[1;32m     10\u001b[0m \u001b[0;34m\u001b[0m\u001b[0m\n\u001b[1;32m     11\u001b[0m     \u001b[0mprint\u001b[0m\u001b[0;34m(\u001b[0m\u001b[0mroot\u001b[0m\u001b[0;34m.\u001b[0m\u001b[0mval\u001b[0m\u001b[0;34m)\u001b[0m\u001b[0;34m\u001b[0m\u001b[0;34m\u001b[0m\u001b[0m\n\u001b[0;32m---> 12\u001b[0;31m     \u001b[0mprint\u001b[0m\u001b[0;34m(\u001b[0m\u001b[0mroot\u001b[0m\u001b[0;34m.\u001b[0m\u001b[0mval\u001b[0m\u001b[0;34m.\u001b[0m\u001b[0mleft\u001b[0m\u001b[0;34m)\u001b[0m\u001b[0;34m\u001b[0m\u001b[0;34m\u001b[0m\u001b[0m\n\u001b[0m\u001b[1;32m     13\u001b[0m     \u001b[0mprint\u001b[0m\u001b[0;34m(\u001b[0m\u001b[0mroot\u001b[0m\u001b[0;34m.\u001b[0m\u001b[0mval\u001b[0m\u001b[0;34m.\u001b[0m\u001b[0mright\u001b[0m\u001b[0;34m)\u001b[0m\u001b[0;34m\u001b[0m\u001b[0;34m\u001b[0m\u001b[0m\n\u001b[1;32m     14\u001b[0m \u001b[0;34m\u001b[0m\u001b[0m\n",
      "\u001b[0;31mAttributeError\u001b[0m: 'int' object has no attribute 'left'"
     ]
    }
   ],
   "source": [
    "list1 = [10,5,15,3,7,13,18,1,6]\n",
    "\n",
    "for i in list1:\n",
    "    root = TreeNode(i)\n",
    "    print(root.val)\n",
    "    if root.val < 10:\n",
    "        root.left = TreeNode(i)\n",
    "    elif root.val > 10:\n",
    "        root.right.val = i\n",
    "    \n",
    "#     print(root.val)\n",
    "#     print(root.val.left)\n",
    "#     print(root.val.right)\n",
    "    \n",
    "\n",
    "# for i in TreeNode(list1)\n",
    "#     if not root.val:\n",
    "#         return 0\n",
    "#     if root.val < left:\n",
    "    \n",
    "    \n",
    "\n",
    "# print(\"root.val\", root.val)\n",
    "# print(\"root.left.val\", root.left.val)\n",
    "# print(\"root.right.val\", root.right.val)"
   ]
  },
  {
   "cell_type": "code",
   "execution_count": 2,
   "metadata": {},
   "outputs": [],
   "source": [
    "class TreeNode:\n",
    "    def __init__(self, val = 0, left = None, right = None):\n",
    "        self.val = val\n",
    "        self.left = left\n",
    "        self.right = right"
   ]
  },
  {
   "cell_type": "code",
   "execution_count": 13,
   "metadata": {
    "scrolled": false
   },
   "outputs": [
    {
     "name": "stdout",
     "output_type": "stream",
     "text": [
      "root.left.val 5\n",
      "root.val 5\n",
      "root.right.val 15\n",
      "root.val 15\n",
      "root.left.val 3\n",
      "root.val 3\n",
      "root.right.val 7\n",
      "root.val 7\n"
     ]
    }
   ],
   "source": [
    "list1 = [10,5,15,3,7]#,13,18,1,6]\n",
    "\n",
    "root = TreeNode(10)\n",
    "current = left = right = 0\n",
    "\n",
    "for i in range(len(list1)):\n",
    "#     print(\"list1[]\", list1[i])\n",
    "    if list1[i] < min1:\n",
    "        root.left = TreeNode(min1)\n",
    "        print(\"root.left.val\", root.left.val)\n",
    "    elif list1[i] > max1:\n",
    "        root.right = TreeNode(max1)\n",
    "        print(\"root.right.val\", root.right.val)\n",
    "    \n",
    "    root = TreeNode(list1[i])\n",
    "    print(\"root.val\", root.val)"
   ]
  },
  {
   "cell_type": "code",
   "execution_count": 9,
   "metadata": {},
   "outputs": [
    {
     "name": "stdout",
     "output_type": "stream",
     "text": [
      "5\n"
     ]
    }
   ],
   "source": [
    "root = TreeNode(10)\n",
    "root.left = TreeNode(5)\n",
    "root.right = TreeNode(15)\n",
    "\n",
    "print(root.left.val)"
   ]
  },
  {
   "cell_type": "code",
   "execution_count": 23,
   "metadata": {
    "scrolled": true
   },
   "outputs": [
    {
     "name": "stdout",
     "output_type": "stream",
     "text": [
      "root.left.val 5\n",
      "root.right.val 15\n",
      "root.left.val 3\n",
      "root.right.val 7\n"
     ]
    },
    {
     "ename": "IndexError",
     "evalue": "list index out of range",
     "output_type": "error",
     "traceback": [
      "\u001b[0;31m---------------------------------------------------------------------------\u001b[0m",
      "\u001b[0;31mIndexError\u001b[0m                                Traceback (most recent call last)",
      "\u001b[0;32m<ipython-input-23-b0a176545dfe>\u001b[0m in \u001b[0;36m<module>\u001b[0;34m\u001b[0m\n\u001b[1;32m      4\u001b[0m \u001b[0;34m\u001b[0m\u001b[0m\n\u001b[1;32m      5\u001b[0m \u001b[0;32mfor\u001b[0m \u001b[0mi\u001b[0m \u001b[0;32min\u001b[0m \u001b[0mrange\u001b[0m\u001b[0;34m(\u001b[0m\u001b[0;36m4\u001b[0m\u001b[0;34m)\u001b[0m\u001b[0;34m:\u001b[0m\u001b[0;34m\u001b[0m\u001b[0;34m\u001b[0m\u001b[0m\n\u001b[0;32m----> 6\u001b[0;31m     \u001b[0mroot\u001b[0m \u001b[0;34m=\u001b[0m  \u001b[0mTreeNode\u001b[0m\u001b[0;34m(\u001b[0m\u001b[0mlist1\u001b[0m\u001b[0;34m[\u001b[0m\u001b[0mi\u001b[0m\u001b[0;34m]\u001b[0m\u001b[0;34m,\u001b[0m \u001b[0mTreeNode\u001b[0m\u001b[0;34m(\u001b[0m\u001b[0mlist1\u001b[0m\u001b[0;34m[\u001b[0m\u001b[0mi\u001b[0m \u001b[0;34m*\u001b[0m \u001b[0;36m2\u001b[0m \u001b[0;34m+\u001b[0m \u001b[0;36m1\u001b[0m\u001b[0;34m]\u001b[0m\u001b[0;34m)\u001b[0m\u001b[0;34m,\u001b[0m \u001b[0mTreeNode\u001b[0m\u001b[0;34m(\u001b[0m\u001b[0mlist1\u001b[0m\u001b[0;34m[\u001b[0m\u001b[0mi\u001b[0m \u001b[0;34m*\u001b[0m \u001b[0;36m2\u001b[0m \u001b[0;34m+\u001b[0m \u001b[0;36m2\u001b[0m\u001b[0;34m]\u001b[0m\u001b[0;34m)\u001b[0m\u001b[0;34m)\u001b[0m\u001b[0;34m\u001b[0m\u001b[0;34m\u001b[0m\u001b[0m\n\u001b[0m\u001b[1;32m      7\u001b[0m \u001b[0;34m\u001b[0m\u001b[0m\n\u001b[1;32m      8\u001b[0m     \u001b[0mprint\u001b[0m\u001b[0;34m(\u001b[0m\u001b[0;34m\"root.left.val\"\u001b[0m\u001b[0;34m,\u001b[0m \u001b[0mroot\u001b[0m\u001b[0;34m.\u001b[0m\u001b[0mleft\u001b[0m\u001b[0;34m.\u001b[0m\u001b[0mval\u001b[0m\u001b[0;34m)\u001b[0m\u001b[0;34m\u001b[0m\u001b[0;34m\u001b[0m\u001b[0m\n",
      "\u001b[0;31mIndexError\u001b[0m: list index out of range"
     ]
    }
   ],
   "source": [
    "list1 = [10,5,15,3,7]#,13,18,1,6]\n",
    "\n",
    "# current = left = right = 0\n",
    "\n",
    "for i in range(4):\n",
    "    root =  TreeNode(list1[i], TreeNode(list1[i * 2 + 1]), TreeNode(list1[i * 2 + 2]))\n",
    "    \n",
    "    print(\"root.left.val\", root.left.val)\n",
    "    print(\"root.right.val\", root.right.val)"
   ]
  },
  {
   "cell_type": "code",
   "execution_count": 24,
   "metadata": {},
   "outputs": [],
   "source": [
    "class TreeNode:\n",
    "    def __init__(self, val = 0, left = None, right = None):\n",
    "        self.val = val\n",
    "        self.left = left\n",
    "        self.right = right\n",
    "        \n",
    "list1 = [10,5,15,3,7]#,13,18,1,6]\n",
    "\n",
    "current = left = right = 0\n",
    "\n",
    "def bst(root, left, right):\n",
    "    root.val = TreeNode(root)\n",
    "    if left \n",
    "    \n",
    "    root =  TreeNode(list1[i], TreeNode(list1[i * 2 + 1]), TreeNode(list1[i * 2 + 2]))\n",
    "    \n",
    "    print(\"root.left.val\", root.left.val)\n",
    "    print(\"root.right.val\", root.right.val)"
   ]
  },
  {
   "cell_type": "markdown",
   "metadata": {},
   "source": [
    "# 1614. Maximum Nesting Depth of the Parentheses"
   ]
  },
  {
   "cell_type": "raw",
   "metadata": {},
   "source": [
    "A string is a valid parentheses string (denoted VPS) if it meets one of the following:\n",
    "\n",
    "It is an empty string \"\", or a single character not equal to \"(\" or \")\",\n",
    "It can be written as AB (A concatenated with B), where A and B are VPS's, or\n",
    "It can be written as (A), where A is a VPS.\n",
    "We can similarly define the nesting depth depth(S) of any VPS S as follows:\n",
    "\n",
    "depth(\"\") = 0\n",
    "depth(A + B) = max(depth(A), depth(B)), where A and B are VPS's\n",
    "depth(\"(\" + A + \")\") = 1 + depth(A), where A is a VPS.\n",
    "For example, \"\", \"()()\", and \"()(()())\" are VPS's (with nesting depths 0, 1, and 2), and \")(\" and \"(()\" are not VPS's.\n",
    "\n",
    "Given a VPS represented as string s, return the nesting depth of s.\n",
    "\n",
    "Example 1:\n",
    "\n",
    "Input: s = \"(1+(2*3)+((8)/4))+1\"\n",
    "Output: 3\n",
    "Explanation: Digit 8 is inside of 3 nested parentheses in the string.\n",
    "Example 2:\n",
    "\n",
    "Input: s = \"(1)+((2))+(((3)))\"\n",
    "Output: 3"
   ]
  },
  {
   "cell_type": "markdown",
   "metadata": {},
   "source": [
    "### My solution"
   ]
  },
  {
   "cell_type": "code",
   "execution_count": 20,
   "metadata": {},
   "outputs": [],
   "source": [
    "class Solution:\n",
    "    def maxDepth(self, s: str) -> int:\n",
    "        count = 0\n",
    "        max_sum = [0]\n",
    "        \n",
    "        for char in s:\n",
    "            if char == \"(\":\n",
    "                count += 1\n",
    "            elif char == \")\":\n",
    "                max_sum.append(count)\n",
    "                count -= 1\n",
    "                \n",
    "        return max(max_sum)"
   ]
  },
  {
   "cell_type": "code",
   "execution_count": 21,
   "metadata": {},
   "outputs": [
    {
     "data": {
      "text/plain": [
       "0"
      ]
     },
     "execution_count": 21,
     "metadata": {},
     "output_type": "execute_result"
    }
   ],
   "source": [
    "solution = Solution()\n",
    "s = \"1\"\n",
    "solution.maxDepth(s)"
   ]
  },
  {
   "cell_type": "markdown",
   "metadata": {},
   "source": [
    "### Best solution"
   ]
  },
  {
   "cell_type": "markdown",
   "metadata": {},
   "source": [
    "As mine."
   ]
  },
  {
   "cell_type": "markdown",
   "metadata": {},
   "source": [
    "# 1179. Reformat Department Table"
   ]
  },
  {
   "cell_type": "raw",
   "metadata": {},
   "source": [
    "Create table If Not Exists Department (id int, revenue int, month varchar(5))\n",
    "Truncate table Department\n",
    "insert into Department (id, revenue, month) values ('1', '8000', 'Jan')\n",
    "insert into Department (id, revenue, month) values ('2', '9000', 'Jan')\n",
    "insert into Department (id, revenue, month) values ('3', '10000', 'Feb')\n",
    "insert into Department (id, revenue, month) values ('1', '7000', 'Feb')\n",
    "insert into Department (id, revenue, month) values ('1', '6000', 'Mar')"
   ]
  },
  {
   "cell_type": "code",
   "execution_count": null,
   "metadata": {},
   "outputs": [],
   "source": [
    "Create table If Not Exists Department (id int, revenue int, month varchar(5))\n",
    "Truncate table Department\n",
    "insert into Department (id, revenue, month) values ('1', '8000', 'Jan')\n",
    "insert into Department (id, revenue, month) values ('2', '9000', 'Jan')\n",
    "insert into Department (id, revenue, month) values ('3', '10000', 'Feb')\n",
    "insert into Department (id, revenue, month) values ('1', '7000', 'Feb')\n",
    "insert into Department (id, revenue, month) values ('1', '6000', 'Mar')"
   ]
  },
  {
   "cell_type": "markdown",
   "metadata": {},
   "source": [
    "### My solution"
   ]
  },
  {
   "cell_type": "code",
   "execution_count": 229,
   "metadata": {},
   "outputs": [
    {
     "name": "stdout",
     "output_type": "stream",
     "text": [
      "The sql extension is already loaded. To reload it, use:\n",
      "  %reload_ext sql\n"
     ]
    }
   ],
   "source": [
    "%load_ext sql"
   ]
  },
  {
   "cell_type": "code",
   "execution_count": 230,
   "metadata": {},
   "outputs": [],
   "source": [
    "%sql sqlite://"
   ]
  },
  {
   "cell_type": "code",
   "execution_count": 231,
   "metadata": {
    "scrolled": true
   },
   "outputs": [
    {
     "name": "stdout",
     "output_type": "stream",
     "text": [
      " * sqlite://\n",
      "Done.\n"
     ]
    },
    {
     "data": {
      "text/plain": [
       "[]"
      ]
     },
     "execution_count": 231,
     "metadata": {},
     "output_type": "execute_result"
    }
   ],
   "source": [
    "%%sql\n",
    "Create table If Not Exists Department (id int, revenue int, month varchar(5))"
   ]
  },
  {
   "cell_type": "code",
   "execution_count": 232,
   "metadata": {},
   "outputs": [
    {
     "name": "stdout",
     "output_type": "stream",
     "text": [
      " * sqlite://\n",
      "1 rows affected.\n",
      "1 rows affected.\n",
      "1 rows affected.\n",
      "1 rows affected.\n",
      "1 rows affected.\n"
     ]
    },
    {
     "data": {
      "text/plain": [
       "[]"
      ]
     },
     "execution_count": 232,
     "metadata": {},
     "output_type": "execute_result"
    }
   ],
   "source": [
    "%%sql\n",
    "insert into Department (id, revenue, month) values ('1', '8000', 'Jan');\n",
    "insert into Department (id, revenue, month) values ('2', '9000', 'Jan');\n",
    "insert into Department (id, revenue, month) values ('3', '10000', 'Feb');\n",
    "insert into Department (id, revenue, month) values ('1', '7000', 'Feb');\n",
    "insert into Department (id, revenue, month) values ('1', '6000', 'Mar');"
   ]
  },
  {
   "cell_type": "code",
   "execution_count": 233,
   "metadata": {
    "scrolled": true
   },
   "outputs": [
    {
     "name": "stdout",
     "output_type": "stream",
     "text": [
      " * sqlite://\n",
      "Done.\n"
     ]
    },
    {
     "data": {
      "text/html": [
       "<table>\n",
       "    <tr>\n",
       "        <th>id</th>\n",
       "        <th>revenue</th>\n",
       "        <th>month</th>\n",
       "    </tr>\n",
       "    <tr>\n",
       "        <td>1</td>\n",
       "        <td>8000</td>\n",
       "        <td>Jan</td>\n",
       "    </tr>\n",
       "    <tr>\n",
       "        <td>2</td>\n",
       "        <td>9000</td>\n",
       "        <td>Jan</td>\n",
       "    </tr>\n",
       "    <tr>\n",
       "        <td>3</td>\n",
       "        <td>10000</td>\n",
       "        <td>Feb</td>\n",
       "    </tr>\n",
       "    <tr>\n",
       "        <td>1</td>\n",
       "        <td>7000</td>\n",
       "        <td>Feb</td>\n",
       "    </tr>\n",
       "    <tr>\n",
       "        <td>1</td>\n",
       "        <td>6000</td>\n",
       "        <td>Mar</td>\n",
       "    </tr>\n",
       "    <tr>\n",
       "        <td>1</td>\n",
       "        <td>8000</td>\n",
       "        <td>Jan</td>\n",
       "    </tr>\n",
       "    <tr>\n",
       "        <td>2</td>\n",
       "        <td>9000</td>\n",
       "        <td>Jan</td>\n",
       "    </tr>\n",
       "    <tr>\n",
       "        <td>3</td>\n",
       "        <td>10000</td>\n",
       "        <td>Feb</td>\n",
       "    </tr>\n",
       "    <tr>\n",
       "        <td>1</td>\n",
       "        <td>7000</td>\n",
       "        <td>Feb</td>\n",
       "    </tr>\n",
       "    <tr>\n",
       "        <td>1</td>\n",
       "        <td>6000</td>\n",
       "        <td>Mar</td>\n",
       "    </tr>\n",
       "</table>"
      ],
      "text/plain": [
       "[(1, 8000, 'Jan'),\n",
       " (2, 9000, 'Jan'),\n",
       " (3, 10000, 'Feb'),\n",
       " (1, 7000, 'Feb'),\n",
       " (1, 6000, 'Mar'),\n",
       " (1, 8000, 'Jan'),\n",
       " (2, 9000, 'Jan'),\n",
       " (3, 10000, 'Feb'),\n",
       " (1, 7000, 'Feb'),\n",
       " (1, 6000, 'Mar')]"
      ]
     },
     "execution_count": 233,
     "metadata": {},
     "output_type": "execute_result"
    }
   ],
   "source": [
    "%%sql\n",
    "select * from Department;"
   ]
  },
  {
   "cell_type": "code",
   "execution_count": 235,
   "metadata": {},
   "outputs": [
    {
     "name": "stdout",
     "output_type": "stream",
     "text": [
      " * sqlite://\n",
      "Done.\n"
     ]
    },
    {
     "data": {
      "text/html": [
       "<table>\n",
       "    <tr>\n",
       "        <th>id</th>\n",
       "        <th>Jan_Revenue</th>\n",
       "        <th>Feb_Revenue</th>\n",
       "        <th>Mar_Revenue</th>\n",
       "        <th>Apr_Revenue</th>\n",
       "        <th>May_Revenue</th>\n",
       "        <th>Jun_Revenue</th>\n",
       "        <th>Jul_Revenue</th>\n",
       "        <th>Aug_Revenue</th>\n",
       "        <th>Sep_Revenue</th>\n",
       "        <th>Oct_Revenue</th>\n",
       "        <th>Nov_Revenue</th>\n",
       "        <th>Dec_Revenue</th>\n",
       "    </tr>\n",
       "    <tr>\n",
       "        <td>1</td>\n",
       "        <td>16000</td>\n",
       "        <td>14000</td>\n",
       "        <td>12000</td>\n",
       "        <td>None</td>\n",
       "        <td>None</td>\n",
       "        <td>None</td>\n",
       "        <td>None</td>\n",
       "        <td>None</td>\n",
       "        <td>None</td>\n",
       "        <td>None</td>\n",
       "        <td>None</td>\n",
       "        <td>None</td>\n",
       "    </tr>\n",
       "    <tr>\n",
       "        <td>2</td>\n",
       "        <td>18000</td>\n",
       "        <td>None</td>\n",
       "        <td>None</td>\n",
       "        <td>None</td>\n",
       "        <td>None</td>\n",
       "        <td>None</td>\n",
       "        <td>None</td>\n",
       "        <td>None</td>\n",
       "        <td>None</td>\n",
       "        <td>None</td>\n",
       "        <td>None</td>\n",
       "        <td>None</td>\n",
       "    </tr>\n",
       "    <tr>\n",
       "        <td>3</td>\n",
       "        <td>None</td>\n",
       "        <td>20000</td>\n",
       "        <td>None</td>\n",
       "        <td>None</td>\n",
       "        <td>None</td>\n",
       "        <td>None</td>\n",
       "        <td>None</td>\n",
       "        <td>None</td>\n",
       "        <td>None</td>\n",
       "        <td>None</td>\n",
       "        <td>None</td>\n",
       "        <td>None</td>\n",
       "    </tr>\n",
       "</table>"
      ],
      "text/plain": [
       "[(1, 16000, 14000, 12000, None, None, None, None, None, None, None, None, None),\n",
       " (2, 18000, None, None, None, None, None, None, None, None, None, None, None),\n",
       " (3, None, 20000, None, None, None, None, None, None, None, None, None, None)]"
      ]
     },
     "execution_count": 235,
     "metadata": {},
     "output_type": "execute_result"
    }
   ],
   "source": [
    "%%sql\n",
    "select id, \n",
    "\tsum(case when month = 'Jan' then revenue else null end) as Jan_Revenue,\n",
    "\tsum(case when month = 'Feb' then revenue else null end) as Feb_Revenue,\n",
    "\tsum(case when month = 'Mar' then revenue else null end) as Mar_Revenue,\n",
    "\tsum(case when month = 'apr' then revenue else null end) as Apr_Revenue,\n",
    "\tsum(case when month = 'may' then revenue else null end) as May_Revenue,\n",
    "\tsum(case when month = 'jun' then revenue else null end) as Jun_Revenue,\n",
    "\tsum(case when month = 'jul' then revenue else null end) as Jul_Revenue,\n",
    "\tsum(case when month = 'aug' then revenue else null end) as Aug_Revenue,\n",
    "\tsum(case when month = 'sep' then revenue else null end) as Sep_Revenue,\n",
    "\tsum(case when month = 'oct' then revenue else null end) as Oct_Revenue,\n",
    "\tsum(case when month = 'nov' then revenue else null end) as Nov_Revenue,\n",
    "\tsum(case when month = 'dec' then revenue else null end) as Dec_Revenue\n",
    "from department\n",
    "group by id\n",
    "order by id"
   ]
  },
  {
   "cell_type": "markdown",
   "metadata": {},
   "source": [
    "### Best solution"
   ]
  },
  {
   "cell_type": "code",
   "execution_count": 236,
   "metadata": {},
   "outputs": [],
   "source": [
    "s = [\"Jan\",\"Feb\",\"Mar\",\"Apr\",\"May\",\"Jun\",\"Jul\",\"Aug\",\"Sep\",\"Oct\",\"Nov\",\"Dec\"]"
   ]
  },
  {
   "cell_type": "code",
   "execution_count": null,
   "metadata": {},
   "outputs": [],
   "source": [
    "%%sql\n",
    "select id, \n",
    "\tsum(case when month = 'Jan' then revenue else null end) as Jan_Revenue,\n",
    "\tsum(case when month = 'Feb' then revenue else null end) as Feb_Revenue,\n",
    "\tsum(case when month = 'Mar' then revenue else null end) as Mar_Revenue,\n",
    "\tsum(case when month = 'apr' then revenue else null end) as Apr_Revenue,\n",
    "\tsum(case when month = 'may' then revenue else null end) as May_Revenue,\n",
    "\tsum(case when month = 'jun' then revenue else null end) as Jun_Revenue,\n",
    "\tsum(case when month = 'jul' then revenue else null end) as Jul_Revenue,\n",
    "\tsum(case when month = 'aug' then revenue else null end) as Aug_Revenue,\n",
    "\tsum(case when month = 'sep' then revenue else null end) as Sep_Revenue,\n",
    "\tsum(case when month = 'oct' then revenue else null end) as Oct_Revenue,\n",
    "\tsum(case when month = 'nov' then revenue else null end) as Nov_Revenue,\n",
    "\tsum(case when month = 'dec' then revenue else null end) as Dec_Revenue\n",
    "from department\n",
    "group by id\n",
    "order by id"
   ]
  },
  {
   "cell_type": "markdown",
   "metadata": {},
   "source": [
    "# 1588. Sum of All Odd Length Subarrays"
   ]
  },
  {
   "cell_type": "raw",
   "metadata": {},
   "source": [
    "Given an array of positive integers arr, calculate the sum of all possible odd-length subarrays.\n",
    "\n",
    "A subarray is a contiguous subsequence of the array.\n",
    "\n",
    "Return the sum of all odd-length subarrays of arr.\n",
    "\n",
    " \n",
    "\n",
    "Example 1:\n",
    "\n",
    "Input: arr = [1,4,2,5,3]\n",
    "Output: 58\n",
    "Explanation: The odd-length subarrays of arr and their sums are:\n",
    "[1] = 1\n",
    "[4] = 4\n",
    "[2] = 2\n",
    "[5] = 5\n",
    "[3] = 3\n",
    "[1,4,2] = 7\n",
    "[4,2,5] = 11\n",
    "[2,5,3] = 10\n",
    "[1,4,2,5,3] = 15\n",
    "If we add all these together we get 1 + 4 + 2 + 5 + 3 + 7 + 11 + 10 + 15 = 58\n",
    "\n",
    "Example 2:\n",
    "\n",
    "Input: arr = [1,2]\n",
    "Output: 3\n",
    "Explanation: There are only 2 subarrays of odd length, [1] and [2]. Their sum is 3.\n",
    "Example 3:\n",
    "\n",
    "Input: arr = [10,11,12]\n",
    "Output: 66"
   ]
  },
  {
   "cell_type": "markdown",
   "metadata": {},
   "source": [
    "### My solution"
   ]
  },
  {
   "cell_type": "code",
   "execution_count": 274,
   "metadata": {},
   "outputs": [],
   "source": [
    "class Solution:\n",
    "    def sumOddLengthSubarrays(self, arr: List[int]) -> int:\n",
    "        len1 = len(arr) + 1\n",
    "        sum_res = 0\n",
    "        window_size = 1\n",
    "\n",
    "        while window_size <= len(arr):\n",
    "            for i in range(len1 - window_size):\n",
    "                print(\"i\", i)\n",
    "                for k in range(window_size):\n",
    "                    print(\"k\", k)\n",
    "                    sum_res += arr[i + k]\n",
    "    \n",
    "            window_size += 2\n",
    "        return sum_res"
   ]
  },
  {
   "cell_type": "code",
   "execution_count": 275,
   "metadata": {},
   "outputs": [
    {
     "name": "stdout",
     "output_type": "stream",
     "text": [
      "i 0\n",
      "k 0\n",
      "i 1\n",
      "k 0\n",
      "i 2\n",
      "k 0\n",
      "i 3\n",
      "k 0\n",
      "i 4\n",
      "k 0\n",
      "i 0\n",
      "k 0\n",
      "k 1\n",
      "k 2\n",
      "i 1\n",
      "k 0\n",
      "k 1\n",
      "k 2\n",
      "i 2\n",
      "k 0\n",
      "k 1\n",
      "k 2\n",
      "i 0\n",
      "k 0\n",
      "k 1\n",
      "k 2\n",
      "k 3\n",
      "k 4\n"
     ]
    },
    {
     "data": {
      "text/plain": [
       "58"
      ]
     },
     "execution_count": 275,
     "metadata": {},
     "output_type": "execute_result"
    }
   ],
   "source": [
    "arr = [1,4,2,5,3]\n",
    "solution= Solution()\n",
    "solution.sumOddLengthSubarrays(arr)"
   ]
  },
  {
   "cell_type": "markdown",
   "metadata": {},
   "source": [
    "### Best solution"
   ]
  },
  {
   "cell_type": "code",
   "execution_count": 1,
   "metadata": {},
   "outputs": [],
   "source": [
    "class Solution:\n",
    "    def sumOddLengthSubarrays(self, A):\n",
    "        res, n = 0, len(A)\n",
    "        for i, a in enumerate(A):\n",
    "            res += ((i + 1) * (n - i) + 1) / 2 * a\n",
    "        return res"
   ]
  },
  {
   "cell_type": "code",
   "execution_count": 2,
   "metadata": {},
   "outputs": [
    {
     "data": {
      "text/plain": [
       "62.5"
      ]
     },
     "execution_count": 2,
     "metadata": {},
     "output_type": "execute_result"
    }
   ],
   "source": [
    "arr = [1,4,2,5,3]\n",
    "solution= Solution()\n",
    "solution.sumOddLengthSubarrays(arr)"
   ]
  },
  {
   "cell_type": "markdown",
   "metadata": {},
   "source": [
    "# 1290. Convert Binary Number in a Linked List to Integer"
   ]
  },
  {
   "cell_type": "raw",
   "metadata": {},
   "source": [
    "Given head which is a reference node to a singly-linked list. The value of each node in the linked list is either 0 or 1. The linked list holds the binary representation of a number.\n",
    "\n",
    "Return the decimal value of the number in the linked list.\n",
    "\n",
    " \n",
    "\n",
    "Example 1:\n",
    "\n",
    "\n",
    "Input: head = [1,0,1]\n",
    "Output: 5\n",
    "Explanation: (101) in base 2 = (5) in base 10\n",
    "Example 2:\n",
    "\n",
    "Input: head = [0]\n",
    "Output: 0\n",
    "Example 3:\n",
    "\n",
    "Input: head = [1]\n",
    "Output: 1"
   ]
  },
  {
   "cell_type": "markdown",
   "metadata": {},
   "source": [
    "### My solution"
   ]
  },
  {
   "cell_type": "code",
   "execution_count": 34,
   "metadata": {},
   "outputs": [],
   "source": [
    "# Definition for singly-linked list.\n",
    "class ListNode:\n",
    "    def __init__(self, val=0, next=None):\n",
    "        self.val = val\n",
    "        self.next = next\n",
    "        \n",
    "class Solution:\n",
    "    def getDecimalValue(self, head: ListNode) -> int:\n",
    "        res = 0\n",
    "        while head:\n",
    "            res = res * 2 + head.val\n",
    "            head = head.next\n",
    "        return res"
   ]
  },
  {
   "cell_type": "code",
   "execution_count": 36,
   "metadata": {},
   "outputs": [
    {
     "data": {
      "text/plain": [
       "10"
      ]
     },
     "execution_count": 36,
     "metadata": {},
     "output_type": "execute_result"
    }
   ],
   "source": [
    "# list1= [1,0,1,0] -> 10\n",
    "\n",
    "head = ListNode(1)\n",
    "first = ListNode(0)\n",
    "second  = ListNode(1)\n",
    "third = ListNode(0)\n",
    "\n",
    "head.next = first\n",
    "first.next = second\n",
    "second.next = third\n",
    "\n",
    "solution = Solution()\n",
    "solution.getDecimalValue(head)"
   ]
  },
  {
   "cell_type": "markdown",
   "metadata": {},
   "source": [
    "# 876. Middle of the Linked List"
   ]
  },
  {
   "cell_type": "markdown",
   "metadata": {},
   "source": [
    "### My solution"
   ]
  },
  {
   "cell_type": "code",
   "execution_count": 21,
   "metadata": {},
   "outputs": [],
   "source": [
    "# Definition for singly-linked list.\n",
    "class ListNode:\n",
    "    def __init__(self, val=0, next=None):\n",
    "        self.val = val\n",
    "        self.next = next\n",
    "        \n",
    "class Solution:\n",
    "    def middleNode(self, head: ListNode) -> ListNode:\n",
    "        current = head\n",
    "        length = 0\n",
    "        middleNode = 0\n",
    "        \n",
    "        while current:\n",
    "            length += 1\n",
    "            current = current.next\n",
    "        middleNode = (length - 1)/2\n",
    "        current = head\n",
    "        for i in range(int(middleNode)):\n",
    "            current = current.next\n",
    "            \n",
    "        return current"
   ]
  },
  {
   "cell_type": "code",
   "execution_count": 24,
   "metadata": {},
   "outputs": [
    {
     "data": {
      "text/plain": [
       "<__main__.ListNode at 0x7faf85155450>"
      ]
     },
     "execution_count": 24,
     "metadata": {},
     "output_type": "execute_result"
    }
   ],
   "source": [
    "# list1= [0,1,2,3,4] -> 2\n",
    "\n",
    "head = ListNode(0)\n",
    "first = ListNode(1)\n",
    "second  = ListNode(2)\n",
    "third = ListNode(3)\n",
    "fourth = ListNode(4)\n",
    "\n",
    "head.next = first\n",
    "first.next = second\n",
    "second.next = third\n",
    "third.next = fourth\n",
    "\n",
    "solution = Solution()\n",
    "solution.middleNode(head)"
   ]
  },
  {
   "cell_type": "markdown",
   "metadata": {},
   "source": [
    "### Best solution"
   ]
  },
  {
   "cell_type": "code",
   "execution_count": 23,
   "metadata": {},
   "outputs": [],
   "source": [
    "class Solution(object):\n",
    "    def middleNode(self, head):\n",
    "        slow = fast = head\n",
    "        while fast and fast.next:\n",
    "            slow = slow.next\n",
    "            fast = fast.next.next\n",
    "        return slow"
   ]
  },
  {
   "cell_type": "markdown",
   "metadata": {},
   "source": [
    "# 1323. Maximum 69 Number"
   ]
  },
  {
   "cell_type": "raw",
   "metadata": {},
   "source": [
    "Given a positive integer num consisting only of digits 6 and 9.\n",
    "\n",
    "Return the maximum number you can get by changing at most one digit (6 becomes 9, and 9 becomes 6).\n",
    "\n",
    "Example 1:\n",
    "\n",
    "Input: num = 9669\n",
    "Output: 9969\n",
    "Explanation: \n",
    "Changing the first digit results in 6669.\n",
    "Changing the second digit results in 9969.\n",
    "Changing the third digit results in 9699.\n",
    "Changing the fourth digit results in 9666. \n",
    "The maximum number is 9969.\n",
    "Example 2:\n",
    "\n",
    "Input: num = 9996\n",
    "Output: 9999\n",
    "Explanation: Changing the last digit 6 to 9 results in the maximum number.\n",
    "Example 3:\n",
    "\n",
    "Input: num = 9999\n",
    "Output: 9999\n",
    "Explanation: It is better not to apply any change.\n",
    "\n",
    "Constraints:\n",
    "\n",
    "1 <= num <= 10^4\n",
    "num's digits are 6 or 9."
   ]
  },
  {
   "cell_type": "code",
   "execution_count": 72,
   "metadata": {},
   "outputs": [],
   "source": [
    "class Solution:\n",
    "    def maximum69Number(self, num: int) -> int:\n",
    "        i = 0\n",
    "        res = 0\n",
    "        str1 = str(num)\n",
    "        lenght = len(str1)\n",
    "        \n",
    "        while lenght > i:\n",
    "            if str1[i] != \"9\":\n",
    "                break\n",
    "            else:\n",
    "                i += 1\n",
    "        return  int(num + 3 * (10 ** (lenght - i - 1)))"
   ]
  },
  {
   "cell_type": "code",
   "execution_count": 77,
   "metadata": {},
   "outputs": [
    {
     "data": {
      "text/plain": [
       "9999"
      ]
     },
     "execution_count": 77,
     "metadata": {},
     "output_type": "execute_result"
    }
   ],
   "source": [
    "num = 9999\n",
    "\n",
    "solution = Solution()\n",
    "solution.maximum69Number(num)"
   ]
  },
  {
   "cell_type": "markdown",
   "metadata": {},
   "source": [
    "### Best solution"
   ]
  },
  {
   "cell_type": "code",
   "execution_count": 4,
   "metadata": {},
   "outputs": [],
   "source": [
    "def maximum69Number(self, num):\n",
    "        return int(str(num).replace('6', '9', 1))\n"
   ]
  },
  {
   "cell_type": "code",
   "execution_count": 5,
   "metadata": {},
   "outputs": [],
   "source": [
    "def compareStrings(str1, str2):\n",
    "    for s in str.split():\n",
    "        if s.isdigit():\n",
    "            int(s)\n",
    "            \n",
    "    \n",
    "    for i in range(len(str1)):\n",
    "        if str1[i].isnumeric():\n",
    "            if str1[i + 1] == str2[i + int(str1[i])]:\n",
    "                return True\n",
    "            else:\n",
    "                return False"
   ]
  },
  {
   "cell_type": "code",
   "execution_count": null,
   "metadata": {},
   "outputs": [],
   "source": [
    "str1 = \"d10dog\"\n",
    "str2 = \"daaaaaaaaaadog\"\n",
    "compareStrings(str1, str2)"
   ]
  },
  {
   "cell_type": "code",
   "execution_count": 3,
   "metadata": {},
   "outputs": [],
   "source": [
    "def compareStrings(str1, str2):\n",
    "    for s in str1.split():\n",
    "        if s.isdigit():\n",
    "            print(int(s))"
   ]
  },
  {
   "cell_type": "code",
   "execution_count": 57,
   "metadata": {},
   "outputs": [
    {
     "name": "stdout",
     "output_type": "stream",
     "text": [
      "10\n"
     ]
    }
   ],
   "source": [
    "str1 = \"d10dog\"\n",
    "str3 = \"\"\n",
    "\n",
    "for i in range(len(str1)):\n",
    "    if str1[i].isdigit():\n",
    "        str3 += \"\".join(str1[i])\n",
    "    \n",
    "print(int(str3))"
   ]
  },
  {
   "cell_type": "markdown",
   "metadata": {},
   "source": [
    "# 1672. Richest Customer Wealth"
   ]
  },
  {
   "cell_type": "raw",
   "metadata": {},
   "source": [
    "You are given an m x n integer grid accounts where accounts[i][j] is the amount of money the i​​​​​​​​​​​th​​​​ customer has in the j​​​​​​​​​​​th​​​​ bank. Return the wealth that the richest customer has.\n",
    "\n",
    "A customer's wealth is the amount of money they have in all their bank accounts. The richest customer is the customer that has the maximum wealth.\n",
    " \n",
    "\n",
    "Example 1:\n",
    "\n",
    "Input: accounts = [[1,2,3],[3,2,1]]\n",
    "Output: 6\n",
    "Explanation:\n",
    "1st customer has wealth = 1 + 2 + 3 = 6\n",
    "2nd customer has wealth = 3 + 2 + 1 = 6\n",
    "Both customers are considered the richest with a wealth of 6 each, so return 6.\n",
    "Example 2:\n",
    "\n",
    "Input: accounts = [[1,5],[7,3],[3,5]]\n",
    "Output: 10\n",
    "Explanation: \n",
    "1st customer has wealth = 6\n",
    "2nd customer has wealth = 10\n",
    "3rd customer has wealth = 8\n",
    "The 2nd customer is the richest with a wealth of 10."
   ]
  },
  {
   "cell_type": "markdown",
   "metadata": {},
   "source": [
    "### My solution"
   ]
  },
  {
   "cell_type": "code",
   "execution_count": 92,
   "metadata": {},
   "outputs": [],
   "source": [
    "class Solution:\n",
    "    def maximumWealth(self, accounts: List[List[int]]) -> int:\n",
    "        maxW = 0\n",
    "        \n",
    "        for i in range(len(accounts)):\n",
    "            if sum(accounts[i]) > maxW:\n",
    "                maxW = sum(accounts[i])\n",
    "        return maxW"
   ]
  },
  {
   "cell_type": "code",
   "execution_count": 93,
   "metadata": {},
   "outputs": [
    {
     "data": {
      "text/plain": [
       "31"
      ]
     },
     "execution_count": 93,
     "metadata": {},
     "output_type": "execute_result"
    }
   ],
   "source": [
    "accounts = [[11,9,5],[27,1,3],[2,8,7]]\n",
    "\n",
    "solution = Solution()\n",
    "solution.maximumWealth(accounts)"
   ]
  },
  {
   "cell_type": "markdown",
   "metadata": {},
   "source": [
    "### Best solution"
   ]
  },
  {
   "cell_type": "code",
   "execution_count": 94,
   "metadata": {},
   "outputs": [],
   "source": [
    "class Solution:\n",
    "    def maximumWealth(self, accounts):\n",
    "        return max(map(sum, accounts))"
   ]
  },
  {
   "cell_type": "code",
   "execution_count": 95,
   "metadata": {},
   "outputs": [
    {
     "data": {
      "text/plain": [
       "31"
      ]
     },
     "execution_count": 95,
     "metadata": {},
     "output_type": "execute_result"
    }
   ],
   "source": [
    "accounts = [[11,9,5],[27,1,3],[2,8,7]]\n",
    "\n",
    "solution = Solution()\n",
    "solution.maximumWealth(accounts)"
   ]
  },
  {
   "cell_type": "markdown",
   "metadata": {},
   "source": [
    "# 832. Flipping an Image"
   ]
  },
  {
   "cell_type": "raw",
   "metadata": {},
   "source": [
    "Given a binary matrix A, we want to flip the image horizontally, then invert it, and return the resulting image.\n",
    "\n",
    "To flip an image horizontally means that each row of the image is reversed.  For example, flipping [1, 1, 0] horizontally results in [0, 1, 1].\n",
    "\n",
    "To invert an image means that each 0 is replaced by 1, and each 1 is replaced by 0. For example, inverting [0, 1, 1] results in [1, 0, 0].\n",
    "\n",
    "Example 1:\n",
    "\n",
    "Input: [[1,1,0],[1,0,1],[0,0,0]]\n",
    "Output: [[1,0,0],[0,1,0],[1,1,1]]\n",
    "Explanation: First reverse each row: [[0,1,1],[1,0,1],[0,0,0]].\n",
    "Then, invert the image: [[1,0,0],[0,1,0],[1,1,1]]\n",
    "Example 2:\n",
    "\n",
    "Input: [[1,1,0,0],[1,0,0,1],[0,1,1,1],[1,0,1,0]]\n",
    "Output: [[1,1,0,0],[0,1,1,0],[0,0,0,1],[1,0,1,0]]\n",
    "Explanation: First reverse each row: [[0,0,1,1],[1,0,0,1],[1,1,1,0],[0,1,0,1]].\n",
    "Then invert the image: [[1,1,0,0],[0,1,1,0],[0,0,0,1],[1,0,1,0]]"
   ]
  },
  {
   "cell_type": "markdown",
   "metadata": {},
   "source": [
    "### My solution"
   ]
  },
  {
   "cell_type": "code",
   "execution_count": 147,
   "metadata": {},
   "outputs": [],
   "source": [
    "class Solution:\n",
    "    def flipAndInvertImage(self, A: List[List[int]]) -> List[List[int]]:\n",
    "        for i in range(len(A)):\n",
    "            A[i] = A[i][::-1]\n",
    "            A[i] = [b^1 for b in A[i]]\n",
    "        return A"
   ]
  },
  {
   "cell_type": "code",
   "execution_count": 149,
   "metadata": {},
   "outputs": [
    {
     "name": "stdout",
     "output_type": "stream",
     "text": [
      "reverse [0, 0, 1, 1]\n",
      "reverse [1, 0, 0, 1]\n",
      "reverse [1, 1, 1, 0]\n",
      "reverse [0, 1, 0, 1]\n"
     ]
    },
    {
     "data": {
      "text/plain": [
       "[[1, 1, 0, 0], [0, 1, 1, 0], [0, 0, 0, 1], [1, 0, 1, 0]]"
      ]
     },
     "execution_count": 149,
     "metadata": {},
     "output_type": "execute_result"
    }
   ],
   "source": [
    "A = [[1,1,0,0],[1,0,0,1],[0,1,1,1],[1,0,1,0]]\n",
    "\n",
    "solution = Solution()\n",
    "solution.flipAndInvertImage(A)"
   ]
  },
  {
   "cell_type": "markdown",
   "metadata": {},
   "source": [
    "### Best solution"
   ]
  },
  {
   "cell_type": "code",
   "execution_count": 150,
   "metadata": {},
   "outputs": [],
   "source": [
    "class Solution:\n",
    "    def flipAndInvertImage(self, A):\n",
    "        return [[1 ^ i for i in reversed(row)] for row in A]"
   ]
  },
  {
   "cell_type": "markdown",
   "metadata": {},
   "source": [
    "# 1309. Decrypt String from Alphabet to Integer Mapping"
   ]
  },
  {
   "cell_type": "raw",
   "metadata": {},
   "source": [
    "Given a string s formed by digits ('0' - '9') and '#' . We want to map s to English lowercase characters as follows:\n",
    "\n",
    "Characters ('a' to 'i') are represented by ('1' to '9') respectively.\n",
    "Characters ('j' to 'z') are represented by ('10#' to '26#') respectively. \n",
    "Return the string formed after mapping.\n",
    "\n",
    "It's guaranteed that a unique mapping will always exist.\n",
    "\n",
    " \n",
    "\n",
    "Example 1:\n",
    "\n",
    "Input: s = \"10#11#12\"\n",
    "Output: \"jkab\"\n",
    "Explanation: \"j\" -> \"10#\" , \"k\" -> \"11#\" , \"a\" -> \"1\" , \"b\" -> \"2\".\n",
    "Example 2:\n",
    "\n",
    "Input: s = \"1326#\"\n",
    "Output: \"acz\"\n",
    "Example 3:\n",
    "\n",
    "Input: s = \"25#\"\n",
    "Output: \"y\""
   ]
  },
  {
   "cell_type": "markdown",
   "metadata": {},
   "source": [
    "### My solution"
   ]
  },
  {
   "cell_type": "code",
   "execution_count": 173,
   "metadata": {},
   "outputs": [],
   "source": [
    "class Solution:\n",
    "    def freqAlphabets(self, s: str) -> str:\n",
    "        str09 = [0,1,2,3,4,5,6,7,8,9]\n",
    "        list1=[]\n",
    "        \n",
    "        for i in range(len(s)):\n",
    "            if s[i] == 1 or 2:\n",
    "                \n",
    "        x = s.split(\"#\")\n",
    "        \n",
    "        print(x)\n",
    "#         for i in x:\n",
    "        print([chr(int(k)+96) for k in x])\n",
    "\n",
    "        return 0"
   ]
  },
  {
   "cell_type": "code",
   "execution_count": 267,
   "metadata": {},
   "outputs": [],
   "source": [
    "import re\n",
    "\n",
    "def converter(strings0):\n",
    "    res = \"\"\n",
    "    for i in range(len(strings0)):\n",
    "        res += chr(int(strings0[i])+96)\n",
    "    return res\n",
    "\n",
    "class Solution:\n",
    "    def freqAlphabets(self, s: str) -> str:\n",
    "        numbers = [10,11,12,13,14,15,16,17,18,19,20,21,22,23,24,25,26] \n",
    "        out = \"\"\n",
    "        \n",
    "        splitted = re.findall('.*?[#]', s)\n",
    "        left_str = s.split(\"\".join(splitted))[1]\n",
    "    \n",
    "        for i in range(len(splitted)):\n",
    "            if len(splitted[i]) > 3:\n",
    "                out += converter(splitted[i][:-3])\n",
    "            if int(splitted[i][-3:-1]) not in numbers:\n",
    "                out += converter(splitted[i][-3:-1])\n",
    "            else:\n",
    "                out += chr(int(splitted[i][-3:-1])+96)\n",
    "        out += converter(left_str)\n",
    "        return out"
   ]
  },
  {
   "cell_type": "code",
   "execution_count": 268,
   "metadata": {},
   "outputs": [
    {
     "data": {
      "text/plain": [
       "'aa`aj'"
      ]
     },
     "execution_count": 268,
     "metadata": {},
     "output_type": "execute_result"
    }
   ],
   "source": [
    "s = \"110110#\"\n",
    "\n",
    "solution = Solution()\n",
    "solution.freqAlphabets(s)"
   ]
  },
  {
   "cell_type": "markdown",
   "metadata": {},
   "source": [
    "### Best solution"
   ]
  },
  {
   "cell_type": "code",
   "execution_count": 257,
   "metadata": {},
   "outputs": [],
   "source": [
    "class Solution:\n",
    "    def freqAlphabets(self, s: str) -> str:\n",
    "        for i in range(26,0,-1): s = s.replace(str(i)+'#'*(i>9),chr(96+i))\n",
    "        return s"
   ]
  },
  {
   "cell_type": "code",
   "execution_count": 269,
   "metadata": {},
   "outputs": [
    {
     "data": {
      "text/plain": [
       "'aa`aj'"
      ]
     },
     "execution_count": 269,
     "metadata": {},
     "output_type": "execute_result"
    }
   ],
   "source": [
    "s = \"110110#\"\n",
    "\n",
    "solution = Solution()\n",
    "solution.freqAlphabets(s)"
   ]
  },
  {
   "cell_type": "markdown",
   "metadata": {},
   "source": [
    "# 1436. Destination City"
   ]
  },
  {
   "cell_type": "raw",
   "metadata": {},
   "source": [
    "You are given the array paths, where paths[i] = [cityAi, cityBi] means there exists a direct path going from cityAi to cityBi. Return the destination city, that is, the city without any path outgoing to another city.\n",
    "\n",
    "It is guaranteed that the graph of paths forms a line without any loop, therefore, there will be exactly one destination city.\n",
    "\n",
    "Example 1:\n",
    "\n",
    "Input: paths = [[\"London\",\"New York\"],[\"New York\",\"Lima\"],[\"Lima\",\"Sao Paulo\"]]\n",
    "Output: \"Sao Paulo\" \n",
    "Explanation: Starting at \"London\" city you will reach \"Sao Paulo\" city which is the destination city. Your trip consist of: \"London\" -> \"New York\" -> \"Lima\" -> \"Sao Paulo\".\n",
    "Example 2:\n",
    "\n",
    "Input: paths = [[\"B\",\"C\"],[\"D\",\"B\"],[\"C\",\"A\"]]\n",
    "Output: \"A\"\n",
    "Explanation: All possible trips are: \n",
    "\"D\" -> \"B\" -> \"C\" -> \"A\". \n",
    "\"B\" -> \"C\" -> \"A\". \n",
    "\"C\" -> \"A\". \n",
    "\"A\". \n",
    "Clearly the destination city is \"A\".\n",
    "Example 3:\n",
    "\n",
    "Input: paths = [[\"A\",\"Z\"]]\n",
    "Output: \"Z\""
   ]
  },
  {
   "cell_type": "markdown",
   "metadata": {},
   "source": [
    "### My solution"
   ]
  },
  {
   "cell_type": "code",
   "execution_count": 420,
   "metadata": {
    "scrolled": true
   },
   "outputs": [],
   "source": [
    "class Solution:\n",
    "    def destCity(self, paths: List[List[str]]) -> str:\n",
    "        A, B = map(set, zip(*paths))\n",
    "        return list(B - A)[0]"
   ]
  },
  {
   "cell_type": "code",
   "execution_count": 421,
   "metadata": {},
   "outputs": [
    {
     "data": {
      "text/plain": [
       "'Sao Paulo'"
      ]
     },
     "execution_count": 421,
     "metadata": {},
     "output_type": "execute_result"
    }
   ],
   "source": [
    "paths = [[\"London\",\"New York\"],[\"New York\",\"Lima\"],[\"Lima\",\"Sao Paulo\"]]\n",
    "\n",
    "solution = Solution()\n",
    "solution.destCity(paths)"
   ]
  },
  {
   "cell_type": "markdown",
   "metadata": {},
   "source": [
    "# 1450. Number of Students Doing Homework at a Given Time"
   ]
  },
  {
   "cell_type": "raw",
   "metadata": {},
   "source": [
    "Given two integer arrays startTime and endTime and given an integer queryTime.\n",
    "\n",
    "The ith student started doing their homework at the time startTime[i] and finished it at time endTime[i].\n",
    "\n",
    "Return the number of students doing their homework at time queryTime. More formally, return the number of students where queryTime lays in the interval [startTime[i], endTime[i]] inclusive.\n",
    "\n",
    " \n",
    "\n",
    "Example 1:\n",
    "\n",
    "Input: startTime = [1,2,3], endTime = [3,2,7], queryTime = 4\n",
    "Output: 1\n",
    "Explanation: We have 3 students where:\n",
    "The first student started doing homework at time 1 and finished at time 3 and wasn't doing anything at time 4.\n",
    "The second student started doing homework at time 2 and finished at time 2 and also wasn't doing anything at time 4.\n",
    "The third student started doing homework at time 3 and finished at time 7 and was the only student doing homework at time 4.\n",
    "Example 2:\n",
    "\n",
    "Input: startTime = [4], endTime = [4], queryTime = 4\n",
    "Output: 1\n",
    "Explanation: The only student was doing their homework at the queryTime.\n",
    "Example 3:\n",
    "\n",
    "Input: startTime = [4], endTime = [4], queryTime = 5\n",
    "Output: 0\n",
    "Example 4:\n",
    "\n",
    "Input: startTime = [1,1,1,1], endTime = [1,3,2,4], queryTime = 7\n",
    "Output: 0\n",
    "Example 5:\n",
    "\n",
    "Input: startTime = [9,8,7,6,5,4,3,2,1], endTime = [10,10,10,10,10,10,10,10,10], queryTime = 5\n",
    "Output: 5"
   ]
  },
  {
   "cell_type": "markdown",
   "metadata": {},
   "source": [
    "### My solution"
   ]
  },
  {
   "cell_type": "code",
   "execution_count": 543,
   "metadata": {},
   "outputs": [],
   "source": [
    "class Solution:\n",
    "    def busyStudent(self, startTime: List[int], endTime: List[int], queryTime: int) -> int:\n",
    "        return [[(queryTime >= i and queryTime <= j)] for i, j in zip(startTime,endTime)].count([True])"
   ]
  },
  {
   "cell_type": "code",
   "execution_count": 544,
   "metadata": {},
   "outputs": [
    {
     "data": {
      "text/plain": [
       "0"
      ]
     },
     "execution_count": 544,
     "metadata": {},
     "output_type": "execute_result"
    }
   ],
   "source": [
    "startTime = [1,1,1,1]\n",
    "endTime = [1,3,2,4]\n",
    "queryTime = 7\n",
    "solution = Solution()\n",
    "solution.busyStudent(startTime, endTime, queryTime)"
   ]
  },
  {
   "cell_type": "markdown",
   "metadata": {},
   "source": [
    "# 1464. Maximum Product of Two Elements in an Array"
   ]
  },
  {
   "cell_type": "markdown",
   "metadata": {},
   "source": [
    "Given the array of integers nums, you will choose two different indices i and j of that array. Return the maximum value of (nums[i]-1)*(nums[j]-1).\n",
    " \n",
    "\n",
    "Example 1:\n",
    "\n",
    "Input: nums = [3,4,5,2]\n",
    "Output: 12 \n",
    "Explanation: If you choose the indices i=1 and j=2 (indexed from 0), you will get the maximum value, that is, (nums[1]-1)*(nums[2]-1) = (4-1)*(5-1) = 3*4 = 12. \n",
    "Example 2:\n",
    "\n",
    "Input: nums = [1,5,4,5]\n",
    "Output: 16\n",
    "Explanation: Choosing the indices i=1 and j=3 (indexed from 0), you will get the maximum value of (5-1)*(5-1) = 16.\n",
    "Example 3:\n",
    "\n",
    "Input: nums = [3,7]\n",
    "Output: 12"
   ]
  },
  {
   "cell_type": "code",
   "execution_count": 557,
   "metadata": {},
   "outputs": [],
   "source": [
    "import heapq\n",
    "class Solution:\n",
    "    def maxProduct(self, nums: List[int]) -> int:\n",
    "        a, b = heapq.nlargest(2, nums)\n",
    "        return (a-1)*(b-1)"
   ]
  },
  {
   "cell_type": "code",
   "execution_count": 558,
   "metadata": {},
   "outputs": [
    {
     "data": {
      "text/plain": [
       "12"
      ]
     },
     "execution_count": 558,
     "metadata": {},
     "output_type": "execute_result"
    }
   ],
   "source": [
    "nums = [3,4,5,2]\n",
    "\n",
    "solution = Solution()\n",
    "solution.maxProduct(nums)"
   ]
  },
  {
   "cell_type": "markdown",
   "metadata": {},
   "source": [
    "### Best solution"
   ]
  },
  {
   "cell_type": "code",
   "execution_count": 3,
   "metadata": {},
   "outputs": [],
   "source": [
    "#For every problem\n",
    "from typing import List"
   ]
  },
  {
   "cell_type": "code",
   "execution_count": 567,
   "metadata": {},
   "outputs": [],
   "source": [
    "class Solution:\n",
    "    def maxProduct(self, nums: List[int]) -> int:\n",
    "        first, second = 0, 0\n",
    "        \n",
    "        for n in nums:\n",
    "            first, second = max(n, first, second), max(second, min(first, n))\n",
    "        \n",
    "        return (first - 1) * (second - 1)"
   ]
  },
  {
   "cell_type": "code",
   "execution_count": 568,
   "metadata": {},
   "outputs": [
    {
     "data": {
      "text/plain": [
       "12"
      ]
     },
     "execution_count": 568,
     "metadata": {},
     "output_type": "execute_result"
    }
   ],
   "source": [
    "nums = [3,4,5,2]\n",
    "\n",
    "solution = Solution()\n",
    "solution.maxProduct(nums)"
   ]
  },
  {
   "cell_type": "markdown",
   "metadata": {},
   "source": [
    "# 1. Two Sum"
   ]
  },
  {
   "cell_type": "raw",
   "metadata": {},
   "source": [
    "Given an array of integers nums and an integer target, return indices of the two numbers such that they add up to target.\n",
    "\n",
    "You may assume that each input would have exactly one solution, and you may not use the same element twice.\n",
    "\n",
    "You can return the answer in any order.\n",
    "\n",
    "\n",
    "Example 1:\n",
    "\n",
    "Input: nums = [2,7,11,15], target = 9\n",
    "Output: [0,1]\n",
    "Output: Because nums[0] + nums[1] == 9, we return [0, 1].\n",
    "Example 2:\n",
    "\n",
    "Input: nums = [3,2,4], target = 6\n",
    "Output: [1,2]\n",
    "Example 3:\n",
    "\n",
    "Input: nums = [3,3], target = 6\n",
    "Output: [0,1]"
   ]
  },
  {
   "cell_type": "markdown",
   "metadata": {},
   "source": [
    "### My solution"
   ]
  },
  {
   "cell_type": "code",
   "execution_count": 651,
   "metadata": {},
   "outputs": [],
   "source": [
    "class Solution:\n",
    "    def twoSum(self, nums: List[int], target: int) -> List[int]:\n",
    "        res = ()\n",
    "        for i in range(len(nums)):\n",
    "            for k in range(i+1, len(nums)):\n",
    "                if nums[i] + nums[k] == target:\n",
    "                    res = (i,k)\n",
    "        return list(res)"
   ]
  },
  {
   "cell_type": "code",
   "execution_count": 652,
   "metadata": {},
   "outputs": [
    {
     "data": {
      "text/plain": [
       "[1, 2]"
      ]
     },
     "execution_count": 652,
     "metadata": {},
     "output_type": "execute_result"
    }
   ],
   "source": [
    "nums = [3,2,4]\n",
    "target = 6\n",
    "\n",
    "solution = Solution()\n",
    "solution.twoSum(nums, target)"
   ]
  },
  {
   "cell_type": "markdown",
   "metadata": {},
   "source": [
    "# 4. Median of Two Sorted Arrays"
   ]
  },
  {
   "cell_type": "code",
   "execution_count": 667,
   "metadata": {},
   "outputs": [],
   "source": [
    "from statistics import median\n",
    "\n",
    "class Solution:\n",
    "    def findMedianSortedArrays(self, nums1: List[int], nums2: List[int]) -> float:\n",
    "        nums =[]\n",
    "        nums = nums1 + nums2\n",
    "        return median(nums)"
   ]
  },
  {
   "cell_type": "code",
   "execution_count": 668,
   "metadata": {},
   "outputs": [
    {
     "name": "stdout",
     "output_type": "stream",
     "text": [
      "2\n"
     ]
    },
    {
     "data": {
      "text/plain": [
       "0"
      ]
     },
     "execution_count": 668,
     "metadata": {},
     "output_type": "execute_result"
    }
   ],
   "source": [
    "nums1 = [1,3]\n",
    "nums2 = [2]\n",
    "\n",
    "solution = Solution()\n",
    "solution.findMedianSortedArrays(nums1, nums2)"
   ]
  },
  {
   "cell_type": "raw",
   "metadata": {},
   "source": [
    "Example 1:\n",
    "\n",
    "Input: nums = [12,345,2,6,7896]\n",
    "Output: 2\n",
    "Explanation: \n",
    "12 contains 2 digits (even number of digits). \n",
    "345 contains 3 digits (odd number of digits). \n",
    "2 contains 1 digit (odd number of digits). \n",
    "6 contains 1 digit (odd number of digits). \n",
    "7896 contains 4 digits (even number of digits). \n",
    "Therefore only 12 and 7896 contain an even number of digits."
   ]
  },
  {
   "cell_type": "code",
   "execution_count": 705,
   "metadata": {},
   "outputs": [],
   "source": [
    "class Solution:\n",
    "    def findNumbers(self, nums: List[int]) -> int:\n",
    "        return [len(str(i))%2 == 0 for i in nums].count(True)"
   ]
  },
  {
   "cell_type": "code",
   "execution_count": 707,
   "metadata": {},
   "outputs": [
    {
     "data": {
      "text/plain": [
       "1"
      ]
     },
     "execution_count": 707,
     "metadata": {},
     "output_type": "execute_result"
    }
   ],
   "source": [
    "nums = [555,901,482,1771]\n",
    "\n",
    "solution = Solution()\n",
    "solution.findNumbers(nums)"
   ]
  },
  {
   "cell_type": "markdown",
   "metadata": {},
   "source": [
    "# 1351. Count Negative Numbers in a Sorted Matrix"
   ]
  },
  {
   "cell_type": "raw",
   "metadata": {},
   "source": [
    "Given a m * n matrix grid which is sorted in non-increasing order both row-wise and column-wise. \n",
    "\n",
    "Return the number of negative numbers in grid.\n",
    "\n",
    " \n",
    "\n",
    "Example 1:\n",
    "\n",
    "Input: grid = [[4,3,2,-1],[3,2,1,-1],[1,1,-1,-2],[-1,-1,-2,-3]]\n",
    "Output: 8\n",
    "Explanation: There are 8 negatives number in the matrix.\n",
    "Example 2:\n",
    "\n",
    "Input: grid = [[3,2],[1,0]]\n",
    "Output: 0\n",
    "Example 3:\n",
    "\n",
    "Input: grid = [[1,-1],[-1,-1]]\n",
    "Output: 3\n",
    "Example 4:\n",
    "\n",
    "Input: grid = [[-1]]\n",
    "Output: 1"
   ]
  },
  {
   "cell_type": "markdown",
   "metadata": {},
   "source": [
    "### My solution"
   ]
  },
  {
   "cell_type": "code",
   "execution_count": 747,
   "metadata": {},
   "outputs": [],
   "source": [
    "class Solution:\n",
    "    def countNegatives(self, grid: List[List[int]]) -> int:\n",
    "        cnt = 0\n",
    "        for i in range(len(grid)):\n",
    "            for j in range(len(grid[i])):\n",
    "                if grid[i][j]<0:\n",
    "                    cnt += 1\n",
    "        return cnt"
   ]
  },
  {
   "cell_type": "code",
   "execution_count": 748,
   "metadata": {},
   "outputs": [
    {
     "data": {
      "text/plain": [
       "3"
      ]
     },
     "execution_count": 748,
     "metadata": {},
     "output_type": "execute_result"
    }
   ],
   "source": [
    "grid = [[5,1,0],[-5,-5,-5]]\n",
    "\n",
    "solution = Solution()\n",
    "solution.countNegatives(grid)"
   ]
  },
  {
   "cell_type": "raw",
   "metadata": {},
   "source": [
    "Example 1:\n",
    "\n",
    "Input: [3,1,2,4]\n",
    "Output: [2,4,3,1]\n",
    "The outputs [4,2,3,1], [2,4,1,3], and [4,2,1,3] would also be accepted."
   ]
  },
  {
   "cell_type": "markdown",
   "metadata": {},
   "source": [
    "### My solution"
   ]
  },
  {
   "cell_type": "code",
   "execution_count": 775,
   "metadata": {},
   "outputs": [],
   "source": [
    "class Solution:\n",
    "    def sortArrayByParity(self, A: List[int]) -> List[int]:\n",
    "        B = []\n",
    "        [B.insert(0,i) if i%2==0 else B.append(i) for i in A]\n",
    "        return B"
   ]
  },
  {
   "cell_type": "code",
   "execution_count": 776,
   "metadata": {},
   "outputs": [
    {
     "data": {
      "text/plain": [
       "[4, 2, 3, 1]"
      ]
     },
     "execution_count": 776,
     "metadata": {},
     "output_type": "execute_result"
    }
   ],
   "source": [
    "A = [3,1,2,4]\n",
    "\n",
    "solution = Solution()\n",
    "solution.sortArrayByParity(A)"
   ]
  },
  {
   "cell_type": "markdown",
   "metadata": {},
   "source": [
    "### Best solution"
   ]
  },
  {
   "cell_type": "code",
   "execution_count": 777,
   "metadata": {},
   "outputs": [],
   "source": [
    "class Solution:\n",
    "    def sortArrayByParity(self, A: List[int]) -> List[int]:\n",
    "        A.sort(key=lambda x: x&1)\n",
    "        return A"
   ]
  },
  {
   "cell_type": "code",
   "execution_count": 774,
   "metadata": {},
   "outputs": [
    {
     "data": {
      "text/plain": [
       "[2, 4, 3, 1]"
      ]
     },
     "execution_count": 774,
     "metadata": {},
     "output_type": "execute_result"
    }
   ],
   "source": [
    "A = [3,1,2,4]\n",
    "\n",
    "solution = Solution()\n",
    "solution.sortArrayByParity(A)"
   ]
  },
  {
   "cell_type": "markdown",
   "metadata": {},
   "source": [
    "# 1475. Final Prices With a Special Discount in a Shop"
   ]
  },
  {
   "cell_type": "raw",
   "metadata": {},
   "source": [
    "Given the array prices where prices[i] is the price of the ith item in a shop. There is a special discount for items in the shop, if you buy the ith item, then you will receive a discount equivalent to prices[j] where j is the minimum index such that j > i and prices[j] <= prices[i], otherwise, you will not receive any discount at all.\n",
    "\n",
    "Return an array where the ith element is the final price you will pay for the ith item of the shop considering the special discount.\n",
    "\n",
    " \n",
    "\n",
    "Example 1:\n",
    "\n",
    "Input: prices = [8,4,6,2,3]\n",
    "Output: [4,2,4,2,3]\n",
    "Explanation: \n",
    "For item 0 with price[0]=8 you will receive a discount equivalent to prices[1]=4, therefore, the final price you will pay is 8 - 4 = 4. \n",
    "For item 1 with price[1]=4 you will receive a discount equivalent to prices[3]=2, therefore, the final price you will pay is 4 - 2 = 2. \n",
    "For item 2 with price[2]=6 you will receive a discount equivalent to prices[3]=2, therefore, the final price you will pay is 6 - 2 = 4. \n",
    "For items 3 and 4 you will not receive any discount at all.\n",
    "Example 2:\n",
    "\n",
    "Input: prices = [1,2,3,4,5]\n",
    "Output: [1,2,3,4,5]\n",
    "Explanation: In this case, for all items, you will not receive any discount at all.\n",
    "Example 3:\n",
    "\n",
    "Input: prices = [10,1,1,6]\n",
    "Output: [9,0,1,6]"
   ]
  },
  {
   "cell_type": "markdown",
   "metadata": {},
   "source": [
    "### My solution"
   ]
  },
  {
   "cell_type": "code",
   "execution_count": 837,
   "metadata": {},
   "outputs": [],
   "source": [
    "class Solution:\n",
    "    def finalPrices(self, prices: List[int]) -> List[int]:\n",
    "        \n",
    "        for i in range(len(prices)-1):\n",
    "            k=i+1\n",
    "            while(k < len(prices)):\n",
    "                if prices[i] >= prices[k]:\n",
    "                    prices[i] = prices[i] - prices[k]\n",
    "                    break\n",
    "                k += 1\n",
    "        return prices"
   ]
  },
  {
   "cell_type": "code",
   "execution_count": 838,
   "metadata": {},
   "outputs": [
    {
     "data": {
      "text/plain": [
       "[4, 2, 4, 2, 3]"
      ]
     },
     "execution_count": 838,
     "metadata": {},
     "output_type": "execute_result"
    }
   ],
   "source": [
    "prices = [8,4,6,2,3]\n",
    "\n",
    "solution = Solution()\n",
    "solution.finalPrices(prices)"
   ]
  },
  {
   "cell_type": "markdown",
   "metadata": {},
   "source": [
    "# 1299. Replace Elements with Greatest Element on Right Side"
   ]
  },
  {
   "cell_type": "raw",
   "metadata": {},
   "source": [
    "Given an array arr, replace every element in that array with the greatest element among the elements to its right, and replace the last element with -1.\n",
    "\n",
    "After doing so, return the array.\n",
    "\n",
    " \n",
    "\n",
    "Example 1:\n",
    "\n",
    "Input: arr = [17,18,5,4,6,1]\n",
    "Output: [18,6,6,6,1,-1]"
   ]
  },
  {
   "cell_type": "markdown",
   "metadata": {},
   "source": [
    "### My solution"
   ]
  },
  {
   "cell_type": "code",
   "execution_count": 892,
   "metadata": {},
   "outputs": [],
   "source": [
    "class Solution:\n",
    "    def replaceElements(self, arr: List[int]) -> List[int]:\n",
    "        for i in range(len(arr)):\n",
    "            if arr[i] < max(arr[-((len(arr)-i)):]):\n",
    "                arr[i] = max(arr[-((len(arr)-i)):])\n",
    "        arr.pop(0)\n",
    "        arr.append(-1)\n",
    "        return arr"
   ]
  },
  {
   "cell_type": "code",
   "execution_count": 893,
   "metadata": {},
   "outputs": [
    {
     "data": {
      "text/plain": [
       "[19, 19, 6, 6, 6, 1, -1]"
      ]
     },
     "execution_count": 893,
     "metadata": {},
     "output_type": "execute_result"
    }
   ],
   "source": [
    "arr = [17,18,19,5,4,6,1]\n",
    "\n",
    "solution = Solution()\n",
    "solution.replaceElements(arr)"
   ]
  },
  {
   "cell_type": "markdown",
   "metadata": {},
   "source": [
    "# 1640. Check Array Formation Through Concatenation"
   ]
  },
  {
   "cell_type": "raw",
   "metadata": {},
   "source": [
    "You are given an array of distinct integers arr and an array of integer arrays pieces, where the integers in pieces are distinct. Your goal is to form arr by concatenating the arrays in pieces in any order. However, you are not allowed to reorder the integers in each array pieces[i].\n",
    "\n",
    "Return true if it is possible to form the array arr from pieces. Otherwise, return false.\n",
    "Example 1:\n",
    "\n",
    "Input: arr = [85], pieces = [[85]]\n",
    "Output: true\n",
    "Example 2:\n",
    "\n",
    "Input: arr = [15,88], pieces = [[88],[15]]\n",
    "Output: true\n",
    "Explanation: Concatenate [15] then [88]\n",
    "Example 3:\n",
    "\n",
    "Input: arr = [49,18,16], pieces = [[16,18,49]]\n",
    "Output: false\n",
    "Explanation: Even though the numbers match, we cannot reorder pieces[0]."
   ]
  },
  {
   "cell_type": "markdown",
   "metadata": {},
   "source": [
    "### My solution"
   ]
  },
  {
   "cell_type": "code",
   "execution_count": 1274,
   "metadata": {},
   "outputs": [],
   "source": [
    "class Solution:\n",
    "    def canFormArray(self, arr: List[int], pieces: List[List[int]]) -> bool:\n",
    "        res = True\n",
    "        \n",
    "#         print(arr.count(\",\"))\n",
    "#         if len(arr) != len(pieces):\n",
    "#             print(\"first\")\n",
    "#             return False\n",
    "\n",
    "#         print(any(elem in arr for elem in pieces))\n",
    "        for elem in pieces:\n",
    "            print(elem)\n",
    "            if elem[0] in arr:\n",
    "                print(\"here\")\n",
    "                  \n",
    "\n",
    "#             print(elem)\n",
    "#             print(\"second\")\n",
    "#             return False\n",
    "#         k = max(pieces, key=len)\n",
    "#         for i in range(len(arr)):\n",
    "#             if arr[i : i+len(k)] == k:\n",
    "#                 res = True\n",
    "#                 break\n",
    "#             else:\n",
    "#                 res = False\n",
    "        return res"
   ]
  },
  {
   "cell_type": "code",
   "execution_count": 1275,
   "metadata": {},
   "outputs": [
    {
     "name": "stdout",
     "output_type": "stream",
     "text": [
      "0\n"
     ]
    },
    {
     "data": {
      "text/plain": [
       "False"
      ]
     },
     "execution_count": 1275,
     "metadata": {},
     "output_type": "execute_result"
    }
   ],
   "source": [
    "# arr = [15,88,33]\n",
    "# pieces = [[88],[15]]\n",
    "\n",
    "# arr = [12,21,11,22]\n",
    "# pieces=[[12,21],[1,2]]\n",
    "\n",
    "# arr = [49,18,16]\n",
    "# pieces = [[16,18,49]]\n",
    "\n",
    "arr = [85]\n",
    "pieces = [[85]]\n",
    "\n",
    "\n",
    "solution = Solution()\n",
    "solution.canFormArray(arr, pieces)"
   ]
  },
  {
   "cell_type": "code",
   "execution_count": 1360,
   "metadata": {},
   "outputs": [],
   "source": [
    "arr = [85,15,13]\n",
    "pieces=[[85,15],[13,15]]\n",
    "\n",
    "list0 = \"\"\n",
    "for i in pieces:\n",
    "    list0 +=','+','.join(map(str, i))\n",
    "list0 = list0[1:].split(',')\n",
    "pieces_in = [int(i) for i in list0]"
   ]
  },
  {
   "cell_type": "code",
   "execution_count": 1382,
   "metadata": {},
   "outputs": [],
   "source": [
    "class Solution:\n",
    "    def canFormArray(self, arr: List[int], pieces: List[List[int]]) -> bool:\n",
    "        res = True\n",
    "        list0 = \"\"\n",
    "        \n",
    "        for i in pieces:\n",
    "            list0 +=','+','.join(map(str, i))\n",
    "        list0 = list0[1:].split(',')        \n",
    "        pieces_in = [int(i) for i in list0]\n",
    "        \n",
    "        if set(arr) != set(pieces_in):\n",
    "            return False\n",
    "        k = max(pieces, key=len)\n",
    "        \n",
    "        for i in range(len(arr)):\n",
    "            if arr[i : i+len(k)] == k:\n",
    "                res = True\n",
    "                break\n",
    "            else:\n",
    "                res = False\n",
    "        return res"
   ]
  },
  {
   "cell_type": "code",
   "execution_count": 1384,
   "metadata": {
    "scrolled": true
   },
   "outputs": [
    {
     "data": {
      "text/plain": [
       "True"
      ]
     },
     "execution_count": 1384,
     "metadata": {},
     "output_type": "execute_result"
    }
   ],
   "source": [
    "arr = [12,21,11,22]\n",
    "pieces = [[12,21],[1,2]]\n",
    "\n",
    "solution = Solution()\n",
    "solution.canFormArray(arr, pieces)"
   ]
  },
  {
   "cell_type": "markdown",
   "metadata": {},
   "source": [
    "### Best solution"
   ]
  },
  {
   "cell_type": "code",
   "execution_count": 1395,
   "metadata": {},
   "outputs": [],
   "source": [
    "class Solution:\n",
    "    def canFormArray(self, arr: List[int], pieces: List[List[int]]) -> bool:\n",
    "\n",
    "        for i in pieces:\n",
    "            try:\n",
    "                pos  = arr.index(i[0])\n",
    "                print(arr.index(i[0]))\n",
    "            except ValueError:\n",
    "                return False\n",
    "            if arr[pos:pos+len(i)] != i:\n",
    "                return False\n",
    "        return True"
   ]
  },
  {
   "cell_type": "code",
   "execution_count": 1396,
   "metadata": {},
   "outputs": [
    {
     "name": "stdout",
     "output_type": "stream",
     "text": [
      "0\n"
     ]
    },
    {
     "data": {
      "text/plain": [
       "False"
      ]
     },
     "execution_count": 1396,
     "metadata": {},
     "output_type": "execute_result"
    }
   ],
   "source": [
    "arr = [12,21,11,22]\n",
    "pieces = [[12,21],[1,2]]\n",
    "\n",
    "solution = Solution()\n",
    "solution.canFormArray(arr, pieces)"
   ]
  },
  {
   "cell_type": "markdown",
   "metadata": {},
   "source": [
    "# 561. Array Partition I"
   ]
  },
  {
   "cell_type": "raw",
   "metadata": {},
   "source": [
    "Given an integer array nums of 2n integers, group these integers into n pairs (a1, b1), (a2, b2), ..., (an, bn) such that the sum of min(ai, bi) for all i is maximized. Return the maximized sum.\n",
    "\n",
    "Example 1:\n",
    "\n",
    "Input: nums = [1,4,3,2]\n",
    "Output: 4\n",
    "Explanation: All possible pairings (ignoring the ordering of elements) are:\n",
    "1. (1, 4), (2, 3) -> min(1, 4) + min(2, 3) = 1 + 2 = 3\n",
    "2. (1, 3), (2, 4) -> min(1, 3) + min(2, 4) = 1 + 2 = 3\n",
    "3. (1, 2), (3, 4) -> min(1, 2) + min(3, 4) = 1 + 3 = 4\n",
    "So the maximum possible sum is 4.\n",
    "Example 2:\n",
    "\n",
    "Input: nums = [6,2,6,5,1,2]\n",
    "Output: 9\n",
    "Explanation: The optimal pairing is (2, 1), (2, 5), (6, 6). min(2, 1) + min(2, 5) + min(6, 6) = 1 + 2 + 6 = 9."
   ]
  },
  {
   "cell_type": "code",
   "execution_count": 1422,
   "metadata": {},
   "outputs": [],
   "source": [
    "class Solution:\n",
    "    def arrayPairSum(self, nums: List[int]) -> int:\n",
    "#         nums.sort()\n",
    "#         return sum(nums[0::2])\n",
    "        return sum(sorted(nums)[::2])"
   ]
  },
  {
   "cell_type": "code",
   "execution_count": 1423,
   "metadata": {},
   "outputs": [
    {
     "data": {
      "text/plain": [
       "4"
      ]
     },
     "execution_count": 1423,
     "metadata": {},
     "output_type": "execute_result"
    }
   ],
   "source": [
    "nums = [1,4,3,2]\n",
    "\n",
    "solution = Solution()\n",
    "solution.arrayPairSum(nums)"
   ]
  },
  {
   "cell_type": "raw",
   "metadata": {},
   "source": [
    "Example 1:\n",
    "\n",
    "Input: target = [1,2,3,4], arr = [2,4,1,3]\n",
    "Output: true\n",
    "Explanation: You can follow the next steps to convert arr to target:\n",
    "1- Reverse sub-array [2,4,1], arr becomes [1,4,2,3]\n",
    "2- Reverse sub-array [4,2], arr becomes [1,2,4,3]\n",
    "3- Reverse sub-array [4,3], arr becomes [1,2,3,4]\n",
    "There are multiple ways to convert arr to target, this is not the only way to do so.\n",
    "Example 2:\n",
    "\n",
    "Input: target = [7], arr = [7]\n",
    "Output: true\n",
    "Explanation: arr is equal to target without any reverses."
   ]
  },
  {
   "cell_type": "code",
   "execution_count": 1432,
   "metadata": {},
   "outputs": [],
   "source": [
    "class Solution:\n",
    "    def canBeEqual(self, target: List[int], arr: List[int]) -> bool:\n",
    "        return sorted(arr) == sorted(target)"
   ]
  },
  {
   "cell_type": "code",
   "execution_count": 1433,
   "metadata": {
    "scrolled": true
   },
   "outputs": [
    {
     "data": {
      "text/plain": [
       "False"
      ]
     },
     "execution_count": 1433,
     "metadata": {},
     "output_type": "execute_result"
    }
   ],
   "source": [
    "target = [1,2,2,3]\n",
    "arr = [1,1,2,3]\n",
    "\n",
    "solution = Solution()\n",
    "solution.canBeEqual(target, arr)"
   ]
  },
  {
   "cell_type": "markdown",
   "metadata": {},
   "source": [
    "### Best solution"
   ]
  },
  {
   "cell_type": "code",
   "execution_count": 1448,
   "metadata": {},
   "outputs": [],
   "source": [
    "from collections import Counter\n",
    "\n",
    "class Solution:\n",
    "    def canBeEqual(self, target: List[int], arr: List[int]) -> bool:\n",
    "        return Counter(target) == Counter(arr)"
   ]
  },
  {
   "cell_type": "code",
   "execution_count": 1449,
   "metadata": {},
   "outputs": [
    {
     "data": {
      "text/plain": [
       "False"
      ]
     },
     "execution_count": 1449,
     "metadata": {},
     "output_type": "execute_result"
    }
   ],
   "source": [
    "target = [1,2,2,3]\n",
    "arr = [1,1,2,3]\n",
    "\n",
    "solution = Solution()\n",
    "solution.canBeEqual(target, arr)"
   ]
  },
  {
   "cell_type": "markdown",
   "metadata": {},
   "source": [
    "# 977. Squares of a Sorted Array"
   ]
  },
  {
   "cell_type": "raw",
   "metadata": {},
   "source": [
    "Given an integer array nums sorted in non-decreasing order, return an array of the squares of each number sorted in non-decreasing order.\n",
    " \n",
    "\n",
    "Example 1:\n",
    "\n",
    "Input: nums = [-4,-1,0,3,10]\n",
    "Output: [0,1,9,16,100]\n",
    "Explanation: After squaring, the array becomes [16,1,0,9,100].\n",
    "After sorting, it becomes [0,1,9,16,100].\n",
    "Example 2:\n",
    "\n",
    "Input: nums = [-7,-3,2,3,11]\n",
    "Output: [4,9,9,49,121]"
   ]
  },
  {
   "cell_type": "code",
   "execution_count": 1475,
   "metadata": {},
   "outputs": [],
   "source": [
    "class Solution:\n",
    "    def sortedSquares(self, nums: List[int]) -> List[int]:\n",
    "        return sorted([i ** 2 for i in nums])"
   ]
  },
  {
   "cell_type": "code",
   "execution_count": 1474,
   "metadata": {},
   "outputs": [
    {
     "data": {
      "text/plain": [
       "[0, 1, 9, 16, 100]"
      ]
     },
     "execution_count": 1474,
     "metadata": {},
     "output_type": "execute_result"
    }
   ],
   "source": [
    "nums = [-4,-1,0,3,10]\n",
    "\n",
    "solution = Solution()\n",
    "solution.sortedSquares(nums)"
   ]
  },
  {
   "cell_type": "markdown",
   "metadata": {},
   "source": [
    "### Best solution"
   ]
  },
  {
   "cell_type": "code",
   "execution_count": 1476,
   "metadata": {},
   "outputs": [],
   "source": [
    "def sortedSquares(self, A: List[int]) -> List[int]:\n",
    "        for i in range(len(A)):\n",
    "            A[i] *= A[i]\n",
    "        A.sort()\n",
    "        return A"
   ]
  },
  {
   "cell_type": "code",
   "execution_count": 1477,
   "metadata": {},
   "outputs": [
    {
     "data": {
      "text/plain": [
       "[0, 1, 9, 16, 100]"
      ]
     },
     "execution_count": 1477,
     "metadata": {},
     "output_type": "execute_result"
    }
   ],
   "source": [
    "nums = [-4,-1,0,3,10]\n",
    "\n",
    "solution = Solution()\n",
    "solution.sortedSquares(nums)"
   ]
  },
  {
   "cell_type": "markdown",
   "metadata": {},
   "source": [
    "# 1217. Minimum Cost to Move Chips to The Same Position"
   ]
  },
  {
   "cell_type": "raw",
   "metadata": {},
   "source": [
    "We have n chips, where the position of the ith chip is position[i].\n",
    "\n",
    "We need to move all the chips to the same position. In one step, we can change the position of the ith chip from position[i] to:\n",
    "\n",
    "position[i] + 2 or position[i] - 2 with cost = 0.\n",
    "position[i] + 1 or position[i] - 1 with cost = 1.\n",
    "Return the minimum cost needed to move all the chips to the same position.\n",
    "\n",
    "Example 1:\n",
    "Input: position = [1,2,3]\n",
    "Output: 1\n",
    "Explanation: First step: Move the chip at position 3 to position 1 with cost = 0.\n",
    "Second step: Move the chip at position 2 to position 1 with cost = 1.\n",
    "Total cost is 1.\n",
    "\n",
    "Example 2:\n",
    "Input: position = [2,2,2,3,3]\n",
    "Output: 2\n",
    "Explanation: We can move the two chips at position  3 to position 2. Each move has cost = 1. The total cost = 2.\n",
    "\n",
    "Example 3:\n",
    "Input: position = [1,1000000000]\n",
    "Output: 1"
   ]
  },
  {
   "cell_type": "code",
   "execution_count": 1624,
   "metadata": {},
   "outputs": [],
   "source": [
    "from collections import Counter\n",
    "\n",
    "class Solution:\n",
    "    def minCostToMoveChips(self, position: List[int]) -> int:\n",
    "        c = Counter(position)\n",
    "        res = even_sum = odd_sum = even_max_key = odd_max_key =0\n",
    "        \n",
    "        for k,v in c.items():\n",
    "            if k%2 == 0:\n",
    "                even_sum += v\n",
    "            else:\n",
    "                odd_sum += v\n",
    "                \n",
    "        return min(even_sum, odd_sum)"
   ]
  },
  {
   "cell_type": "code",
   "execution_count": 1625,
   "metadata": {},
   "outputs": [
    {
     "data": {
      "text/plain": [
       "4"
      ]
     },
     "execution_count": 1625,
     "metadata": {},
     "output_type": "execute_result"
    }
   ],
   "source": [
    "position = [6,4,7,8,2,10,2,7,9,7]\n",
    "\n",
    "solution = Solution()\n",
    "solution.minCostToMoveChips(position)"
   ]
  },
  {
   "cell_type": "markdown",
   "metadata": {},
   "source": [
    "# 1502. Can Make Arithmetic Progression From Sequence"
   ]
  },
  {
   "cell_type": "raw",
   "metadata": {},
   "source": [
    "Given an array of numbers arr. A sequence of numbers is called an arithmetic progression if the difference between any two consecutive elements is the same.\n",
    "\n",
    "Return true if the array can be rearranged to form an arithmetic progression, otherwise, return false.\n",
    "\n",
    "Example 1:\n",
    "\n",
    "Input: arr = [3,5,1]\n",
    "Output: true\n",
    "Explanation: We can reorder the elements as [1,3,5] or [5,3,1] with differences 2 and -2 respectively, between each consecutive elements.\n",
    "Example 2:\n",
    "\n",
    "Input: arr = [1,2,4]\n",
    "Output: false\n",
    "Explanation: There is no way to reorder the elements to obtain an arithmetic progression."
   ]
  },
  {
   "cell_type": "markdown",
   "metadata": {},
   "source": [
    "### My solution"
   ]
  },
  {
   "cell_type": "code",
   "execution_count": 1656,
   "metadata": {},
   "outputs": [],
   "source": [
    "class Solution:\n",
    "    def canMakeArithmeticProgression(self, arr: List[int]) -> bool:\n",
    "        sorted_list = sorted(arr)\n",
    "        d = sorted_list[1] - sorted_list[0]\n",
    "        \n",
    "        for i in range(1, len(sorted_list)+1):\n",
    "#             print(sorted_list[i-1])\n",
    "            if sorted_list[i-1] != sorted_list[0] + (i - 1)*d:\n",
    "                return False\n",
    "        return True"
   ]
  },
  {
   "cell_type": "code",
   "execution_count": 1657,
   "metadata": {},
   "outputs": [
    {
     "data": {
      "text/plain": [
       "False"
      ]
     },
     "execution_count": 1657,
     "metadata": {},
     "output_type": "execute_result"
    }
   ],
   "source": [
    "arr = [3,5,1]\n",
    "\n",
    "solution = Solution()\n",
    "solution.canMakeArithmeticProgression(arr)"
   ]
  },
  {
   "cell_type": "markdown",
   "metadata": {},
   "source": [
    "# 1380. Lucky Numbers in a Matrix"
   ]
  },
  {
   "cell_type": "raw",
   "metadata": {},
   "source": [
    "Given a m * n matrix of distinct numbers, return all lucky numbers in the matrix in any order.\n",
    "\n",
    "A lucky number is an element of the matrix such that it is the minimum element in its row and maximum in its column. \n",
    "\n",
    "Example 1:\n",
    "\n",
    "Input: matrix = [[3,7,8],[9,11,13],[15,16,17]]\n",
    "Output: [15]\n",
    "Explanation: 15 is the only lucky number since it is the minimum in its row and the maximum in its column\n",
    "Example 2:\n",
    "\n",
    "Input: matrix = [[1,10,4,2],[9,3,8,7],[15,16,17,12]]\n",
    "Output: [12]\n",
    "Explanation: 12 is the only lucky number since it is the minimum in its row and the maximum in its column.\n",
    "Example 3:\n",
    "\n",
    "Input: matrix = [[7,8],[1,2]]\n",
    "Output: [7]"
   ]
  },
  {
   "cell_type": "code",
   "execution_count": 1791,
   "metadata": {},
   "outputs": [],
   "source": [
    "class Solution:\n",
    "    def luckyNumbers (self, matrix: List[List[int]]) -> List[int]:\n",
    "        d={}\n",
    "        index0 = 0\n",
    "        max1 = []\n",
    "        \n",
    "        for i in range(len(matrix)):\n",
    "            d[i] = min(matrix[i])\n",
    "        max0 = max(d, key = d.get)\n",
    "        min0 = min(matrix[max0])\n",
    "        index0 = matrix[max0].index(min0)\n",
    "        for i in range(len(matrix)):\n",
    "            max1.append(matrix[i][index0])\n",
    "        if max(max1) == min0:\n",
    "            return [min0]\n",
    "        else:\n",
    "            return []"
   ]
  },
  {
   "cell_type": "code",
   "execution_count": 1792,
   "metadata": {},
   "outputs": [
    {
     "data": {
      "text/plain": [
       "[15]"
      ]
     },
     "execution_count": 1792,
     "metadata": {},
     "output_type": "execute_result"
    }
   ],
   "source": [
    "# matrix = [[36376,85652,21002,4510],[68246,64237,42962,9974],[32768,97721,47338,5841],[55103,18179,79062,46542]]\n",
    "matrix = [[3,7,8],[9,11,13],[15,16,17]]\n",
    "\n",
    "solution = Solution()\n",
    "solution.luckyNumbers(matrix)"
   ]
  },
  {
   "cell_type": "markdown",
   "metadata": {},
   "source": [
    "### Best solution"
   ]
  },
  {
   "cell_type": "code",
   "execution_count": 1851,
   "metadata": {},
   "outputs": [],
   "source": [
    "class Solution:\n",
    "    def luckyNumbers (self, matrix: List[List[int]]) -> List[int]:\n",
    "        return list({min(row) for row in matrix}& {max(col) for col in zip(*matrix)})"
   ]
  },
  {
   "cell_type": "code",
   "execution_count": 1852,
   "metadata": {},
   "outputs": [
    {
     "data": {
      "text/plain": [
       "[15]"
      ]
     },
     "execution_count": 1852,
     "metadata": {},
     "output_type": "execute_result"
    }
   ],
   "source": [
    "# matrix = [[36376,85652,21002,4510],[68246,64237,42962,9974],[32768,97721,47338,5841],[55103,18179,79062,46542]]\n",
    "matrix = [[3,7,8],[9,11,13],[15,16,17]]\n",
    "\n",
    "solution = Solution()\n",
    "solution.luckyNumbers(matrix)"
   ]
  },
  {
   "cell_type": "markdown",
   "metadata": {},
   "source": [
    "# 1394. Find Lucky Integer in an Array"
   ]
  },
  {
   "cell_type": "raw",
   "metadata": {},
   "source": [
    "Given an array of integers arr, a lucky integer is an integer which has a frequency in the array equal to its value.\n",
    "\n",
    "Return a lucky integer in the array. If there are multiple lucky integers return the largest of them. If there is no lucky integer return -1.\n",
    "\n",
    " \n",
    "\n",
    "Example 1:\n",
    "\n",
    "Input: arr = [2,2,3,4]\n",
    "Output: 2\n",
    "Explanation: The only lucky number in the array is 2 because frequency[2] == 2.\n",
    "Example 2:\n",
    "\n",
    "Input: arr = [1,2,2,3,3,3]\n",
    "Output: 3\n",
    "Explanation: 1, 2 and 3 are all lucky numbers, return the largest of them.\n",
    "Example 3:\n",
    "\n",
    "Input: arr = [2,2,2,3,3]\n",
    "Output: -1\n",
    "Explanation: There are no lucky numbers in the array."
   ]
  },
  {
   "cell_type": "code",
   "execution_count": 1885,
   "metadata": {},
   "outputs": [],
   "source": [
    "from collections import Counter\n",
    "class Solution:\n",
    "    def findLucky(self, arr: List[int]) -> int:\n",
    "        res = -1\n",
    "        c = dict(Counter(arr))\n",
    "        for k,v in c.items():\n",
    "            if k == v:\n",
    "                if k > res:\n",
    "                    res = k\n",
    "        return res"
   ]
  },
  {
   "cell_type": "code",
   "execution_count": 1887,
   "metadata": {},
   "outputs": [
    {
     "data": {
      "text/plain": [
       "-1"
      ]
     },
     "execution_count": 1887,
     "metadata": {},
     "output_type": "execute_result"
    }
   ],
   "source": [
    "arr = [1,2,2,3,3,3]\n",
    "\n",
    "solution = Solution()\n",
    "solution.findLucky(arr)"
   ]
  },
  {
   "cell_type": "markdown",
   "metadata": {},
   "source": [
    "# 922. Sort Array By Parity II"
   ]
  },
  {
   "cell_type": "raw",
   "metadata": {},
   "source": [
    "Given an array A of non-negative integers, half of the integers in A are odd, and half of the integers are even.\n",
    "\n",
    "Sort the array so that whenever A[i] is odd, i is odd; and whenever A[i] is even, i is even.\n",
    "\n",
    "You may return any answer array that satisfies this condition.\n",
    "\n",
    "Example 1:\n",
    "\n",
    "Input: [4,2,5,7]\n",
    "Output: [4,5,2,7]\n",
    "Explanation: [4,7,2,5], [2,5,4,7], [2,7,4,5] would also have been accepted."
   ]
  },
  {
   "cell_type": "code",
   "execution_count": 2029,
   "metadata": {},
   "outputs": [],
   "source": [
    "from collections import deque\n",
    "\n",
    "class Solution:\n",
    "    def sortArrayByParityII(self, A: List[int]) -> List[int]:\n",
    "        B = []\n",
    "        left0=right0=0\n",
    "    \n",
    "        A.sort(key=lambda x: x&1)\n",
    "        d = deque(A)\n",
    "        \n",
    "        for i in range(int(len(A)/2)):\n",
    "            left0 = d.popleft()\n",
    "            right0 = d.pop()\n",
    "            B.append(left0)\n",
    "            B.append(right0)\n",
    "        return B"
   ]
  },
  {
   "cell_type": "code",
   "execution_count": 2031,
   "metadata": {
    "scrolled": true
   },
   "outputs": [
    {
     "data": {
      "text/plain": [
       "[4, 3]"
      ]
     },
     "execution_count": 2031,
     "metadata": {},
     "output_type": "execute_result"
    }
   ],
   "source": [
    "A = [3,4]\n",
    "\n",
    "solution = Solution()\n",
    "solution.sortArrayByParityII(A)"
   ]
  },
  {
   "cell_type": "markdown",
   "metadata": {},
   "source": [
    "### Best solution"
   ]
  },
  {
   "cell_type": "code",
   "execution_count": 2047,
   "metadata": {},
   "outputs": [],
   "source": [
    "class Solution:\n",
    "    def sortArrayByParityII(self, a):\n",
    "        i = 0 # pointer for even misplaced\n",
    "        j = 1 # pointer for odd misplaced\n",
    "        sz = len(a)\n",
    "        \n",
    "        # invariant: for every misplaced odd there is misplaced even\n",
    "        # since there is just enough space for odds and evens\n",
    "\n",
    "        while i < sz and j < sz:\n",
    "#             print(\"i\",i)\n",
    "#             print(\"j\",j)\n",
    "\n",
    "            if a[i] % 2 == 0:\n",
    "                i += 2\n",
    "            elif a[j] % 2 == 1:\n",
    "                j += 2\n",
    "            else:\n",
    "                # a[i] % 2 == 1 AND a[j] % 2 == 0\n",
    "                print('a[i]',a[i])\n",
    "                print('a[j]',a[j])\n",
    "                a[i],a[j] = a[j],a[i]\n",
    "                i += 2\n",
    "                j += 2\n",
    "\n",
    "        return a"
   ]
  },
  {
   "cell_type": "code",
   "execution_count": 2049,
   "metadata": {},
   "outputs": [
    {
     "name": "stdout",
     "output_type": "stream",
     "text": [
      "a[i] 7\n",
      "a[j] 2\n"
     ]
    },
    {
     "data": {
      "text/plain": [
       "[4, 7, 2, 2, 2, 5, 2]"
      ]
     },
     "execution_count": 2049,
     "metadata": {},
     "output_type": "execute_result"
    }
   ],
   "source": [
    "A = [4,2,2,2,2,5,7]\n",
    "\n",
    "solution = Solution()\n",
    "solution.sortArrayByParityII(A)"
   ]
  },
  {
   "cell_type": "code",
   "execution_count": 2051,
   "metadata": {},
   "outputs": [],
   "source": [
    "class Solution:\n",
    "    def sortArrayByParityII(self, A: List[int]) -> List[int]:\n",
    "        i = 0\n",
    "        j = 1\n",
    "        \n",
    "        while i < len(A) and j < len(A):\n",
    "            if A[i]%2 == 0:\n",
    "                i += 2\n",
    "            elif A[j]%2 == 1:\n",
    "                j += 2\n",
    "            else:\n",
    "                A[i], A[j] = A[j], A[i]\n",
    "                i += 2\n",
    "                j += 2\n",
    "        return A"
   ]
  },
  {
   "cell_type": "code",
   "execution_count": 2052,
   "metadata": {},
   "outputs": [
    {
     "data": {
      "text/plain": [
       "[4, 5, 2, 7]"
      ]
     },
     "execution_count": 2052,
     "metadata": {},
     "output_type": "execute_result"
    }
   ],
   "source": [
    "A = [4,2,5,7]\n",
    "\n",
    "solution = Solution()\n",
    "solution.sortArrayByParityII(A)"
   ]
  },
  {
   "cell_type": "markdown",
   "metadata": {},
   "source": [
    "# 1337. The K Weakest Rows in a Matrix"
   ]
  },
  {
   "cell_type": "raw",
   "metadata": {},
   "source": [
    "Given a m * n matrix mat of ones (representing soldiers) and zeros (representing civilians), return the indexes of the k weakest rows in the matrix ordered from the weakest to the strongest.\n",
    "\n",
    "A row i is weaker than row j, if the number of soldiers in row i is less than the number of soldiers in row j, or they have the same number of soldiers but i is less than j. Soldiers are always stand in the frontier of a row, that is, always ones may appear first and then zeros.\n",
    "\n",
    "Example 1:\n",
    "\n",
    "Input: mat = \n",
    "[[1,1,0,0,0],\n",
    " [1,1,1,1,0],\n",
    " [1,0,0,0,0],\n",
    " [1,1,0,0,0],\n",
    " [1,1,1,1,1]], \n",
    "k = 3\n",
    "Output: [2,0,3]\n",
    "Explanation: \n",
    "The number of soldiers for each row is: \n",
    "row 0 -> 2 \n",
    "row 1 -> 4 \n",
    "row 2 -> 1 \n",
    "row 3 -> 2 \n",
    "row 4 -> 5 \n",
    "Rows ordered from the weakest to the strongest are [2,0,3,1,4]\n",
    "Example 2:\n",
    "\n",
    "Input: mat = \n",
    "[[1,0,0,0],\n",
    " [1,1,1,1],\n",
    " [1,0,0,0],\n",
    " [1,0,0,0]], \n",
    "k = 2\n",
    "Output: [0,2]\n",
    "Explanation: \n",
    "The number of soldiers for each row is: \n",
    "row 0 -> 1 \n",
    "row 1 -> 4 \n",
    "row 2 -> 1 \n",
    "row 3 -> 1 \n",
    "Rows ordered from the weakest to the strongest are [0,2,3,1]"
   ]
  },
  {
   "cell_type": "code",
   "execution_count": 2254,
   "metadata": {},
   "outputs": [],
   "source": [
    "class Solution:\n",
    "    def kWeakestRows(self, mat: List[List[int]], k: int) -> List[int]:\n",
    "        res = []\n",
    "        list0=[]\n",
    "        d = {}\n",
    "        \n",
    "        for i in range(len(mat)):\n",
    "            d[i] = sum(mat[i])\n",
    "        \n",
    "        list0 = sorted(d.items(), key=lambda x: (x[1], x[0]))\n",
    "        for i in range(k):\n",
    "            res.append(list0[i][0])\n",
    "        return res"
   ]
  },
  {
   "cell_type": "code",
   "execution_count": 2255,
   "metadata": {},
   "outputs": [
    {
     "data": {
      "text/plain": [
       "[2, 0, 3]"
      ]
     },
     "execution_count": 2255,
     "metadata": {},
     "output_type": "execute_result"
    }
   ],
   "source": [
    "mat = [[1,1,0,0,0],[1,1,1,1,0],[1,0,0,0,0],[1,1,0,0,0],[1,1,1,1,1]]\n",
    "k = 3\n",
    "\n",
    "solution = Solution()\n",
    "solution.kWeakestRows(mat, k)"
   ]
  },
  {
   "cell_type": "code",
   "execution_count": null,
   "metadata": {},
   "outputs": [],
   "source": [
    "Example 1:\n",
    "\n",
    "Input: salary = [4000,3000,1000,2000]\n",
    "Output: 2500.00000\n",
    "Explanation: Minimum salary and maximum salary are 1000 and 4000 respectively.\n",
    "Average salary excluding minimum and maximum salary is (2000+3000)/2= 2500\n",
    "Example 2:\n",
    "\n",
    "Input: salary = [1000,2000,3000]\n",
    "Output: 2000.00000\n",
    "Explanation: Minimum salary and maximum salary are 1000 and 3000 respectively.\n",
    "Average salary excluding minimum and maximum salary is (2000)/1= 2000\n",
    "Example 3:\n",
    "\n",
    "Input: salary = [6000,5000,4000,3000,2000,1000]\n",
    "Output: 3500.00000\n",
    "Example 4:\n",
    "\n",
    "Input: salary = [8000,9000,2000,3000,6000,1000]\n",
    "Output: 4750.00000"
   ]
  },
  {
   "cell_type": "markdown",
   "metadata": {},
   "source": [
    "# 1491. Average Salary Excluding the Minimum and Maximum Salary"
   ]
  },
  {
   "cell_type": "markdown",
   "metadata": {},
   "source": [
    "### My solution"
   ]
  },
  {
   "cell_type": "code",
   "execution_count": 2277,
   "metadata": {},
   "outputs": [],
   "source": [
    "import statistics\n",
    "\n",
    "class Solution:\n",
    "    def average(self, salary: List[int]) -> float:\n",
    "        return statistics.mean(set(salary)^set([max(salary),min(salary)]))"
   ]
  },
  {
   "cell_type": "code",
   "execution_count": 2278,
   "metadata": {},
   "outputs": [
    {
     "data": {
      "text/plain": [
       "4750"
      ]
     },
     "execution_count": 2278,
     "metadata": {},
     "output_type": "execute_result"
    }
   ],
   "source": [
    "salary = [8000,9000,2000,3000,6000,1000]\n",
    "\n",
    "\n",
    "solution = Solution()\n",
    "solution.average(salary)"
   ]
  },
  {
   "cell_type": "raw",
   "metadata": {},
   "source": [
    "Given an array A of strings made only from lowercase letters, return a list of all characters that show up in all strings within the list (including duplicates).  For example, if a character occurs 3 times in all strings but not 4 times, you need to include that character three times in the final answer.\n",
    "\n",
    "You may return the answer in any order.\n",
    "\n",
    " \n",
    "\n",
    "Example 1:\n",
    "\n",
    "Input: [\"bella\",\"label\",\"roller\"]\n",
    "Output: [\"e\",\"l\",\"l\"]\n",
    "Example 2:\n",
    "\n",
    "Input: [\"cool\",\"lock\",\"cook\"]\n",
    "Output: [\"c\",\"o\"]\n"
   ]
  },
  {
   "cell_type": "code",
   "execution_count": 23,
   "metadata": {},
   "outputs": [],
   "source": [
    "from collections import Counter\n",
    "\n",
    "class Solution:\n",
    "    def commonChars(self, A: List[str]) -> List[str]:\n",
    "        min0 = 100\n",
    "        d = {}\n",
    "        b = set(A[0])\n",
    "        \n",
    "        for i in range(len(A)):\n",
    "            b  &= (set(A[i]))\n",
    "        c = list(b)\n",
    "        \n",
    "        for i in c:\n",
    "            for k in A:\n",
    "                m = k.count(i)\n",
    "                if m <= min0:\n",
    "                    min0 = m\n",
    "                d[i] = min0\n",
    "            min0 = 100\n",
    "        return list(Counter(d).elements())"
   ]
  },
  {
   "cell_type": "code",
   "execution_count": 22,
   "metadata": {},
   "outputs": [
    {
     "data": {
      "text/plain": [
       "['c', 'd', 'd']"
      ]
     },
     "execution_count": 22,
     "metadata": {},
     "output_type": "execute_result"
    }
   ],
   "source": [
    "A = [\"bcaddcdd\",\"cbcdccdd\",\"ddccbdda\",\"dacbbdad\",\"dababdcb\",\"bccbdaad\",\"dbccbabd\",\"accdddda\"]\n",
    "\n",
    "solution = Solution()\n",
    "solution.commonChars(A)"
   ]
  },
  {
   "cell_type": "markdown",
   "metadata": {},
   "source": [
    "### Best solution"
   ]
  },
  {
   "cell_type": "code",
   "execution_count": 24,
   "metadata": {},
   "outputs": [],
   "source": [
    "from collections import Counter\n",
    "\n",
    "class Solution:\n",
    "\n",
    "    def commonChars(self, A):\n",
    "        res = collections.Counter(A[0])\n",
    "        for a in A:\n",
    "            res &= collections.Counter(a)\n",
    "        return list(res.elements())"
   ]
  },
  {
   "cell_type": "markdown",
   "metadata": {},
   "source": [
    "# 84. Largest Rectangle in Histogram"
   ]
  },
  {
   "cell_type": "raw",
   "metadata": {},
   "source": [
    "Given n non-negative integers representing the histogram's bar height where the width of each bar is 1, find the area of largest rectangle in the histogram.\n",
    "\n",
    "Above is a histogram where width of each bar is 1, given height = [2,1,5,6,2,3].\n",
    "\n",
    "The largest rectangle is shown in the shaded area, which has area = 10 unit.\n",
    "\n",
    "\n",
    "Example:\n",
    "\n",
    "Input: [2,1,5,6,2,3]\n",
    "Output: 10"
   ]
  },
  {
   "cell_type": "code",
   "execution_count": 93,
   "metadata": {},
   "outputs": [],
   "source": [
    "from collections import deque\n",
    "\n",
    "class Solution:\n",
    "    def largestRectangleArea(self, heights: List[int]) -> int:\n",
    "        square = deque()\n",
    "        top0 = left0 = right0 = heights[0]\n",
    "        left_i = right_i = 0\n",
    "        \n",
    "        for i in range(len(heights)):\n",
    "            if (heights[i] > left0) and (left0 > right0):\n",
    "                square.popleft()\n",
    "                left0, left_i = right0, i\n",
    "                print(\"if\",left0,top0,right0)\n",
    "            elif heights[i] >= top0:\n",
    "                square.append(heights[i])\n",
    "                top0 = heights[i]\n",
    "                right0, right_i = heights[i], i\n",
    "                print(\"elif\",left0,top0,right0)\n",
    "            else: #heights[i] < left0) and (heights < right0):\n",
    "                square.append(heights[i])\n",
    "                \n",
    "                right0, right_i = heights[i], i\n",
    "                print(\"else\",left0,top0,right0)\n",
    "            square.append(min(left0,top0,right0)*(right_i-left_i+1))\n",
    "        print(square)\n",
    "        return 0"
   ]
  },
  {
   "cell_type": "code",
   "execution_count": 94,
   "metadata": {},
   "outputs": [
    {
     "name": "stdout",
     "output_type": "stream",
     "text": [
      "elif 2 2 2\n",
      "else 2 2 1\n",
      "if 1 2 1\n",
      "elif 1 6 6\n",
      "else 1 6 2\n",
      "else 1 6 3\n",
      "deque([2, 1, 2, 0, 6, 2, 2, 3, 3, 4])\n"
     ]
    },
    {
     "data": {
      "text/plain": [
       "0"
      ]
     },
     "execution_count": 94,
     "metadata": {},
     "output_type": "execute_result"
    }
   ],
   "source": [
    "heights = [2,1,5,6,2,3]\n",
    "\n",
    "solution = Solution()\n",
    "solution.largestRectangleArea(heights)"
   ]
  },
  {
   "cell_type": "markdown",
   "metadata": {},
   "source": [
    "### Brute force"
   ]
  },
  {
   "cell_type": "code",
   "execution_count": 14,
   "metadata": {},
   "outputs": [],
   "source": [
    "class Solution:\n",
    "    def largestRectangleArea(self, heights: List[int]) -> int:\n",
    "        max_area = current_area = min_heights = 0\n",
    "        \n",
    "        for i in range(len(heights)):\n",
    "            min_heights = heights[i]\n",
    "            for j in range(i, len(heights)):\n",
    "                print(\"heights[j]\", heights[j])\n",
    "                min_heights = min(heights[j], min_heights)\n",
    "                current_area = (j - i + 1) * min_heights\n",
    "                max_area = max(current_area, max_area)\n",
    "\n",
    "        return max_area"
   ]
  },
  {
   "cell_type": "code",
   "execution_count": 15,
   "metadata": {},
   "outputs": [
    {
     "data": {
      "text/plain": [
       "10"
      ]
     },
     "execution_count": 15,
     "metadata": {},
     "output_type": "execute_result"
    }
   ],
   "source": [
    "heights = [2,1,5,6,2,3]\n",
    "\n",
    "solution = Solution()\n",
    "solution.largestRectangleArea(heights)"
   ]
  },
  {
   "cell_type": "code",
   "execution_count": null,
   "metadata": {},
   "outputs": [],
   "source": [
    "### Best solution"
   ]
  },
  {
   "cell_type": "code",
   "execution_count": 13,
   "metadata": {},
   "outputs": [],
   "source": [
    "class Solution:\n",
    "    def largestRectangleArea(self, heights: List[int]) -> int:\n",
    "        max_area = 0\n",
    "        pstack, hstack = [0], [0]\n",
    "        heights.append(0)\n",
    "        \n",
    "        for i in range(len(heights)):\n",
    "            last_width = len(heights) + 1\n",
    "            while len(hstack) != 0 and hstack[-1] > heights[i]:\n",
    "                last_width = pstack[-1]\n",
    "                current_area = hstack.pop() * (i - pstack.pop())\n",
    "                max_area = max(current_area, max_area)\n",
    "                \n",
    "            if len(hstack) == 0 or hstack[-1] < heights[i]:\n",
    "                hstack.append(heights[i])\n",
    "                pstack.append(min(i, last_width))\n",
    "                \n",
    "        return max_area"
   ]
  },
  {
   "cell_type": "code",
   "execution_count": 15,
   "metadata": {},
   "outputs": [
    {
     "data": {
      "text/plain": [
       "190118817"
      ]
     },
     "execution_count": 15,
     "metadata": {},
     "output_type": "execute_result"
    }
   ],
   "source": [
    "heights = [9046155,\n",
    "44717472,\n",
    "81512910,\n",
    "73698246,\n",
    "27159831,\n",
    "74451894,\n",
    "41257805,\n",
    "65420760]\n",
    "\n",
    "solution = Solution()\n",
    "solution.largestRectangleArea(heights)"
   ]
  },
  {
   "cell_type": "markdown",
   "metadata": {},
   "source": [
    "# 1122. Relative Sort Array"
   ]
  },
  {
   "cell_type": "raw",
   "metadata": {},
   "source": [
    "Given two arrays arr1 and arr2, the elements of arr2 are distinct, and all elements in arr2 are also in arr1.\n",
    "\n",
    "Sort the elements of arr1 such that the relative ordering of items in arr1 are the same as in arr2.  Elements that don't appear in arr2 should be placed at the end of arr1 in ascending order.\n",
    "\n",
    "Example 1:\n",
    "\n",
    "Input: arr1 = [2,3,1,3,2,4,6,7,9,2,19], arr2 = [2,1,4,3,9,6]\n",
    "Output: [2,2,2,1,4,3,3,9,6,7,19]"
   ]
  },
  {
   "cell_type": "code",
   "execution_count": 198,
   "metadata": {},
   "outputs": [],
   "source": [
    "from collections import Counter\n",
    "\n",
    "class Solution:\n",
    "    def relativeSortArray(self, arr1: List[int], arr2: List[int]) -> List[int]:\n",
    "        c = Counter(arr1)\n",
    "        k = 0\n",
    "        res = []\n",
    "        res1 = []\n",
    "        \n",
    "        for i in arr2:\n",
    "            res[k : k + c[i]] = [i] * (c[i])\n",
    "            k += c[i]\n",
    "            \n",
    "        for j in arr1:\n",
    "            if j not in (set(arr1) & set(arr2)):\n",
    "                res1.append(j)\n",
    "        \n",
    "        for m in sorted(res1):\n",
    "            res.append(m)\n",
    "        \n",
    "        return res"
   ]
  },
  {
   "cell_type": "code",
   "execution_count": 210,
   "metadata": {},
   "outputs": [
    {
     "name": "stdout",
     "output_type": "stream",
     "text": [
      "[22, 28, 8, 6, 17, 44]\n"
     ]
    },
    {
     "data": {
      "text/plain": [
       "0"
      ]
     },
     "execution_count": 210,
     "metadata": {},
     "output_type": "execute_result"
    }
   ],
   "source": [
    "arr1 = [28,6,22,8,44,17]\n",
    "arr2 = [22,28,8,6]\n",
    "\n",
    "solution = Solution()\n",
    "solution.relativeSortArray(arr1, arr2)"
   ]
  },
  {
   "cell_type": "code",
   "execution_count": 669,
   "metadata": {},
   "outputs": [],
   "source": [
    "class Solution:\n",
    "    def relativeSortArray(self, arr1, arr2):\n",
    "        k = {v:i for i, v in enumerate(arr2)}\n",
    "        print(k)\n",
    "        return (sorted(arr1, key = lambda x: k.get(x, 1000 + x)))"
   ]
  },
  {
   "cell_type": "code",
   "execution_count": 670,
   "metadata": {},
   "outputs": [
    {
     "name": "stdout",
     "output_type": "stream",
     "text": [
      "{22: 0, 28: 1, 8: 2, 6: 3}\n"
     ]
    },
    {
     "data": {
      "text/plain": [
       "[22, 28, 8, 6, 17, 44]"
      ]
     },
     "execution_count": 670,
     "metadata": {},
     "output_type": "execute_result"
    }
   ],
   "source": [
    "arr1 = [28,6,22,8,44,17]\n",
    "arr2 = [22,28,8,6]\n",
    "\n",
    "solution = Solution()di\n",
    "solution.relativeSortArray(arr1, arr2)"
   ]
  },
  {
   "cell_type": "markdown",
   "metadata": {},
   "source": [
    "# 1160. Find Words That Can Be Formed by Characters"
   ]
  },
  {
   "cell_type": "raw",
   "metadata": {},
   "source": [
    "You are given an array of strings words and a string chars.\n",
    "\n",
    "A string is good if it can be formed by characters from chars (each character can only be used once).\n",
    "\n",
    "Return the sum of lengths of all good strings in words.\n",
    "\n",
    "Example 1:\n",
    "\n",
    "Input: words = [\"cat\",\"bt\",\"hat\",\"tree\"], chars = \"atach\"\n",
    "Output: 6\n",
    "Explanation: \n",
    "The strings that can be formed are \"cat\" and \"hat\" so the answer is 3 + 3 = 6.\n",
    "Example 2:\n",
    "\n",
    "Input: words = [\"hello\",\"world\",\"leetcode\"], chars = \"welldonehoneyr\"\n",
    "Output: 10\n",
    "Explanation: \n",
    "The strings that can be formed are \"hello\" and \"world\" so the answer is 5 + 5 = 10."
   ]
  },
  {
   "cell_type": "code",
   "execution_count": 260,
   "metadata": {},
   "outputs": [],
   "source": [
    "from collections import Counter\n",
    "\n",
    "class Solution:\n",
    "    def countCharacters(self, words: List[str], chars: str) -> int:\n",
    "        res = curr = 0\n",
    "        \n",
    "        for i in words:\n",
    "            print(i)\n",
    "            for k in i:\n",
    "#                 print(k)\n",
    "                if k in chars:\n",
    "                    curr += 1\n",
    "                if curr == len(i):\n",
    "                    res += curr\n",
    "                    print(\"here\")\n",
    "                chars = \n",
    "            curr = 0\n",
    "        return res"
   ]
  },
  {
   "cell_type": "code",
   "execution_count": 261,
   "metadata": {},
   "outputs": [
    {
     "name": "stdout",
     "output_type": "stream",
     "text": [
      "dyiclysmffuhibgfvapygkorkqllqlvokosagyelotobicwcmebnpznjbirzrzsrtzjxhsfpiwyfhzyonmuabtlwin\n",
      "ndqeyhhcquplmznwslewjzuyfgklssvkqxmqjpwhrshycmvrb\n",
      "ulrrbpspyudncdlbkxkrqpivfftrggemkpyjl\n",
      "boygirdlggnh\n",
      "here\n",
      "xmqohbyqwagkjzpyawsydmdaattthmuvjbzwpyopyafphx\n",
      "nulvimegcsiwvhwuiyednoxpugfeimnnyeoczuzxgxbqjvegcxeqnjbwnbvowastqhojepisusvsidhqmszbrnynkyop\n",
      "hiefuovybkpgzygprmndrkyspoiyapdwkxebgsmodhzpx\n",
      "juldqdzeskpffaoqcyyxiqqowsalqumddcufhouhrskozhlmobiwzxnhdkidr\n",
      "lnnvsdcrvzfmrvurucrzlfyigcycffpiuoo\n",
      "here\n",
      "oxgaskztzroxuntiwlfyufddl\n",
      "tfspedteabxatkaypitjfkhkkigdwdkctqbczcugripkgcyfezpuklfqfcsccboarbfbjfrkxp\n",
      "qnagrpfzlyrouolqquytwnwnsqnmuzphne\n",
      "eeilfdaookieawrrbvtnqfzcricvhpiv\n",
      "sisvsjzyrbdsjcwwygdnxcjhzhsxhpceqz\n",
      "yhouqhjevqxtecomahbwoptzlkyvjexhzcbccusbjjdgcfzlkoqwiwue\n",
      "hwxxighzvceaplsycajkhynkhzkwkouszwaiuzqcleyflqrxgjsvlegvupzqijbornbfwpefhxekgpuvgiyeudhncv\n",
      "cpwcjwgbcquirnsazumgjjcltitmeyfaudbnbqhflvecjsupjmgwfbjo\n",
      "teyygdmmyadppuopvqdodaczob\n",
      "qaeowuwqsqffvibrtxnjnzvzuuonrkwpysyxvkijemmpdmtnqxwekbpfzs\n",
      "qqxpxpmemkldghbmbyxpkwgkaykaerhmwwjonrhcsubchs\n"
     ]
    },
    {
     "data": {
      "text/plain": [
       "47"
      ]
     },
     "execution_count": 261,
     "metadata": {},
     "output_type": "execute_result"
    }
   ],
   "source": [
    "words = [\"dyiclysmffuhibgfvapygkorkqllqlvokosagyelotobicwcmebnpznjbirzrzsrtzjxhsfpiwyfhzyonmuabtlwin\",\"ndqeyhhcquplmznwslewjzuyfgklssvkqxmqjpwhrshycmvrb\",\"ulrrbpspyudncdlbkxkrqpivfftrggemkpyjl\",\"boygirdlggnh\",\"xmqohbyqwagkjzpyawsydmdaattthmuvjbzwpyopyafphx\",\"nulvimegcsiwvhwuiyednoxpugfeimnnyeoczuzxgxbqjvegcxeqnjbwnbvowastqhojepisusvsidhqmszbrnynkyop\",\"hiefuovybkpgzygprmndrkyspoiyapdwkxebgsmodhzpx\",\"juldqdzeskpffaoqcyyxiqqowsalqumddcufhouhrskozhlmobiwzxnhdkidr\",\"lnnvsdcrvzfmrvurucrzlfyigcycffpiuoo\",\"oxgaskztzroxuntiwlfyufddl\",\"tfspedteabxatkaypitjfkhkkigdwdkctqbczcugripkgcyfezpuklfqfcsccboarbfbjfrkxp\",\"qnagrpfzlyrouolqquytwnwnsqnmuzphne\",\"eeilfdaookieawrrbvtnqfzcricvhpiv\",\"sisvsjzyrbdsjcwwygdnxcjhzhsxhpceqz\",\"yhouqhjevqxtecomahbwoptzlkyvjexhzcbccusbjjdgcfzlkoqwiwue\",\"hwxxighzvceaplsycajkhynkhzkwkouszwaiuzqcleyflqrxgjsvlegvupzqijbornbfwpefhxekgpuvgiyeudhncv\",\"cpwcjwgbcquirnsazumgjjcltitmeyfaudbnbqhflvecjsupjmgwfbjo\",\"teyygdmmyadppuopvqdodaczob\",\"qaeowuwqsqffvibrtxnjnzvzuuonrkwpysyxvkijemmpdmtnqxwekbpfzs\",\"qqxpxpmemkldghbmbyxpkwgkaykaerhmwwjonrhcsubchs\"]\n",
    "chars = \"usdruypficfbpfbivlrhutcgvyjenlxzeovdyjtgvvfdjzcmikjraspdfp\"\n",
    "\n",
    "solution = Solution()\n",
    "solution.countCharacters(words, chars)"
   ]
  },
  {
   "cell_type": "code",
   "execution_count": 334,
   "metadata": {},
   "outputs": [
    {
     "name": "stdout",
     "output_type": "stream",
     "text": [
      "Counter({'a': 2, 't': 1, 'c': 1, 'h': 1})\n",
      "3\n",
      "3\n",
      "Counter({'a': 2, 't': 1, 'c': 1, 'h': 1})\n",
      "6\n",
      "6\n"
     ]
    }
   ],
   "source": [
    "from collections import Counter\n",
    "\n",
    "s1 = [\"cat\",\"bt\",\"hat\",\"tree\"]\n",
    "s2 = 'atach'\n",
    "\n",
    "d = Counter(s2)\n",
    "\n",
    "res = 0\n",
    "\n",
    "for c in s1:\n",
    "    if (d & Counter(c)) == Counter(c):\n",
    "        res += len(c)\n",
    "\n",
    "    print(res)"
   ]
  },
  {
   "cell_type": "markdown",
   "metadata": {},
   "source": [
    "### My solution"
   ]
  },
  {
   "cell_type": "code",
   "execution_count": 337,
   "metadata": {},
   "outputs": [],
   "source": [
    "from collections import Counter\n",
    "\n",
    "class Solution:\n",
    "    def countCharacters(self, words: List[str], chars: str) -> int:\n",
    "        res = 0\n",
    "        d = Counter(chars)\n",
    "        \n",
    "        for c in words:\n",
    "            if (d & Counter(c)) == Counter(c):\n",
    "                res += len(c)\n",
    "            \n",
    "        return res"
   ]
  },
  {
   "cell_type": "code",
   "execution_count": 339,
   "metadata": {},
   "outputs": [
    {
     "data": {
      "text/plain": [
       "10"
      ]
     },
     "execution_count": 339,
     "metadata": {},
     "output_type": "execute_result"
    }
   ],
   "source": [
    "words = [\"hello\",\"world\",\"leetcode\"]\n",
    "chars = \"welldonehoneyr\"\n",
    "\n",
    "solution = Solution()\n",
    "solution.countCharacters(words, chars)"
   ]
  },
  {
   "cell_type": "markdown",
   "metadata": {},
   "source": [
    "### Best solution"
   ]
  },
  {
   "cell_type": "code",
   "execution_count": 368,
   "metadata": {},
   "outputs": [],
   "source": [
    "from collections import Counter\n",
    "\n",
    "class Solution:\n",
    "    def countCharacters(self, words: List[str], chars: str) -> int:\n",
    "        sum, chars_counter = 0, Counter(chars)\n",
    "        for word in words:\n",
    "            word_counter = Counter(word)\n",
    "            for c in word_counter:\n",
    "                if word_counter[c] > chars_counter[c]:\n",
    "                    break\n",
    "            else:\n",
    "                    sum += len(word)\n",
    "        return sum"
   ]
  },
  {
   "cell_type": "code",
   "execution_count": 369,
   "metadata": {},
   "outputs": [
    {
     "data": {
      "text/plain": [
       "10"
      ]
     },
     "execution_count": 369,
     "metadata": {},
     "output_type": "execute_result"
    }
   ],
   "source": [
    "words = [\"hello\",\"world\",\"leetcode\"]\n",
    "chars = \"welldonehoneyr\"\n",
    "\n",
    "solution = Solution()\n",
    "solution.countCharacters(words, chars)"
   ]
  },
  {
   "cell_type": "markdown",
   "metadata": {},
   "source": [
    "# 509. Fibonacci Number"
   ]
  },
  {
   "cell_type": "raw",
   "metadata": {},
   "source": [
    "The Fibonacci numbers, commonly denoted F(n) form a sequence, called the Fibonacci sequence, such that each number is the sum of the two preceding ones, starting from 0 and 1. That is,\n",
    "\n",
    "F(0) = 0, F(1) = 1\n",
    "F(n) = F(n - 1) + F(n - 2), for n > 1.\n",
    "Given n, calculate F(n).\n",
    "\n",
    "Example 1:\n",
    "\n",
    "Input: n = 2\n",
    "Output: 1\n",
    "Explanation: F(2) = F(1) + F(0) = 1 + 0 = 1.\n",
    "Example 2:\n",
    "\n",
    "Input: n = 3\n",
    "Output: 2\n",
    "Explanation: F(3) = F(2) + F(1) = 1 + 1 = 2.\n",
    "Example 3:\n",
    "\n",
    "Input: n = 4\n",
    "Output: 3\n",
    "Explanation: F(4) = F(3) + F(2) = 2 + 1 = 3."
   ]
  },
  {
   "cell_type": "code",
   "execution_count": 431,
   "metadata": {},
   "outputs": [],
   "source": [
    "class Solution:\n",
    "    def fib(self, n: int) -> int:\n",
    "        sum0 = 0\n",
    "        \n",
    "        if n == 0:\n",
    "            return 0\n",
    "        \n",
    "        if n == 1:\n",
    "            return 1\n",
    "        \n",
    "        return self.fib(n - 1) + self.fib(n - 2)"
   ]
  },
  {
   "cell_type": "code",
   "execution_count": 432,
   "metadata": {
    "scrolled": false
   },
   "outputs": [
    {
     "data": {
      "text/plain": [
       "55"
      ]
     },
     "execution_count": 432,
     "metadata": {},
     "output_type": "execute_result"
    }
   ],
   "source": [
    "n = 10\n",
    "\n",
    "solution = Solution()\n",
    "solution.fib(n)"
   ]
  },
  {
   "cell_type": "markdown",
   "metadata": {},
   "source": [
    "### Best solution"
   ]
  },
  {
   "cell_type": "code",
   "execution_count": 453,
   "metadata": {},
   "outputs": [],
   "source": [
    "class Solution:\n",
    "    def fib(self, n):\n",
    "        a,b = 0,1\n",
    "        for _ in range(n):\n",
    "            a, b = b, a + b\n",
    "#             print(a,b)\n",
    "        return a"
   ]
  },
  {
   "cell_type": "code",
   "execution_count": 454,
   "metadata": {},
   "outputs": [
    {
     "data": {
      "text/plain": [
       "55"
      ]
     },
     "execution_count": 454,
     "metadata": {},
     "output_type": "execute_result"
    }
   ],
   "source": [
    "n = 10\n",
    "\n",
    "solution = Solution()\n",
    "solution.fib(n)"
   ]
  },
  {
   "cell_type": "markdown",
   "metadata": {},
   "source": [
    "# 1200. Minimum Absolute Difference"
   ]
  },
  {
   "cell_type": "code",
   "execution_count": null,
   "metadata": {},
   "outputs": [],
   "source": [
    "Given an array of distinct integers arr, find all pairs of elements with the minimum absolute difference of any two elements. \n",
    "\n",
    "Return a list of pairs in ascending order(with respect to pairs), each pair [a, b] follows\n",
    "\n",
    "a, b are from arr\n",
    "a < b\n",
    "b - a equals to the minimum absolute difference of any two elements in arr\n",
    " \n",
    "\n",
    "Example 1:\n",
    "\n",
    "Input: arr = [4,2,1,3]\n",
    "Output: [[1,2],[2,3],[3,4]]\n",
    "Explanation: The minimum absolute difference is 1. List all pairs with difference equal to 1 in ascending order.\n",
    "Example 2:\n",
    "\n",
    "Input: arr = [1,3,6,10,15]\n",
    "Output: [[1,3]]\n",
    "Example 3:\n",
    "\n",
    "Input: arr = [3,8,-10,23,19,-4,-14,27]\n",
    "Output: [[-14,-10],[19,23],[23,27]]"
   ]
  },
  {
   "cell_type": "code",
   "execution_count": 568,
   "metadata": {},
   "outputs": [],
   "source": [
    "class Solution:\n",
    "    def minimumAbsDifference(self, arr: List[int]) -> List[List[int]]:\n",
    "        min0 = 100000\n",
    "        res = []\n",
    "        res1 = []\n",
    "        \n",
    "        for i in range(len(arr)):\n",
    "            for k in range(i+1, len(arr)):\n",
    "                if arr[i] > arr[k]:\n",
    "                    if arr[i] - arr[k] <= min0:\n",
    "                        min0 = arr[i] - arr[k]\n",
    "                        res.append([arr[k], arr[i]])\n",
    "                else:\n",
    "                    if arr[k] - arr[i] <= min0:\n",
    "                        min0 = arr[k] - arr[i]\n",
    "                        res.append([arr[i], arr[k]])\n",
    "        \n",
    "        for j in range(len(res)):\n",
    "            if res[j][1] - res[j][0] == min0:\n",
    "                res1.append(res[j])\n",
    "            \n",
    "        res1.sort()\n",
    "        return res1"
   ]
  },
  {
   "cell_type": "code",
   "execution_count": 569,
   "metadata": {},
   "outputs": [
    {
     "data": {
      "text/plain": [
       "[[-14, -10], [19, 23], [23, 27]]"
      ]
     },
     "execution_count": 569,
     "metadata": {},
     "output_type": "execute_result"
    }
   ],
   "source": [
    "arr = [3,8,-10,23,19,-4,-14,27]\n",
    "\n",
    "solution = Solution()\n",
    "solution.minimumAbsDifference(arr)"
   ]
  },
  {
   "cell_type": "markdown",
   "metadata": {},
   "source": [
    "### Best solution"
   ]
  },
  {
   "cell_type": "code",
   "execution_count": 570,
   "metadata": {},
   "outputs": [],
   "source": [
    "class Solution:\n",
    "    def minimumAbsDifference(self, arr: List[int]) -> List[List[int]]:\n",
    "        res = []\n",
    "        \n",
    "        arr.sort()\n",
    "        mn = min(b - a for a, b in zip(arr, arr[1:]))\n",
    "        \n",
    "        for a, b in zip(arr, arr[1:]):\n",
    "            if b - a == mn:\n",
    "                res.append([a,b]) \n",
    "            \n",
    "        return res "
   ]
  },
  {
   "cell_type": "code",
   "execution_count": 571,
   "metadata": {},
   "outputs": [
    {
     "data": {
      "text/plain": [
       "[[-14, -10], [19, 23], [23, 27]]"
      ]
     },
     "execution_count": 571,
     "metadata": {},
     "output_type": "execute_result"
    }
   ],
   "source": [
    "arr = [3,8,-10,23,19,-4,-14,27]\n",
    "\n",
    "solution = Solution()\n",
    "solution.minimumAbsDifference(arr)"
   ]
  },
  {
   "cell_type": "code",
   "execution_count": 577,
   "metadata": {},
   "outputs": [],
   "source": [
    "class Solution:\n",
    "    def minimumAbsDifference(self, arr: List[int]) -> List[List[int]]:\n",
    "        min0 = 100000\n",
    "        res = []\n",
    "        \n",
    "        arr.sort()\n",
    "        for i in range(1, len(arr)):\n",
    "            if arr[i] - arr[i-1] <= min0:\n",
    "                min0 = arr[i] - arr[i-1]\n",
    "        \n",
    "        for k in range(1, len(arr)):\n",
    "            if arr[k] - arr[k-1] == min0:\n",
    "                res.append([arr[k-1],arr[k]]) \n",
    "            \n",
    "        return res"
   ]
  },
  {
   "cell_type": "code",
   "execution_count": 578,
   "metadata": {},
   "outputs": [
    {
     "data": {
      "text/plain": [
       "[[-14, -10], [19, 23], [23, 27]]"
      ]
     },
     "execution_count": 578,
     "metadata": {},
     "output_type": "execute_result"
    }
   ],
   "source": [
    "arr = [3,8,-10,23,19,-4,-14,27]\n",
    "\n",
    "solution = Solution()\n",
    "solution.minimumAbsDifference(arr)"
   ]
  },
  {
   "cell_type": "markdown",
   "metadata": {},
   "source": [
    "# 1636. Sort Array by Increasing Frequency"
   ]
  },
  {
   "cell_type": "raw",
   "metadata": {},
   "source": [
    "Given an array of integers nums, sort the array in increasing order based on the frequency of the values. If multiple values have the same frequency, sort them in decreasing order.\n",
    "\n",
    "Return the sorted array.\n",
    "\n",
    "Example 1:\n",
    "\n",
    "Input: nums = [1,1,2,2,2,3]\n",
    "Output: [3,1,1,2,2,2]\n",
    "Explanation: '3' has a frequency of 1, '1' has a frequency of 2, and '2' has a frequency of 3.\n",
    "Example 2:\n",
    "\n",
    "Input: nums = [2,3,1,3,2]\n",
    "Output: [1,3,3,2,2]\n",
    "Explanation: '2' and '3' both have a frequency of 2, so they are sorted in decreasing order.\n",
    "Example 3:\n",
    "\n",
    "Input: nums = [-1,1,-6,4,5,-6,1,4,1]\n",
    "Output: [5,-1,4,4,-6,-6,1,1,1]"
   ]
  },
  {
   "cell_type": "code",
   "execution_count": 706,
   "metadata": {},
   "outputs": [],
   "source": [
    "from collections import Counter\n",
    "\n",
    "class Solution:\n",
    "    def frequencySort(self, nums: List[int]) -> List[int]:\n",
    "        list0 = []\n",
    "        c = Counter(nums)\n",
    "#         print(c)\n",
    "        list0 = sorted(nums, key=lambda x: (c.get(x), -x))\n",
    "#         print(list0)\n",
    "        \n",
    "        return list0"
   ]
  },
  {
   "cell_type": "code",
   "execution_count": 707,
   "metadata": {},
   "outputs": [
    {
     "data": {
      "text/plain": [
       "[3, 1, 1, 2, 2, 2]"
      ]
     },
     "execution_count": 707,
     "metadata": {},
     "output_type": "execute_result"
    }
   ],
   "source": [
    "nums = [1,1,2,2,2,3]\n",
    "\n",
    "solution = Solution()\n",
    "solution.frequencySort(nums)"
   ]
  },
  {
   "cell_type": "markdown",
   "metadata": {},
   "source": [
    "1619. Mean of Array After Removing Some Elements"
   ]
  },
  {
   "cell_type": "raw",
   "metadata": {},
   "source": [
    "Given an integer array arr, return the mean of the remaining integers after removing the smallest 5% and the largest 5% of the elements.\n",
    "\n",
    "Answers within 10-5 of the actual answer will be considered accepted.\n",
    "\n",
    "Example 1:\n",
    "\n",
    "Input: arr = [1,2,2,2,2,2,2,2,2,2,2,2,2,2,2,2,2,2,2,3]\n",
    "Output: 2.00000\n",
    "Explanation: After erasing the minimum and the maximum values of this array, all elements are equal to 2, so the mean is 2.\n",
    "Example 2:\n",
    "\n",
    "Input: arr = [6,2,7,5,1,2,0,3,10,2,5,0,5,5,0,8,7,6,8,0]\n",
    "Output: 4.00000\n",
    "\n",
    "Example 3:\n",
    "\n",
    "Input: arr = [6,0,7,0,7,5,7,8,3,4,0,7,8,1,6,8,1,1,2,4,8,1,9,5,4,3,8,5,10,8,6,6,1,0,6,10,8,2,3,4]\n",
    "Output: 4.77778\n",
    "Example 4:\n",
    "\n",
    "Input: arr = [9,7,8,7,7,8,4,4,6,8,8,7,6,8,8,9,2,6,0,0,1,10,8,6,3,3,5,1,10,9,0,7,10,0,10,4,1,10,6,9,3,6,0,0,2,7,0,6,7,2,9,7,7,3,0,1,6,1,10,3]\n",
    "Output: 5.27778\n",
    "Example 5:\n",
    "\n",
    "Input: arr = [4,8,4,10,0,7,1,3,7,8,8,3,4,1,6,2,1,1,8,0,9,8,0,3,9,10,3,10,1,10,7,3,2,1,4,9,10,7,6,4,0,8,5,1,2,1,6,2,5,0,7,10,9,10,3,7,10,5,8,5,7,6,7,6,10,9,5,10,5,5,7,2,10,7,7,8,2,0,1,1]\n",
    "Output: 5.29167"
   ]
  },
  {
   "cell_type": "code",
   "execution_count": 737,
   "metadata": {},
   "outputs": [],
   "source": [
    "class Solution:\n",
    "    def trimMean(self, arr: List[int]) -> float:\n",
    "        arr.sort()\n",
    "        outliers = len(arr) * 0.05\n",
    "        return sum(arr[int(outliers):-int(outliers)])/(len(arr)-2*outliers)"
   ]
  },
  {
   "cell_type": "code",
   "execution_count": 738,
   "metadata": {},
   "outputs": [
    {
     "data": {
      "text/plain": [
       "5.291666666666667"
      ]
     },
     "execution_count": 738,
     "metadata": {},
     "output_type": "execute_result"
    }
   ],
   "source": [
    "arr = [4,8,4,10,0,7,1,3,7,8,8,3,4,1,6,2,1,1,8,0,9,8,0,3,9,10,3,10,1,10,7,3,2,1,4,9,10,7,6,4,0,8,5,1,2,1,6,2,5,0,7,10,9,10,3,7,10,5,8,5,7,6,7,6,10,9,5,10,5,5,7,2,10,7,7,8,2,0,1,1]\n",
    "\n",
    "solution = Solution()\n",
    "solution.trimMean(arr)"
   ]
  },
  {
   "cell_type": "markdown",
   "metadata": {},
   "source": [
    "# 1652. Defuse the Bomb"
   ]
  },
  {
   "cell_type": "raw",
   "metadata": {},
   "source": [
    "You have a bomb to defuse, and your time is running out! Your informer will provide you with a circular array code of length of n and a key k.\n",
    "\n",
    "To decrypt the code, you must replace every number. All the numbers are replaced simultaneously.\n",
    "\n",
    "If k > 0, replace the ith number with the sum of the next k numbers.\n",
    "If k < 0, replace the ith number with the sum of the previous k numbers.\n",
    "If k == 0, replace the ith number with 0.\n",
    "As code is circular, the next element of code[n-1] is code[0], and the previous element of code[0] is code[n-1].\n",
    "\n",
    "Given the circular array code and an integer key k, return the decrypted code to defuse the bomb!\n",
    "\n",
    "\n",
    "Example 1:\n",
    "\n",
    "Input: code = [5,7,1,4], k = 3\n",
    "Output: [12,10,16,13]\n",
    "Explanation: Each number is replaced by the sum of the next 3 numbers. The decrypted code is [7+1+4, 1+4+5, 4+5+7, 5+7+1]. Notice that the numbers wrap around.\n",
    "Example 2:\n",
    "\n",
    "Input: code = [1,2,3,4], k = 0\n",
    "Output: [0,0,0,0]\n",
    "Explanation: When k is zero, the numbers are replaced by 0. \n",
    "Example 3:\n",
    "\n",
    "Input: code = [2,4,9,3], k = -2\n",
    "Output: [12,5,6,13]\n",
    "Explanation: The decrypted code is [3+9, 2+3, 4+2, 9+4]. Notice that the numbers wrap around again. If k is negative, the sum is of the previous numbers."
   ]
  },
  {
   "cell_type": "code",
   "execution_count": 902,
   "metadata": {},
   "outputs": [],
   "source": [
    "class Solution:\n",
    "    def decrypt(self, code: List[int], k: int) -> List[int]:\n",
    "        length = len(code)\n",
    "        list0=[]\n",
    "        sum0= 0\n",
    "        \n",
    "        print(code[4%4])\n",
    "        \n",
    "#         for i, j, m in zip(code,code[1:],code[2:]):\n",
    "#             sum0 = code[i]%length + j%length + m%length\n",
    "#             print(sum0)\n",
    "                \n",
    "                \n",
    "        for i in range(len(code)):\n",
    "            m = i + 1\n",
    "            n = i + 1 + k\n",
    "            \n",
    "            if m%length == 0:\n",
    "                m = 4\n",
    "            if n%length == 0:\n",
    "                n = 4\n",
    "            print(\"m, n:\", code[m:n])\n",
    "            sum0 = sum(code[m%length:n%length])\n",
    "            print(sum0)\n",
    "            \n",
    "            \n",
    "        return 0"
   ]
  },
  {
   "cell_type": "code",
   "execution_count": 903,
   "metadata": {},
   "outputs": [
    {
     "name": "stdout",
     "output_type": "stream",
     "text": [
      "5\n",
      "m, n: [7, 1, 4]\n",
      "0\n",
      "m, n: [1, 4]\n",
      "0\n",
      "m, n: [4]\n",
      "0\n",
      "m, n: []\n",
      "13\n"
     ]
    },
    {
     "data": {
      "text/plain": [
       "0"
      ]
     },
     "execution_count": 903,
     "metadata": {},
     "output_type": "execute_result"
    }
   ],
   "source": [
    "code = [5,7,1,4]\n",
    "k = 3\n",
    "\n",
    "solution = Solution()\n",
    "solution.decrypt(code, k)"
   ]
  },
  {
   "cell_type": "code",
   "execution_count": 770,
   "metadata": {},
   "outputs": [
    {
     "data": {
      "text/plain": [
       "'a#'"
      ]
     },
     "execution_count": 770,
     "metadata": {},
     "output_type": "execute_result"
    }
   ],
   "source": [
    "notes = [\"a\", \"a#\", \"b\", \"c\", \"c#\", \"d\", \"e\", \"f\", \"f#\", \"g\", \"g#\"]\n",
    "note = 12\n",
    "notes[note % len(notes)]"
   ]
  },
  {
   "cell_type": "code",
   "execution_count": 912,
   "metadata": {},
   "outputs": [],
   "source": [
    "class Solution:\n",
    "     def decrypt(self, code: List[int], k: int) -> List[int]:\n",
    "        if k==0: return [0 for i in code]\n",
    "        temp = code\n",
    "        code = code*2\n",
    "#         print(code)\n",
    "        for i in range(len(temp)):\n",
    "            if k>0:\n",
    "                temp[i] = sum(code[i+1:i+k+1])\n",
    "                print(code[i+1:i+k+1])\n",
    "            else:\n",
    "                temp[i] = sum(code[i+len(temp)+k:i+len(temp)])\n",
    "        return temp"
   ]
  },
  {
   "cell_type": "code",
   "execution_count": 913,
   "metadata": {},
   "outputs": [
    {
     "name": "stdout",
     "output_type": "stream",
     "text": [
      "[7, 1, 4]\n",
      "[1, 4, 5]\n",
      "[4, 5, 7]\n",
      "[5, 7, 1]\n"
     ]
    },
    {
     "data": {
      "text/plain": [
       "[12, 10, 16, 13]"
      ]
     },
     "execution_count": 913,
     "metadata": {},
     "output_type": "execute_result"
    }
   ],
   "source": [
    "code = [5,7,1,4]\n",
    "k = 3\n",
    "\n",
    "solution = Solution()\n",
    "solution.decrypt(code, k)"
   ]
  },
  {
   "cell_type": "markdown",
   "metadata": {},
   "source": [
    "# 766. Toeplitz Matrix"
   ]
  },
  {
   "cell_type": "raw",
   "metadata": {},
   "source": [
    "Given an m x n matrix, return true if the matrix is Toeplitz. Otherwise, return false.\n",
    "\n",
    "A matrix is Toeplitz if every diagonal from top-left to bottom-right has the same elements.\n",
    "\n",
    " \n",
    "\n",
    "Example 1:\n",
    "\n",
    "\n",
    "Input: matrix = [[1,2,3,4],[5,1,2,3],[9,5,1,2]]\n",
    "Output: true\n",
    "Explanation:\n",
    "In the above grid, the diagonals are:\n",
    "\"[9]\", \"[5, 5]\", \"[1, 1, 1]\", \"[2, 2, 2]\", \"[3, 3]\", \"[4]\".\n",
    "In each diagonal all elements are the same, so the answer is True.\n",
    "Example 2:\n",
    "\n",
    "\n",
    "Input: matrix = [[1,2],[2,2]]\n",
    "Output: false\n",
    "Explanation:\n",
    "The diagonal \"[1, 2]\" has different elements."
   ]
  },
  {
   "cell_type": "code",
   "execution_count": 969,
   "metadata": {},
   "outputs": [],
   "source": [
    "from collections import Counter\n",
    "\n",
    "class Solution:\n",
    "    def isToeplitzMatrix(self, matrix: List[List[int]]) -> bool:\n",
    "        mat_row = len(matrix)\n",
    "        mat_col = len(matrix[0])\n",
    "        res = True\n",
    "        \n",
    "        for i in range(mat_row-1):\n",
    "            if matrix[i][0:mat_col-1] != matrix[i+1][1:mat_col]:\n",
    "                res = False\n",
    "                break\n",
    "                \n",
    "        return res"
   ]
  },
  {
   "cell_type": "code",
   "execution_count": 970,
   "metadata": {},
   "outputs": [
    {
     "name": "stdout",
     "output_type": "stream",
     "text": [
      "[1] [2]\n"
     ]
    },
    {
     "data": {
      "text/plain": [
       "False"
      ]
     },
     "execution_count": 970,
     "metadata": {},
     "output_type": "execute_result"
    }
   ],
   "source": [
    "matrix = [[1,2],[2,2]]\n",
    "\n",
    "solution = Solution()\n",
    "solution.isToeplitzMatrix(matrix)"
   ]
  },
  {
   "cell_type": "markdown",
   "metadata": {},
   "source": [
    "# 1550. Three Consecutive Odds"
   ]
  },
  {
   "cell_type": "raw",
   "metadata": {},
   "source": [
    "Given an integer array arr, return true if there are three consecutive odd numbers in the array. Otherwise, return false.\n",
    " \n",
    "\n",
    "Example 1:\n",
    "\n",
    "Input: arr = [2,6,4,1]\n",
    "Output: false\n",
    "Explanation: There are no three consecutive odds.\n",
    "Example 2:\n",
    "\n",
    "Input: arr = [1,2,34,3,4,5,7,23,12]\n",
    "Output: true\n",
    "Explanation: [5,7,23] are three consecutive odds."
   ]
  },
  {
   "cell_type": "code",
   "execution_count": 1020,
   "metadata": {},
   "outputs": [],
   "source": [
    "class Solution:\n",
    "    def threeConsecutiveOdds(self, arr: List[int]) -> bool:\n",
    "        res = False\n",
    "        \n",
    "        for i, j, k in zip(arr, arr[1:], arr[2:]):\n",
    "            if i%2 == 1 and j%2 == 1 and k%2 == 1:\n",
    "                res = True\n",
    "                break\n",
    "        return res"
   ]
  },
  {
   "cell_type": "code",
   "execution_count": 1021,
   "metadata": {},
   "outputs": [
    {
     "data": {
      "text/plain": [
       "True"
      ]
     },
     "execution_count": 1021,
     "metadata": {},
     "output_type": "execute_result"
    }
   ],
   "source": [
    "arr = [102,780,919,897,901]\n",
    "\n",
    "solution = Solution()\n",
    "solution.threeConsecutiveOdds(arr)"
   ]
  },
  {
   "cell_type": "markdown",
   "metadata": {},
   "source": [
    "# 1413. Minimum Value to Get Positive Step by Step Sum"
   ]
  },
  {
   "cell_type": "raw",
   "metadata": {},
   "source": [
    "Given an array of integers nums, you start with an initial positive value startValue.\n",
    "\n",
    "In each iteration, you calculate the step by step sum of startValue plus elements in nums (from left to right).\n",
    "\n",
    "Return the minimum positive value of startValue such that the step by step sum is never less than 1.\n",
    "\n",
    " \n",
    "\n",
    "Example 1:\n",
    "\n",
    "Input: nums = [-3,2,-3,4,2]\n",
    "Output: 5\n",
    "Explanation: If you choose startValue = 4, in the third iteration your step by step sum is less than 1.\n",
    "                step by step sum\n",
    "                startValue = 4 | startValue = 5 | nums\n",
    "                  (4 -3 ) = 1  | (5 -3 ) = 2    |  -3\n",
    "                  (1 +2 ) = 3  | (2 +2 ) = 4    |   2\n",
    "                  (3 -3 ) = 0  | (4 -3 ) = 1    |  -3\n",
    "                  (0 +4 ) = 4  | (1 +4 ) = 5    |   4\n",
    "                  (4 +2 ) = 6  | (5 +2 ) = 7    |   2\n",
    "Example 2:\n",
    "\n",
    "Input: nums = [1,2]\n",
    "Output: 1\n",
    "Explanation: Minimum start value should be positive. \n",
    "Example 3:\n",
    "\n",
    "Input: nums = [1,-2,-3]\n",
    "Output: 5"
   ]
  },
  {
   "cell_type": "code",
   "execution_count": 1040,
   "metadata": {},
   "outputs": [],
   "source": [
    "class Solution:\n",
    "    def minStartValue(self, nums: List[int]) -> int:\n",
    "        sum0 = res = 0\n",
    "        list0 = []\n",
    "        \n",
    "        for i in nums:\n",
    "            sum0 += i \n",
    "            list0.append(sum0)\n",
    "        res = 1 - min(list0)\n",
    "        if res <=0:\n",
    "            res = 1\n",
    "        return res"
   ]
  },
  {
   "cell_type": "code",
   "execution_count": 1041,
   "metadata": {},
   "outputs": [
    {
     "name": "stdout",
     "output_type": "stream",
     "text": [
      "[1]\n",
      "[1, 3]\n",
      "1\n"
     ]
    },
    {
     "data": {
      "text/plain": [
       "1"
      ]
     },
     "execution_count": 1041,
     "metadata": {},
     "output_type": "execute_result"
    }
   ],
   "source": [
    "nums = [1,2]\n",
    "\n",
    "solution = Solution()\n",
    "solution.minStartValue(nums)"
   ]
  },
  {
   "cell_type": "markdown",
   "metadata": {},
   "source": [
    "# 1582. Special Positions in a Binary Matrix"
   ]
  },
  {
   "cell_type": "raw",
   "metadata": {},
   "source": [
    "Given a rows x cols matrix mat, where mat[i][j] is either 0 or 1, return the number of special positions in mat.\n",
    "\n",
    "A position (i,j) is called special if mat[i][j] == 1 and all other elements in row i and column j are 0 (rows and columns are 0-indexed).\n",
    "\n",
    " \n",
    "\n",
    "Example 1:\n",
    "\n",
    "Input: mat = [[1,0,0],\n",
    "              [0,0,1],\n",
    "              [1,0,0]]\n",
    "Output: 1\n",
    "Explanation: (1,2) is a special position because mat[1][2] == 1 and all other elements in row 1 and column 2 are 0.\n",
    "Example 2:\n",
    "\n",
    "Input: mat = [[1,0,0],\n",
    "              [0,1,0],\n",
    "              [0,0,1]]\n",
    "Output: 3\n",
    "Explanation: (0,0), (1,1) and (2,2) are special positions. \n",
    "Example 3:\n",
    "\n",
    "Input: mat = [[0,0,0,1],\n",
    "              [1,0,0,0],\n",
    "              [0,1,1,0],\n",
    "              [0,0,0,0]]\n",
    "Output: 2\n",
    "Example 4:\n",
    "\n",
    "Input: mat = [[0,0,0,0,0],\n",
    "              [1,0,0,0,0],\n",
    "              [0,1,0,0,0],\n",
    "              [0,0,1,0,0],\n",
    "              [0,0,0,1,1]]\n",
    "Output: 3"
   ]
  },
  {
   "cell_type": "code",
   "execution_count": 42,
   "metadata": {},
   "outputs": [],
   "source": [
    "class Solution:\n",
    "    def numSpecial(self, mat: List[List[int]]) -> int:\n",
    "        cnt = sum0 = 0\n",
    "        \n",
    "        for i in range(len(mat)):\n",
    "            for j in range(len(mat[0])):\n",
    "                if sum(mat[i]) == 1 and mat[i][j] == 1:\n",
    "                    for k in range(len(mat)):\n",
    "                        sum0 += mat[k][j]\n",
    "                    if sum0 == 1:\n",
    "                        cnt += 1\n",
    "                    sum0 = 0\n",
    "        return cnt"
   ]
  },
  {
   "cell_type": "code",
   "execution_count": 43,
   "metadata": {},
   "outputs": [
    {
     "data": {
      "text/plain": [
       "1"
      ]
     },
     "execution_count": 43,
     "metadata": {},
     "output_type": "execute_result"
    }
   ],
   "source": [
    "mat = [[0,0,0,0,0,1,0,0],[0,0,0,0,1,0,0,1],[0,0,0,0,1,0,0,0],[1,0,0,0,1,0,0,0],[0,0,1,1,0,0,0,0]]\n",
    "\n",
    "solution = Solution()\n",
    "solution.numSpecial(mat)"
   ]
  },
  {
   "cell_type": "markdown",
   "metadata": {},
   "source": [
    "# 867. Transpose Matrix"
   ]
  },
  {
   "cell_type": "raw",
   "metadata": {},
   "source": [
    "Given a matrix A, return the transpose of A.\n",
    "\n",
    "The transpose of a matrix is the matrix flipped over it's main diagonal, switching the row and column indices of the matrix.\n",
    "\n",
    "Example 1:\n",
    "\n",
    "Input: [[1,2,3],[4,5,6],[7,8,9]]\n",
    "Output: [[1,4,7],[2,5,8],[3,6,9]]\n",
    "Example 2:\n",
    "\n",
    "Input: [[1,2,3],[4,5,6]]\n",
    "Output: [[1,4],[2,5],[3,6]]"
   ]
  },
  {
   "cell_type": "code",
   "execution_count": 65,
   "metadata": {},
   "outputs": [],
   "source": [
    "class Solution:\n",
    "    def transpose(self, A: List[List[int]]) -> List[List[int]]:\n",
    "        list0 = []\n",
    "        \n",
    "        for i in zip(*A):\n",
    "            list0.append(list(i))\n",
    "        return list0"
   ]
  },
  {
   "cell_type": "code",
   "execution_count": 66,
   "metadata": {},
   "outputs": [
    {
     "data": {
      "text/plain": [
       "<zip at 0x7f85f57d3190>"
      ]
     },
     "execution_count": 66,
     "metadata": {},
     "output_type": "execute_result"
    }
   ],
   "source": [
    "A = [[1,2,3],[4,5,6]]\n",
    "\n",
    "solution = Solution()\n",
    "solution.transpose(A)"
   ]
  },
  {
   "cell_type": "markdown",
   "metadata": {},
   "source": [
    "# 1608. Special Array With X Elements Greater Than or Equal X"
   ]
  },
  {
   "cell_type": "raw",
   "metadata": {},
   "source": [
    "You are given an array nums of non-negative integers. nums is considered special if there exists a number x such that there are exactly x numbers in nums that are greater than or equal to x.\n",
    "\n",
    "Notice that x does not have to be an element in nums.\n",
    "\n",
    "Return x if the array is special, otherwise, return -1. It can be proven that if nums is special, the value for x is unique.\n",
    "\n",
    "Example 1:\n",
    "\n",
    "Input: nums = [3,5]\n",
    "Output: 2\n",
    "Explanation: There are 2 values (3 and 5) that are greater than or equal to 2.\n",
    "Example 2:\n",
    "Input: nums = [0,0]\n",
    "Output: -1\n",
    "Explanation: No numbers fit the criteria for x.\n",
    "If x = 0, there should be 0 numbers >= x, but there are 2.\n",
    "If x = 1, there should be 1 number >= x, but there are 0.\n",
    "If x = 2, there should be 2 numbers >= x, but there are 0.\n",
    "x cannot be greater since there are only 2 numbers in nums.\n",
    "Example 3:\n",
    "Input: nums = [0,4,3,0,4]\n",
    "Output: 3\n",
    "Explanation: There are 3 values that are greater than or equal to 3.\n",
    "Example 4:\n",
    "\n",
    "Input: nums = [3,6,7,7,0]\n",
    "Output: -1"
   ]
  },
  {
   "cell_type": "code",
   "execution_count": 318,
   "metadata": {},
   "outputs": [],
   "source": [
    "class Solution:\n",
    "    def specialArray(self, nums: List[int]) -> int:\n",
    "        nums.sort(reverse=True)\n",
    "        i = 0\n",
    "        while i < len(nums) and nums[i] > i:\n",
    "            i += 1\n",
    "        return -1 if i < len(nums) and i == nums[i] else i"
   ]
  },
  {
   "cell_type": "code",
   "execution_count": 319,
   "metadata": {},
   "outputs": [
    {
     "data": {
      "text/plain": [
       "6"
      ]
     },
     "execution_count": 319,
     "metadata": {},
     "output_type": "execute_result"
    }
   ],
   "source": [
    "nums = [3,3,6,6,7,8,8,9]\n",
    "solution = Solution()\n",
    "solution.specialArray(nums)"
   ]
  },
  {
   "cell_type": "markdown",
   "metadata": {},
   "source": [
    "# 566. Reshape the Matrix"
   ]
  },
  {
   "cell_type": "raw",
   "metadata": {},
   "source": [
    "n MATLAB, there is a very useful function called 'reshape', which can reshape a matrix into a new one with different size but keep its original data.\n",
    "\n",
    "You're given a matrix represented by a two-dimensional array, and two positive integers r and c representing the row number and column number of the wanted reshaped matrix, respectively.\n",
    "\n",
    "The reshaped matrix need to be filled with all the elements of the original matrix in the same row-traversing order as they were.\n",
    "\n",
    "If the 'reshape' operation with given parameters is possible and legal, output the new reshaped matrix; Otherwise, output the original matrix.\n",
    "\n",
    "Example 1:\n",
    "Input: \n",
    "nums = \n",
    "[[1,2],\n",
    " [3,4]]\n",
    "r = 1, c = 4\n",
    "Output: \n",
    "[[1,2,3,4]]\n",
    "Explanation:\n",
    "The row-traversing of nums is [1,2,3,4]. The new reshaped matrix is a 1 * 4 matrix, fill it row by row by using the previous list.\n",
    "Example 2:\n",
    "Input: \n",
    "nums = \n",
    "[[1,2],\n",
    " [3,4]]\n",
    "r = 2, c = 4\n",
    "Output: \n",
    "[[1,2],\n",
    " [3,4]]\n",
    "Explanation:\n",
    "There is no way to reshape a 2 * 2 matrix to a 2 * 4 matrix. So output the original matrix."
   ]
  },
  {
   "cell_type": "code",
   "execution_count": 440,
   "metadata": {},
   "outputs": [],
   "source": [
    "class Solution:\n",
    "    def matrixReshape(self, nums: List[List[int]], r: int, c: int) -> List[List[int]]:\n",
    "        k = 0\n",
    "        x=[]\n",
    "        \n",
    "        if r*c != len(nums) * len(nums[0]):\n",
    "            return nums\n",
    "        \n",
    "        mat = [[0 for x in range(c)] for y in range(r)] \n",
    "\n",
    "        for i in range(len(nums)):\n",
    "            x.extend(nums[i])\n",
    "            print(x)\n",
    "\n",
    "        for i in range(r):\n",
    "            for j in range(c):\n",
    "                mat[i][j] = x[k]\n",
    "                k += 1\n",
    "                print(mat)\n",
    "        return 1"
   ]
  },
  {
   "cell_type": "code",
   "execution_count": 441,
   "metadata": {},
   "outputs": [
    {
     "data": {
      "text/plain": [
       "[[1, 2], [3, 4]]"
      ]
     },
     "execution_count": 441,
     "metadata": {},
     "output_type": "execute_result"
    }
   ],
   "source": [
    "nums = [[1,2],[3,4]]\n",
    "r = 2\n",
    "c = 4\n",
    "\n",
    "solution = Solution()\n",
    "solution.matrixReshape(nums,r,c)"
   ]
  },
  {
   "cell_type": "code",
   "execution_count": 416,
   "metadata": {},
   "outputs": [
    {
     "name": "stdout",
     "output_type": "stream",
     "text": [
      "[[1, 2], [3, 4], [5, 6]]\n"
     ]
    }
   ],
   "source": [
    "extend0 = [1,2,3,4,5,6]\n",
    "w, h = 2, 3;\n",
    "l = [[0 for x in range(w)] for y in range(h)] \n",
    "k=0\n",
    "\n",
    "for i in range(3):\n",
    "    for j in range(2):\n",
    "        l[i][j] = extend0[k]\n",
    "        k += 1\n",
    "print(l)"
   ]
  },
  {
   "cell_type": "code",
   "execution_count": null,
   "metadata": {},
   "outputs": [],
   "source": []
  }
 ],
 "metadata": {
  "kernelspec": {
   "display_name": "Python 3",
   "language": "python",
   "name": "python3"
  },
  "language_info": {
   "codemirror_mode": {
    "name": "ipython",
    "version": 3
   },
   "file_extension": ".py",
   "mimetype": "text/x-python",
   "name": "python",
   "nbconvert_exporter": "python",
   "pygments_lexer": "ipython3",
   "version": "3.7.6"
  }
 },
 "nbformat": 4,
 "nbformat_minor": 4
}
