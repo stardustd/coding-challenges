{
 "cells": [
  {
   "cell_type": "markdown",
   "metadata": {},
   "source": [
    "# CodeWars"
   ]
  },
  {
   "cell_type": "code",
   "execution_count": 425,
   "metadata": {},
   "outputs": [],
   "source": [
    "class Candidate:\n",
    "    def __init__(self, name, level):\n",
    "        self.name = name\n",
    "        self.level = level\n",
    "    \n",
    "    def __repr__(self):\n",
    "        return \"{0}\".format(self.name)\n",
    "\n",
    "candidat = [Candidate(\"Sam\",1), Candidate(\"Amy\",10), Candidate(\"Bob\", 3), \n",
    "            Candidate(\"Sarah\", 4), Candidate(\"Susan\", 10), Candidate(\"Temmy\", 10)]"
   ]
  },
  {
   "cell_type": "code",
   "execution_count": 426,
   "metadata": {},
   "outputs": [
    {
     "data": {
      "text/plain": [
       "[Amy, Susan, Temmy]"
      ]
     },
     "execution_count": 426,
     "metadata": {},
     "output_type": "execute_result"
    }
   ],
   "source": [
    "[c for c in candidat if c.level== 10]"
   ]
  },
  {
   "cell_type": "code",
   "execution_count": 427,
   "metadata": {},
   "outputs": [],
   "source": [
    "def count_bits(n):\n",
    "    sum_of_digits=0\n",
    "    for digit in \"{0:08b}\".format(n):\n",
    "        sum_of_digits += int(digit)\n",
    "    return sum_of_digits"
   ]
  },
  {
   "cell_type": "code",
   "execution_count": 428,
   "metadata": {},
   "outputs": [
    {
     "data": {
      "text/plain": [
       "5"
      ]
     },
     "execution_count": 428,
     "metadata": {},
     "output_type": "execute_result"
    }
   ],
   "source": [
    "count_bits(1234)"
   ]
  },
  {
   "cell_type": "code",
   "execution_count": 429,
   "metadata": {},
   "outputs": [],
   "source": [
    "def accum(s):\n",
    "    str1=\"\"\n",
    "    for i in range(0, len(s)):\n",
    "        k=0\n",
    "        str1 += \"-\"\n",
    "        str1 += s[i].upper()\n",
    "        for k in range(0, i):\n",
    "            str1 += s[i].lower()\n",
    "            k += 1\n",
    "    return str1[1:]"
   ]
  },
  {
   "cell_type": "code",
   "execution_count": 430,
   "metadata": {},
   "outputs": [
    {
     "data": {
      "text/plain": [
       "'R-Qq-Aaa-Eeee-Zzzzz-Tttttt-Yyyyyyy'"
      ]
     },
     "execution_count": 430,
     "metadata": {},
     "output_type": "execute_result"
    }
   ],
   "source": [
    "accum(\"RqaEzty\")"
   ]
  },
  {
   "cell_type": "code",
   "execution_count": 272,
   "metadata": {},
   "outputs": [],
   "source": [
    "def accum(s):\n",
    "    list1 = []\n",
    "    \n",
    "    for i in range(0, len(s)):\n",
    "        list1.append(\n",
    "            str(s[i].lower() * (i + 1)).capitalize()\n",
    "        )  \n",
    "    return \"-\".join(list1)"
   ]
  },
  {
   "cell_type": "code",
   "execution_count": 277,
   "metadata": {
    "scrolled": true
   },
   "outputs": [
    {
     "data": {
      "text/plain": [
       "'A-Bb-Ccc-Dddd'"
      ]
     },
     "execution_count": 277,
     "metadata": {},
     "output_type": "execute_result"
    }
   ],
   "source": [
    "accum(\"abcd\")"
   ]
  },
  {
   "cell_type": "code",
   "execution_count": 274,
   "metadata": {},
   "outputs": [
    {
     "data": {
      "text/plain": [
       "'R-Qq-Aaa-Eeee-Zzzzz-Tttttt-Yyyyyyy'"
      ]
     },
     "execution_count": 274,
     "metadata": {},
     "output_type": "execute_result"
    }
   ],
   "source": [
    "accum(\"RqaEzty\")"
   ]
  },
  {
   "cell_type": "markdown",
   "metadata": {},
   "source": [
    "Best solution"
   ]
  },
  {
   "cell_type": "code",
   "execution_count": 431,
   "metadata": {},
   "outputs": [],
   "source": [
    "def accum(s):\n",
    "    return \"-\".join(letter.upper() + letter.lower() * i for index, letter in enumerate(s))"
   ]
  },
  {
   "cell_type": "markdown",
   "metadata": {},
   "source": [
    "Kata.getMiddle(\"test\") should return \"es\"\n",
    "\n",
    "Kata.getMiddle(\"testing\") should return \"t\"\n",
    "\n",
    "Kata.getMiddle(\"middle\") should return \"dd\"\n",
    "\n",
    "Kata.getMiddle(\"A\") should return \"A\""
   ]
  },
  {
   "cell_type": "markdown",
   "metadata": {},
   "source": [
    "1.My solution"
   ]
  },
  {
   "cell_type": "code",
   "execution_count": 420,
   "metadata": {},
   "outputs": [],
   "source": [
    "def get_middle(s):\n",
    "    if len(s) % 2 == 0:\n",
    "        str1=s[int((len(s)/2)-1):int((len(s)/2)+1)]\n",
    "    else:\n",
    "        str1=s[int(len(s)/2)]\n",
    "    return str1"
   ]
  },
  {
   "cell_type": "code",
   "execution_count": 422,
   "metadata": {},
   "outputs": [
    {
     "data": {
      "text/plain": [
       "'bc'"
      ]
     },
     "execution_count": 422,
     "metadata": {},
     "output_type": "execute_result"
    }
   ],
   "source": [
    "get_middle(\"abcd\")"
   ]
  },
  {
   "cell_type": "markdown",
   "metadata": {},
   "source": [
    "# Narcicsstic numbers"
   ]
  },
  {
   "cell_type": "markdown",
   "metadata": {},
   "source": [
    "1. My solution"
   ]
  },
  {
   "cell_type": "code",
   "execution_count": 418,
   "metadata": {},
   "outputs": [],
   "source": [
    "def narcissistic( value ):\n",
    "    return value == sum([int(str(value)[i]) ** len(str(value)) for i in range(len(str(value)))])"
   ]
  },
  {
   "cell_type": "code",
   "execution_count": 417,
   "metadata": {
    "scrolled": true
   },
   "outputs": [
    {
     "data": {
      "text/plain": [
       "True"
      ]
     },
     "execution_count": 417,
     "metadata": {},
     "output_type": "execute_result"
    }
   ],
   "source": [
    "narcissistic(153)"
   ]
  },
  {
   "cell_type": "markdown",
   "metadata": {},
   "source": [
    "2. Best solution"
   ]
  },
  {
   "cell_type": "code",
   "execution_count": 414,
   "metadata": {},
   "outputs": [],
   "source": [
    "def narcissistic(value):\n",
    "    return value == sum(int(x) ** len(str(value)) for x in str(value))"
   ]
  },
  {
   "cell_type": "markdown",
   "metadata": {},
   "source": [
    "# Pangram"
   ]
  },
  {
   "cell_type": "markdown",
   "metadata": {},
   "source": [
    "1. My solution"
   ]
  },
  {
   "cell_type": "code",
   "execution_count": 562,
   "metadata": {},
   "outputs": [],
   "source": [
    "s = \"The quick, brown fox jumps over the lazy dog!\""
   ]
  },
  {
   "cell_type": "code",
   "execution_count": 563,
   "metadata": {
    "scrolled": false
   },
   "outputs": [],
   "source": [
    "import string\n",
    "\n",
    "def is_pangram(s):\n",
    "    return sum(1 for i in list(string.ascii_lowercase) if i in pangram.lower()) == 26"
   ]
  },
  {
   "cell_type": "code",
   "execution_count": 573,
   "metadata": {},
   "outputs": [
    {
     "data": {
      "text/plain": [
       "True"
      ]
     },
     "execution_count": 573,
     "metadata": {},
     "output_type": "execute_result"
    }
   ],
   "source": [
    "is_pangram(s)"
   ]
  },
  {
   "cell_type": "markdown",
   "metadata": {},
   "source": [
    "2. Best solution"
   ]
  },
  {
   "cell_type": "code",
   "execution_count": 572,
   "metadata": {},
   "outputs": [],
   "source": [
    "import string\n",
    "\n",
    "def is_pangram(s):\n",
    "    return set(string.ascii_lowercase).issubset(set(s.lower()))"
   ]
  },
  {
   "cell_type": "markdown",
   "metadata": {},
   "source": [
    "# DUBSTEP"
   ]
  },
  {
   "cell_type": "markdown",
   "metadata": {},
   "source": [
    "1. My solution == best solution"
   ]
  },
  {
   "cell_type": "code",
   "execution_count": 61,
   "metadata": {},
   "outputs": [],
   "source": [
    "def song_decoder(song):\n",
    "    return str(' '.join(song.replace(\"WUB\",\" \").split()))"
   ]
  },
  {
   "cell_type": "code",
   "execution_count": 71,
   "metadata": {},
   "outputs": [
    {
     "data": {
      "text/plain": [
       "'WE ARE THE CHAMPIONS MY FRIEND'"
      ]
     },
     "execution_count": 71,
     "metadata": {},
     "output_type": "execute_result"
    }
   ],
   "source": [
    "song_decoder(\"WUBWEWUBAREWUBWUBTHEWUBCHAMPIONSWUBMYWUBFRIENDWUB\")"
   ]
  },
  {
   "cell_type": "markdown",
   "metadata": {},
   "source": [
    "# Spinning Words"
   ]
  },
  {
   "cell_type": "markdown",
   "metadata": {},
   "source": [
    "spinWords( \"Hey fellow warriors\" ) => returns \"Hey wollef sroirraw\"\\\n",
    "spinWords( \"This is a test\") => returns \"This is a test\"\\\n",
    "spinWords( \"This is another test\" )=> returns \"This is rehtona test\"\\"
   ]
  },
  {
   "cell_type": "code",
   "execution_count": 147,
   "metadata": {},
   "outputs": [],
   "source": [
    "def spin_words(sentence):\n",
    "    str1=''\n",
    "        \n",
    "    for word in sentence.split(\" \"):\n",
    "        if len(word) >= 5:\n",
    "            word = \"\".join(reversed(word))\n",
    "        str1 += \" \" + word\n",
    "    return str1[1:]"
   ]
  },
  {
   "cell_type": "code",
   "execution_count": 149,
   "metadata": {},
   "outputs": [
    {
     "data": {
      "text/plain": [
       "'Hey wollef sroirraw'"
      ]
     },
     "execution_count": 149,
     "metadata": {},
     "output_type": "execute_result"
    }
   ],
   "source": [
    "sentence =  \"Hey fellow warriors\"\n",
    "spin_words(sentence)"
   ]
  },
  {
   "cell_type": "markdown",
   "metadata": {},
   "source": [
    "# Take a Ten Minute Walk"
   ]
  },
  {
   "cell_type": "markdown",
   "metadata": {},
   "source": [
    "You live in the city of Cartesia where all roads are laid out in a perfect grid. You arrived ten minutes too early to an appointment, so you decided to take the opportunity to go for a short walk. The city provides its citizens with a Walk Generating App on their phones -- everytime you press the button it sends you an array of one-letter strings representing directions to walk (eg. ['n', 's', 'w', 'e']). You always walk only a single block for each letter (direction) and you know it takes you one minute to traverse one city block, so create a function that will return true if the walk the app gives you will take you exactly ten minutes (you don't want to be early or late!) and will, of course, return you to your starting point. Return false otherwise.\n",
    "\n",
    "Note: you will always receive a valid array containing a random assortment of direction letters ('n', 's', 'e', or 'w' only). It will never give you"
   ]
  },
  {
   "cell_type": "markdown",
   "metadata": {},
   "source": [
    "1. My solution"
   ]
  },
  {
   "cell_type": "code",
   "execution_count": 316,
   "metadata": {},
   "outputs": [],
   "source": [
    "def is_valid_walk(walk):\n",
    "    count_n=0\n",
    "    count_s=0\n",
    "    count_w=0\n",
    "    count_e=0\n",
    "\n",
    "    if len(walk) == 10:\n",
    "        for k in walk:\n",
    "            if k in ['n']:\n",
    "                count_n +=1\n",
    "            elif k in ['s']:\n",
    "                count_s +=1\n",
    "            elif k in ['w']:\n",
    "                count_w +=1\n",
    "            elif k in ['e']:\n",
    "                count_e +=1\n",
    "        if count_w == count_e:\n",
    "            if count_n == count_s:\n",
    "                return True\n",
    "            else:\n",
    "                return False\n",
    "        else:\n",
    "            return False\n",
    "    else:\n",
    "        return False"
   ]
  },
  {
   "cell_type": "code",
   "execution_count": 319,
   "metadata": {},
   "outputs": [
    {
     "data": {
      "text/plain": [
       "True"
      ]
     },
     "execution_count": 319,
     "metadata": {},
     "output_type": "execute_result"
    }
   ],
   "source": [
    "is_valid_walk(['n','s','n','s','n','s','n','s','n','s'])"
   ]
  },
  {
   "cell_type": "code",
   "execution_count": 320,
   "metadata": {},
   "outputs": [
    {
     "data": {
      "text/plain": [
       "False"
      ]
     },
     "execution_count": 320,
     "metadata": {},
     "output_type": "execute_result"
    }
   ],
   "source": [
    "walk=['e', 'e', 'w', 'n', 'n', 's', 'e', 'w', 'n', 's']\n",
    "is_valid_walk(walk)"
   ]
  },
  {
   "cell_type": "markdown",
   "metadata": {},
   "source": [
    "2. Best solution"
   ]
  },
  {
   "cell_type": "code",
   "execution_count": 318,
   "metadata": {},
   "outputs": [],
   "source": [
    "def is_valid_walk(walk):\n",
    "    return len(walk) == 10 and walk.count('n') == walk.count('s') and walk.count('e') == walk.count('w')"
   ]
  },
  {
   "cell_type": "markdown",
   "metadata": {},
   "source": [
    "# Persistance"
   ]
  },
  {
   "cell_type": "raw",
   "metadata": {},
   "source": [
    "persistence(39) => 3  # Because 3*9 = 27, 2*7 = 14, 1*4=4\n",
    "                       # and 4 has only one digit.\n",
    "\n",
    " persistence(999) => 4 # Because 9*9*9 = 729, 7*2*9 = 126,\n",
    "                       # 1*2*6 = 12, and finally 1*2 = 2.\n",
    "\n",
    " persistence(4) => 0   # Because 4 is already a one-digit number."
   ]
  },
  {
   "cell_type": "code",
   "execution_count": 2,
   "metadata": {},
   "outputs": [],
   "source": [
    "def persistence(n):\n",
    "    count = 0\n",
    "    while n > 10:\n",
    "        mult1 = 1\n",
    "        for i, k in enumerate(str(n)):\n",
    "            mult1 *= int(str(n)[i])\n",
    "        n = mult1\n",
    "        count += 1\n",
    "    return count"
   ]
  },
  {
   "cell_type": "code",
   "execution_count": 3,
   "metadata": {},
   "outputs": [
    {
     "data": {
      "text/plain": [
       "4"
      ]
     },
     "execution_count": 3,
     "metadata": {},
     "output_type": "execute_result"
    }
   ],
   "source": [
    "persistence(999)"
   ]
  },
  {
   "cell_type": "markdown",
   "metadata": {},
   "source": [
    "# Weight  for weight"
   ]
  },
  {
   "cell_type": "raw",
   "metadata": {},
   "source": [
    "order_weight(\"103 123 4444 99 2000\")\\\n",
    "result will be \"2000 103 123 4444 99\")"
   ]
  },
  {
   "cell_type": "markdown",
   "metadata": {},
   "source": [
    "For example 99 will have \"weight\" 18, 100 will have \"weight\" 1 so in the list 100 will come before 99. "
   ]
  },
  {
   "cell_type": "markdown",
   "metadata": {},
   "source": [
    "1. My solution"
   ]
  },
  {
   "cell_type": "code",
   "execution_count": 235,
   "metadata": {},
   "outputs": [],
   "source": [
    "def find_weight_addition(weight):\n",
    "    addition1 = 0\n",
    "    for i, k in enumerate(str(weight)):\n",
    "        addition1 += int(k)\n",
    "    return addition1\n",
    "\n",
    "def order_weight(strng):\n",
    "    list1 = strng.split(\" \")\n",
    "    list1.sort()\n",
    "    return \" \".join(sorted(list1, key=lambda x : find_weight_addition(x)))"
   ]
  },
  {
   "cell_type": "code",
   "execution_count": 239,
   "metadata": {},
   "outputs": [
    {
     "data": {
      "text/plain": [
       "'2000 103 123 4444 99'"
      ]
     },
     "execution_count": 239,
     "metadata": {},
     "output_type": "execute_result"
    }
   ],
   "source": [
    "order_weight(\"103 123 4444 99 2000\")"
   ]
  },
  {
   "cell_type": "code",
   "execution_count": 237,
   "metadata": {},
   "outputs": [
    {
     "data": {
      "text/plain": [
       "'11 2000 10003 22 123 1234000 44444444 9999'"
      ]
     },
     "execution_count": 237,
     "metadata": {},
     "output_type": "execute_result"
    }
   ],
   "source": [
    "order_weight(\"2000 11 10003 22 123 1234000 44444444 9999\")"
   ]
  },
  {
   "cell_type": "markdown",
   "metadata": {},
   "source": [
    "2. Bets solution"
   ]
  },
  {
   "cell_type": "code",
   "execution_count": 238,
   "metadata": {},
   "outputs": [],
   "source": [
    "def order_weight(_str):\n",
    "    return ' '.join(sorted(sorted(_str.split(' ')), key=lambda x: sum(int(c) for c in x)))"
   ]
  },
  {
   "cell_type": "markdown",
   "metadata": {},
   "source": [
    "# Split strings"
   ]
  },
  {
   "cell_type": "raw",
   "metadata": {},
   "source": [
    "solution('abc') # should return ['ab', 'c_']\n",
    "solution('abcdef') # should return ['ab', 'cd', 'ef']"
   ]
  },
  {
   "cell_type": "markdown",
   "metadata": {},
   "source": [
    "1. My solution == Best solution"
   ]
  },
  {
   "cell_type": "code",
   "execution_count": 390,
   "metadata": {},
   "outputs": [],
   "source": [
    "def solution(s):\n",
    "    list1=[]\n",
    "\n",
    "    if len(s) % 2 != 0:\n",
    "        s +=\"_\"\n",
    "    \n",
    "    for i in range(1, len(s), 2):\n",
    "        list1.append(s[i - 1] + s[i])\n",
    "    return list1"
   ]
  },
  {
   "cell_type": "code",
   "execution_count": 391,
   "metadata": {},
   "outputs": [
    {
     "data": {
      "text/plain": [
       "['ab', 'c_']"
      ]
     },
     "execution_count": 391,
     "metadata": {},
     "output_type": "execute_result"
    }
   ],
   "source": [
    "solution('abc')"
   ]
  },
  {
   "cell_type": "markdown",
   "metadata": {},
   "source": [
    "# Where is my anagram is at?"
   ]
  },
  {
   "cell_type": "raw",
   "metadata": {},
   "source": [
    "anagrams('abba', ['aabb', 'abcd', 'bbaa', 'dada']) => ['aabb', 'bbaa']\n",
    "\n",
    "anagrams('racer', ['crazer', 'carer', 'racar', 'caers', 'racer']) => ['carer', 'racer']\n",
    "\n",
    "anagrams('laser', ['lazing', 'lazy',  'lacer']) => []"
   ]
  },
  {
   "cell_type": "markdown",
   "metadata": {},
   "source": [
    "1. My solution"
   ]
  },
  {
   "cell_type": "code",
   "execution_count": 437,
   "metadata": {},
   "outputs": [],
   "source": [
    "def count_chars(word):\n",
    "    d = {}\n",
    "    for c in word:\n",
    "        if c in d:\n",
    "            d[c] += 1\n",
    "        else:\n",
    "            d[c] = 1\n",
    "    return d"
   ]
  },
  {
   "cell_type": "code",
   "execution_count": 802,
   "metadata": {},
   "outputs": [],
   "source": [
    "def anagrams(word, words):\n",
    "    list1=[]\n",
    "    \n",
    "    for i in words:\n",
    "        if ''.join(sorted(word)) == ''.join(sorted(i)):\n",
    "            list1.append(i)\n",
    "    return list1"
   ]
  },
  {
   "cell_type": "code",
   "execution_count": 803,
   "metadata": {},
   "outputs": [
    {
     "data": {
      "text/plain": [
       "['aabb', 'bbaa']"
      ]
     },
     "execution_count": 803,
     "metadata": {},
     "output_type": "execute_result"
    }
   ],
   "source": [
    "word='abba'\n",
    "words=['aabb', 'abcd', 'bbaa', 'dada']\n",
    "anagrams(word, words)"
   ]
  },
  {
   "cell_type": "markdown",
   "metadata": {},
   "source": [
    "3. Baraa's solution"
   ]
  },
  {
   "cell_type": "code",
   "execution_count": 473,
   "metadata": {},
   "outputs": [],
   "source": [
    "def anagrams(word, words):\n",
    "    return list(filter(lambda x: ''.join(sorted(word)) == ''.join(sorted(x)), words))"
   ]
  },
  {
   "cell_type": "markdown",
   "metadata": {},
   "source": [
    "# Directions Reduction"
   ]
  },
  {
   "cell_type": "markdown",
   "metadata": {},
   "source": [
    "1. My solution"
   ]
  },
  {
   "cell_type": "code",
   "execution_count": null,
   "metadata": {},
   "outputs": [],
   "source": [
    "def dirReduc(arr):\n",
    "    list1=[]\n",
    "    list2=[]\n",
    "    \n",
    "    deduction1 = 0\n",
    "    deduction2 = 0\n",
    "    \n",
    "    deduction1 = arr.count(\"SOUTH\")-arr.count(\"NORTH\")\n",
    "    if deduction1 > 0:\n",
    "        list1=[\"SOUTH\"] * deduction1\n",
    "    else:\n",
    "        list1=[\"NORTH\"] * abs(deduction1)\n",
    "        \n",
    "    deduction2 = arr.count(\"WEST\")-arr.count(\"EAST\")\n",
    "    if deduction2 > 0:\n",
    "        list2=[\"WEST\"] * deduction2\n",
    "    else:\n",
    "        list2=[\"EAST\"] * abs(deduction2)\n",
    "        \n",
    "    return list1+list2"
   ]
  },
  {
   "cell_type": "raw",
   "metadata": {},
   "source": [
    "a = [\"SOUTH\",\"NORTH\", \"SOUTH\", \"SOUTH\", \"EAST\", \"WEST\", \"NORTH\", \"WEST\"]\n",
    "test.assert_equals(dirReduc(a), ['WEST'])\n",
    "u=[\"NORTH\", \"WEST\", \"SOUTH\", \"EAST\"]\n",
    "test.assert_equals(dirReduc(u), [\"NORTH\", \"WEST\", \"SOUTH\", \"EAST\"])"
   ]
  },
  {
   "cell_type": "code",
   "execution_count": 483,
   "metadata": {},
   "outputs": [],
   "source": [
    "def dirReduc(arr):\n",
    "    d = {}\n",
    "    for c in arr:\n",
    "        if c in d:\n",
    "            d[c] += 1\n",
    "        else:\n",
    "            d[c] = 1\n",
    "    print(d.keys())\n",
    "    return d"
   ]
  },
  {
   "cell_type": "code",
   "execution_count": 128,
   "metadata": {},
   "outputs": [],
   "source": [
    "def dirReduc(arr):\n",
    "    opposite = {\n",
    "        \"NORTH\": \"SOUTH\",\n",
    "        \"SOUTH\": \"NORTH\",\n",
    "        \"WEST\": \"EAST\",\n",
    "        \"EAST\": \"WEST\",\n",
    "    }\n",
    "    result = []\n",
    "    \n",
    "    for direction in arr:\n",
    "        if len(result) == 0:\n",
    "            result.append(direction)\n",
    "        else:\n",
    "            if result[-1] == opposite[direction]:\n",
    "                # will remove the last element\n",
    "                result.pop()\n",
    "            else:\n",
    "                result.append(direction)\n",
    "    \n",
    "    return result"
   ]
  },
  {
   "cell_type": "code",
   "execution_count": 122,
   "metadata": {},
   "outputs": [],
   "source": [
    "def is_opposite_directin(dir1, dir2):\n",
    "    list1=[]\n",
    "    list1.append(dir1)\n",
    "    list1.append(dir2)\n",
    "    \n",
    "    if (list1 == [\"NORTH\", \"SOUTH\"]\n",
    "       ) or (list1 == [\"SOUTH\", \"NORTH\"]\n",
    "       ) or (list1 == [\"WEST\", \"EAST\"]\n",
    "       ) or (list1 == [\"EAST\", \"WEST\"]):\n",
    "        return True\n",
    "    else:\n",
    "        return False\n",
    "    \n",
    "def dirReduc(arr):\n",
    "    list1=[]\n",
    "    k=0\n",
    "        \n",
    "    while k < 3 :\n",
    "        list2=[]\n",
    "        for i in range(1, len(arr)):\n",
    "            if is_opposite_directin(arr[i-1], arr[i]) == True:\n",
    "                i = i + 2\n",
    "            else:\n",
    "                list2.append(arr[i-1])\n",
    "        arr = list2\n",
    "        k += 1\n",
    "    return list2"
   ]
  },
  {
   "cell_type": "code",
   "execution_count": 129,
   "metadata": {},
   "outputs": [
    {
     "data": {
      "text/plain": [
       "['NORTH', 'NORTH', 'WEST']"
      ]
     },
     "execution_count": 129,
     "metadata": {},
     "output_type": "execute_result"
    }
   ],
   "source": [
    "arr = [\"NORTH\",\"NORTH\",\"NORTH\", \"SOUTH\", \"EAST\", \"WEST\", \"WEST\"]\n",
    "#arr = [\"NORTH\", \"WEST\", \"SOUTH\", \"EAST\"]\n",
    "dirReduc(arr)"
   ]
  },
  {
   "cell_type": "raw",
   "metadata": {},
   "source": [
    "[2, 4, 0, 100, 4, 11, 2602, 36]\n",
    "Should return: 11 (the only odd number)\n",
    "\n",
    "[160, 3, 1719, 19, 11, 13, -21]\n",
    "Should return: 160 (the only even number)"
   ]
  },
  {
   "cell_type": "markdown",
   "metadata": {},
   "source": [
    "# Even odd numbers"
   ]
  },
  {
   "cell_type": "markdown",
   "metadata": {},
   "source": [
    "1. My solution"
   ]
  },
  {
   "cell_type": "code",
   "execution_count": 898,
   "metadata": {},
   "outputs": [],
   "source": [
    "def find_outlier(integers):\n",
    "    even=0\n",
    "    odd=0\n",
    "    even_num=0\n",
    "    odd_num=0\n",
    "    \n",
    "    for num in integers:\n",
    "        if num % 2 == 0:        \n",
    "            even_num += 1\n",
    "            even = num\n",
    "        else:\n",
    "            odd_num += 1\n",
    "            odd = num \n",
    "    if even_num > odd_num:\n",
    "        return odd\n",
    "    else:\n",
    "        return even"
   ]
  },
  {
   "cell_type": "code",
   "execution_count": 902,
   "metadata": {
    "scrolled": true
   },
   "outputs": [
    {
     "data": {
      "text/plain": [
       "160"
      ]
     },
     "execution_count": 902,
     "metadata": {},
     "output_type": "execute_result"
    }
   ],
   "source": [
    "integers=[160, 3, 1719, 19, 11, 13, -21]\n",
    "find_outlier(integers)"
   ]
  },
  {
   "cell_type": "markdown",
   "metadata": {},
   "source": [
    "2. Best solution"
   ]
  },
  {
   "cell_type": "code",
   "execution_count": 901,
   "metadata": {},
   "outputs": [],
   "source": [
    "def find_outlier(int):\n",
    "    odds = [x for x in int if x%2!=0]\n",
    "    evens= [x for x in int if x%2==0]\n",
    "    return odds[0] if len(odds)<len(evens) else evens[0]"
   ]
  },
  {
   "cell_type": "markdown",
   "metadata": {},
   "source": [
    "# The Supermarket Queue"
   ]
  },
  {
   "cell_type": "raw",
   "metadata": {},
   "source": [
    "queue_time([5,3,4], 1)\n",
    "# should return 12\n",
    "# because when n=1, the total time is just the sum of the times\n",
    "\n",
    "queue_time([10,2,3,3], 2)\n",
    "# should return 10\n",
    "# because here n=2 and the 2nd, 3rd, and 4th people in the \n",
    "# queue finish before the 1st person has finished.\n",
    "\n",
    "queue_time([2,3,10], 2)\n",
    "# should return 12\n"
   ]
  },
  {
   "cell_type": "markdown",
   "metadata": {},
   "source": [
    "1. My solution"
   ]
  },
  {
   "cell_type": "code",
   "execution_count": 186,
   "metadata": {},
   "outputs": [],
   "source": [
    "def queue_time(customers, n):\n",
    "    cassier = [0 for i in range(n)]\n",
    "\n",
    "    for i in customers:\n",
    "        min1 = min(cassier)\n",
    "        cassier.sort()\n",
    "        cassier.pop(0)\n",
    "        min1 += i\n",
    "        cassier.append(min1)\n",
    "    return max(cassier)"
   ]
  },
  {
   "cell_type": "code",
   "execution_count": 187,
   "metadata": {},
   "outputs": [
    {
     "data": {
      "text/plain": [
       "15"
      ]
     },
     "execution_count": 187,
     "metadata": {},
     "output_type": "execute_result"
    }
   ],
   "source": [
    "# customers=[5,3,4,8]\n",
    "# n=2\n",
    "customers=[1,2,3,4,5]\n",
    "n=1\n",
    "queue_time(customers, n)"
   ]
  },
  {
   "cell_type": "markdown",
   "metadata": {},
   "source": [
    "2. Best solution"
   ]
  },
  {
   "cell_type": "code",
   "execution_count": 184,
   "metadata": {},
   "outputs": [],
   "source": [
    "def queue_time(customers, n):\n",
    "    cassier=[0]*n\n",
    "    \n",
    "    for i in customers:\n",
    "        cassier[cassier.index(min(cassier))]+=i\n",
    "    return max(l)"
   ]
  },
  {
   "cell_type": "markdown",
   "metadata": {},
   "source": [
    "# Permutations"
   ]
  },
  {
   "cell_type": "raw",
   "metadata": {},
   "source": [
    "permutations('a'); # ['a']\n",
    "permutations('ab'); # ['ab', 'ba']\n",
    "permutations('aabb'); # ['aabb', 'abab', 'abba', 'baab', 'baba', 'bbaa']"
   ]
  },
  {
   "cell_type": "markdown",
   "metadata": {},
   "source": [
    "1. My solution"
   ]
  },
  {
   "cell_type": "code",
   "execution_count": 194,
   "metadata": {},
   "outputs": [],
   "source": [
    "def permutations(string):\n",
    "    fact=1\n",
    "    for i in range(1,len(string)+1): \n",
    "        fact = fact * i \n",
    "    print(fact) "
   ]
  },
  {
   "cell_type": "code",
   "execution_count": 812,
   "metadata": {},
   "outputs": [],
   "source": [
    "def permutations(string):\n",
    "    fact=1\n",
    "    list1=[]\n",
    "    \n",
    "    for i in range(1,len(string)+1): \n",
    "        list1=[string[0]+string[1]+string[3]+string[2]]\n",
    "    print(list1)"
   ]
  },
  {
   "cell_type": "code",
   "execution_count": 813,
   "metadata": {},
   "outputs": [
    {
     "name": "stdout",
     "output_type": "stream",
     "text": [
      "['abdc']\n"
     ]
    }
   ],
   "source": [
    "permutations('abcd')"
   ]
  },
  {
   "cell_type": "code",
   "execution_count": 196,
   "metadata": {},
   "outputs": [
    {
     "name": "stdout",
     "output_type": "stream",
     "text": [
      "24\n"
     ]
    }
   ],
   "source": [
    "import math\n",
    "print(math.factorial(4))"
   ]
  },
  {
   "cell_type": "code",
   "execution_count": 212,
   "metadata": {},
   "outputs": [
    {
     "data": {
      "text/plain": [
       "['ase', 'asd', 'def', 'dfg']"
      ]
     },
     "execution_count": 212,
     "metadata": {},
     "output_type": "execute_result"
    }
   ],
   "source": [
    "a = [\"asd\",\"def\",\"ase\",\"dfg\",\"asd\",\"def\",\"dfg\"]\n",
    "a = list(set(a))\n",
    "a"
   ]
  },
  {
   "cell_type": "code",
   "execution_count": 267,
   "metadata": {},
   "outputs": [
    {
     "name": "stdout",
     "output_type": "stream",
     "text": [
      "aaaa\n",
      "bbbb\n",
      "cccc\n",
      "dddd\n",
      "aaaa\n",
      "bbbb\n",
      "cccc\n",
      "dddd\n",
      "aaaa\n",
      "bbbb\n",
      "cccc\n",
      "dddd\n",
      "aaaa\n",
      "bbbb\n",
      "cccc\n",
      "dddd\n"
     ]
    }
   ],
   "source": [
    "string=\"abcd\"\n",
    "for i in range(0, len(string)):\n",
    "    for i in range(0, len(string)):\n",
    "        print(string[i]+string[i]+string[i]+string[i])"
   ]
  },
  {
   "cell_type": "code",
   "execution_count": 273,
   "metadata": {},
   "outputs": [
    {
     "name": "stdout",
     "output_type": "stream",
     "text": [
      "k :  6\n",
      "k :  5\n",
      "k :  4\n",
      "k :  3\n",
      "k :  2\n",
      "k :  1\n",
      "result :  1\n",
      "result :  3\n",
      "result :  6\n",
      "result :  10\n",
      "result :  15\n",
      "result :  21\n"
     ]
    },
    {
     "data": {
      "text/plain": [
       "21"
      ]
     },
     "execution_count": 273,
     "metadata": {},
     "output_type": "execute_result"
    }
   ],
   "source": [
    "def tri_recursion(k):\n",
    "  if(k>0):\n",
    "    print(\"k : \", k)\n",
    "    result = k+tri_recursion(k-1)\n",
    "    print(\"result : \", result)\n",
    "  else:\n",
    "    result = 0\n",
    "  return result\n",
    "\n",
    "# print(\"\\n\\nRecursion Example Results\")\n",
    "tri_recursion(6)"
   ]
  },
  {
   "cell_type": "code",
   "execution_count": 810,
   "metadata": {},
   "outputs": [],
   "source": [
    "def permutations(iterable, r=None):\n",
    "    # permutations('ABCD', 2) --> AB AC AD BA BC BD CA CB CD DA DB DC\n",
    "    # permutations(range(3)) --> 012 021 102 120 201 210\n",
    "    pool = tuple(iterable)\n",
    "    print(pool)\n",
    "    n = len(pool)\n",
    "    print(n)\n",
    "    r = n if r is None else r\n",
    "    if r > n:\n",
    "        return\n",
    "    indices = range(n)\n",
    "    cycles = range(n, n-r, -1)\n",
    "    yield tuple(pool[i] for i in indices[:r])\n",
    "    while n:\n",
    "        for i in reversed(range(r)):\n",
    "            cycles[i] -= 1\n",
    "            if cycles[i] == 0:\n",
    "                indices[i:] = indices[i+1:] + indices[i:i+1]\n",
    "                cycles[i] = n - i\n",
    "            else:\n",
    "                j = cycles[i]\n",
    "                indices[i], indices[-j] = indices[-j], indices[i]\n",
    "                yield tuple(pool[i] for i in indices[:r])\n",
    "                break\n",
    "        else:\n",
    "            return"
   ]
  },
  {
   "cell_type": "code",
   "execution_count": 811,
   "metadata": {},
   "outputs": [
    {
     "data": {
      "text/plain": [
       "<generator object permutations at 0x7fa9d28473d0>"
      ]
     },
     "execution_count": 811,
     "metadata": {},
     "output_type": "execute_result"
    }
   ],
   "source": [
    "permutations(\"ABCD\" ,2)"
   ]
  },
  {
   "cell_type": "markdown",
   "metadata": {},
   "source": [
    "# Maximum subarray sum"
   ]
  },
  {
   "cell_type": "raw",
   "metadata": {},
   "source": [
    "max_sequence([-2, 1, -3, 4, -1, 2, 1, -5, 4])\n",
    "# should be 6: [4, -1, 2, 1]"
   ]
  },
  {
   "cell_type": "markdown",
   "metadata": {},
   "source": [
    "1. My solution"
   ]
  },
  {
   "cell_type": "code",
   "execution_count": 526,
   "metadata": {},
   "outputs": [],
   "source": [
    "def max_sequence(arr):\n",
    "    list1=[0]\n",
    "    \n",
    "    for i in range(len(arr)):\n",
    "        addition1=0\n",
    "        for j in range(len(arr)):\n",
    "            if i+j == len(arr):\n",
    "                break\n",
    "            else:\n",
    "                addition1 += arr[i+j]\n",
    "                list1.append(addition1)  \n",
    "    return max(list1)"
   ]
  },
  {
   "cell_type": "code",
   "execution_count": 532,
   "metadata": {},
   "outputs": [
    {
     "data": {
      "text/plain": [
       "0"
      ]
     },
     "execution_count": 532,
     "metadata": {},
     "output_type": "execute_result"
    }
   ],
   "source": [
    "max_sequence([])"
   ]
  },
  {
   "cell_type": "markdown",
   "metadata": {},
   "source": [
    "2. Best solution"
   ]
  },
  {
   "cell_type": "code",
   "execution_count": 536,
   "metadata": {},
   "outputs": [],
   "source": [
    "def max_sequence(arr):\n",
    "    max,curr=0,0\n",
    "    for x in arr:\n",
    "        print(\"x:\", x)\n",
    "        curr += x\n",
    "        print(\"Curr:\", curr)\n",
    "        if curr<0:\n",
    "            curr=0\n",
    "        if curr > max:\n",
    "            max=curr\n",
    "    return max"
   ]
  },
  {
   "cell_type": "code",
   "execution_count": 537,
   "metadata": {},
   "outputs": [
    {
     "name": "stdout",
     "output_type": "stream",
     "text": [
      "x: -2\n",
      "Curr: -2\n",
      "x: 1\n",
      "Curr: 1\n",
      "x: -3\n",
      "Curr: -2\n",
      "x: 4\n",
      "Curr: 4\n",
      "x: -1\n",
      "Curr: 3\n",
      "x: 2\n",
      "Curr: 5\n",
      "x: 1\n",
      "Curr: 6\n",
      "x: -5\n",
      "Curr: 1\n",
      "x: 4\n",
      "Curr: 5\n"
     ]
    },
    {
     "data": {
      "text/plain": [
       "6"
      ]
     },
     "execution_count": 537,
     "metadata": {},
     "output_type": "execute_result"
    }
   ],
   "source": [
    "max_sequence([-2, 1, -3, 4, -1, 2, 1, -5, 4])"
   ]
  },
  {
   "cell_type": "markdown",
   "metadata": {},
   "source": [
    "# Pyramid Slide Down"
   ]
  },
  {
   "cell_type": "markdown",
   "metadata": {},
   "source": [
    "Let's say that the 'slide down' is the maximum sum of consecutive numbers from\\\n",
    "the top to the bottom of the pyramid. \\\n",
    "As you can see, the longest 'slide down' is 3 + 7 + 4 + 9 = 23\n",
    "\n",
    "Your task is to write a function longest_slide_down\\\n",
    "that takes a pyramid representation as argument and \\\n",
    "returns its' largest 'slide down'. For example,\n",
    "\n",
    "longest_slide_down([[3], [7, 4], [2, 4, 6], [8, 5, 9, 3]]) => 23"
   ]
  },
  {
   "cell_type": "markdown",
   "metadata": {},
   "source": [
    "1. My solution"
   ]
  },
  {
   "cell_type": "code",
   "execution_count": 792,
   "metadata": {},
   "outputs": [],
   "source": [
    "def max_of_list(l, x=0, y=0):\n",
    "    if x == len(l) - 1:\n",
    "        return l[x][y]\n",
    "    \n",
    "    return max(\n",
    "        l[x][y] + max_of_list(l, x + 1, y),\n",
    "        l[x][y] + max_of_list(l,x + 1, y + 1),\n",
    "    )"
   ]
  },
  {
   "cell_type": "code",
   "execution_count": 793,
   "metadata": {},
   "outputs": [
    {
     "data": {
      "text/plain": [
       "14"
      ]
     },
     "execution_count": 793,
     "metadata": {},
     "output_type": "execute_result"
    }
   ],
   "source": [
    "max_of_list([[3], [7, 4],[2, 4, 6]])"
   ]
  },
  {
   "cell_type": "markdown",
   "metadata": {},
   "source": [
    "# Alphabetic Anagrams"
   ]
  },
  {
   "cell_type": "markdown",
   "metadata": {},
   "source": [
    "1. My solution"
   ]
  },
  {
   "cell_type": "code",
   "execution_count": null,
   "metadata": {},
   "outputs": [],
   "source": [
    "def listPosition(word):\n",
    "  \"\"\"Return the anagram list position of the word\"\"\"\n",
    "  return 1"
   ]
  },
  {
   "cell_type": "raw",
   "metadata": {},
   "source": [
    "Sample words, with their rank:\n",
    "ABAB = 2\n",
    "AAAB = 1\n",
    "BAAA = 4\n",
    "QUESTION = 24572\n",
    "BOOKKEEPER = 10743"
   ]
  },
  {
   "cell_type": "code",
   "execution_count": 930,
   "metadata": {},
   "outputs": [],
   "source": [
    "def factorial(n):\n",
    "    fact = 1\n",
    "    for num in range(2, n + 1):\n",
    "        fact *= num\n",
    "    return fact\n",
    "\n",
    "def listPosition(word):\n",
    "    word1=\"\"\n",
    "    group=0\n",
    "    position=0\n",
    "    list_position=[]\n",
    "    fact=factorial(len(word))\n",
    "    final_position=0\n",
    "    \n",
    "    for i in range(len(word)):\n",
    "        group=string.ascii_lowercase.index(message[i])\n",
    "#         print(group)\n",
    "        if group > 0:\n",
    "            position = (fact/len(word))*(group)+1\n",
    "        else:\n",
    "            position = (fact/len(word))*(group)\n",
    "        print(i)\n",
    "        if (i==len(word)-2):\n",
    "            if (position==0):\n",
    "                final_position=position-1\n",
    "            \n",
    "#         list_position.append(position)\n",
    "#     print(list_position[1:])\n",
    "    \n",
    "    return final_position"
   ]
  },
  {
   "cell_type": "code",
   "execution_count": 931,
   "metadata": {},
   "outputs": [
    {
     "name": "stdout",
     "output_type": "stream",
     "text": [
      "0\n",
      "1\n",
      "2\n"
     ]
    },
    {
     "data": {
      "text/plain": [
       "-1.0"
      ]
     },
     "execution_count": 931,
     "metadata": {},
     "output_type": "execute_result"
    }
   ],
   "source": [
    "listPosition(\"cab\")"
   ]
  },
  {
   "cell_type": "code",
   "execution_count": 879,
   "metadata": {},
   "outputs": [
    {
     "name": "stdout",
     "output_type": "stream",
     "text": [
      "2\n",
      "0\n",
      "1\n"
     ]
    }
   ],
   "source": [
    "message='cab'\n",
    "\n",
    "print(string.ascii_lowercase.index(message[0]))\n",
    "print(string.ascii_lowercase.index(message[1]))\n",
    "print(string.ascii_lowercase.index(message[2]))"
   ]
  },
  {
   "cell_type": "code",
   "execution_count": 850,
   "metadata": {},
   "outputs": [
    {
     "name": "stdout",
     "output_type": "stream",
     "text": [
      "c\n",
      "4.0\n",
      "a\n",
      "0.0\n",
      "b\n",
      "2.0\n"
     ]
    },
    {
     "data": {
      "text/plain": [
       "2.0"
      ]
     },
     "execution_count": 850,
     "metadata": {},
     "output_type": "execute_result"
    }
   ],
   "source": []
  },
  {
   "cell_type": "code",
   "execution_count": 840,
   "metadata": {},
   "outputs": [],
   "source": [
    "def factorial(n):\n",
    "    fact = 1\n",
    "    for num in range(2, n + 1):\n",
    "        fact *= num\n",
    "    return fact"
   ]
  },
  {
   "cell_type": "code",
   "execution_count": 841,
   "metadata": {},
   "outputs": [
    {
     "data": {
      "text/plain": [
       "6"
      ]
     },
     "execution_count": 841,
     "metadata": {},
     "output_type": "execute_result"
    }
   ],
   "source": [
    "factorial(3)"
   ]
  },
  {
   "cell_type": "code",
   "execution_count": 932,
   "metadata": {},
   "outputs": [
    {
     "data": {
      "text/plain": [
       "25"
      ]
     },
     "execution_count": 932,
     "metadata": {},
     "output_type": "execute_result"
    }
   ],
   "source": [
    "string.ascii_lowercase.index(\"zab\"[0])"
   ]
  },
  {
   "cell_type": "code",
   "execution_count": null,
   "metadata": {},
   "outputs": [],
   "source": [
    "def interpret(code):\n",
    "    output = \"\"\n",
    "    list1=[]\n",
    "    x=0\n",
    "    y=0\n",
    "    a=0\n",
    "    b=0\n",
    "    \n",
    "    coordinate=[x][y]\n",
    "    \n",
    "    for command in code:\n",
    "        if command.isnumeric():\n",
    "            list1.append(command)\n",
    "            coordinate=[x+1][y]\n",
    "        elif command == \"+\":\n",
    "            list1.append(list1[-1]+list[-2]\n",
    "            list1.pop(-2)\n",
    "            list1.pop(-3)\n",
    "            \n",
    "            \n",
    "            \n",
    "        \n",
    "+ Addition: Pop a and b, then push a+b.\n",
    "- Subtraction: Pop a and b, then push b-a.\n",
    "                         \n",
    "* Multiplication: Pop a and b, then push a*b.\n",
    "                         \n",
    "/ Integer division: Pop a and b, then push b/a, rounded down. If a is zero, push zero.\n",
    "                         \n",
    "% Modulo: Pop a and b, then push the b%a. If a is zero, push zero.\n",
    "                         \n",
    "! Logical NOT: Pop a value. If the value is zero, push 1; otherwise, push zero.\n",
    "` (backtick) Greater than: Pop a and b, then push 1 if b>a, otherwise push zero.\n",
    "> Start moving right.\n",
    "< Start moving left.\n",
    "^ Start moving up.\n",
    "v Start moving down.\n",
    "                         \n",
    "? Start moving in a random cardinal direction.\n",
    "_ Pop a value; move right if value = 0, left otherwise.\n",
    "| Pop a value; move down if value = 0, up otherwise.\n",
    "\" Start string mode: push each character's ASCII value all the way up to the next \".\n",
    ": Duplicate value on top of the stack. If there is nothing on top of the stack, push a 0.\n",
    "\\ Swap two values on top of the stack. If there is only one value, pretend there is an extra 0 on bottom of the stack.\n",
    "$ Pop value from the stack and discard it.\n",
    ". Pop value and output as an integer.\n",
    ", Pop value and output the ASCII character represented by the integer code that is stored in the value.\n",
    "# Trampoline: Skip next cell.\n",
    "p A \"put\" call (a way to store a value for later use). Pop y, x and v, then change the character at the position (x,y) in the program to the character with ASCII value v.\n",
    "g A \"get\" call (a way to retrieve data in storage). Pop y and x, then push ASCII value of the character at that position in the program.\n",
    "@ End program."
   ]
  },
  {
   "cell_type": "code",
   "execution_count": 1342,
   "metadata": {},
   "outputs": [],
   "source": [
    "def interpret(code):\n",
    "    output = \"\"\n",
    "    list1 = []\n",
    "    x = 0\n",
    "    y = 0\n",
    "    a = \"\"\n",
    "    temp=1\n",
    "    ascii_code = 0\n",
    "    opened = False\n",
    "    skip_next = False\n",
    "\n",
    "\n",
    "    for command in code:\n",
    "        print(command)\n",
    "        \n",
    "        if skip_next:\n",
    "            skip_next = False\n",
    "            continue\n",
    "        \n",
    "        if command == '\"':\n",
    "            opened = not opened\n",
    "        elif opened:\n",
    "            list1.append(command)\n",
    "        \n",
    "        elif command.isnumeric():\n",
    "            list1.append(command)\n",
    "        elif command == \"+\":\n",
    "            temp = int(list1[-1])+int(list1[-2])\n",
    "            list1.pop()\n",
    "            list1.pop()\n",
    "            list1.append(temp)\n",
    "        elif command == \"-\":\n",
    "            temp = int(list1[-1])-int(list1[-2])\n",
    "            list1.pop()\n",
    "            list1.pop()\n",
    "            list1.append(temp)\n",
    "        elif command == \"*\":\n",
    "            temp = int(list1[-1])*int(list1[-2])\n",
    "            list1.pop()\n",
    "            list1.pop()\n",
    "            list1.append(temp)\n",
    "        elif command == \"/\":\n",
    "            if int(list1[-2]) == 0:\n",
    "                list1.pop(-1)\n",
    "            else:\n",
    "                temp = round(int(list1[-1])/int(list1[-2]))\n",
    "                list1.pop()\n",
    "                list1.pop()\n",
    "                list1.append(temp)\n",
    "        elif command == \"%\":\n",
    "            if int(list1[-2]) == 0:\n",
    "                list1.pop(-1)\n",
    "            else:\n",
    "                temp = int(list1[-1])%int(list1[-2])\n",
    "                list1.pop()\n",
    "                list1.pop()\n",
    "                list1.append(temp)\n",
    "        elif command == \"!\":\n",
    "            if int(list1[-1]) == 0:\n",
    "                list1[-1] = 1\n",
    "            else:\n",
    "                list1[-1] = 0\n",
    "        elif command == \"`\":\n",
    "            if int(list1[-1]) > int(list1[-2]):\n",
    "                list1.pop(-1)\n",
    "                list1[-1] = 1\n",
    "            else:\n",
    "                list1.pop(-1)\n",
    "                list1[-1] = 0           \n",
    "        elif command == \">\":\n",
    "            x += 1\n",
    "        elif command == \"<\":\n",
    "            x -= 1\n",
    "        elif command == \"^\":\n",
    "            y -= 1\n",
    "        elif command == \"v\":\n",
    "            y += 1\n",
    "        elif command == \"_\":\n",
    "            if int(list1[-1]) == 0:\n",
    "                x += 1\n",
    "            else:\n",
    "                x -= 1\n",
    "            list1.pop(-1)\n",
    "        elif command == \"|\":\n",
    "            if int(list1[-1]) == 0:\n",
    "                y += 1\n",
    "            else:\n",
    "                y -= 1\n",
    "            list1.pop(-1) \n",
    "        elif command == \":\":\n",
    "            if len(list1) == 0:\n",
    "                list1.append(0)\n",
    "            else:\n",
    "                list1.append(list1[-1])\n",
    "        elif command == \"\\\\\":\n",
    "            if len(list1) < 2:\n",
    "                list1.append(0)\n",
    "            else:\n",
    "                a = list1[-1]\n",
    "                list1[-1] = list1[-2]\n",
    "                list1[-2] = a\n",
    "        elif command == \"\\\\\":\n",
    "            if len(list1) < 2:\n",
    "                list1.append(0)\n",
    "            else:\n",
    "                a = list1[-1]\n",
    "                list1[-1] = list1[-2]\n",
    "                list1[-2] = a\n",
    "        elif command == \"$\":\n",
    "            if len(list1) != 0:\n",
    "                list1.pop()\n",
    "        elif command == \".\":\n",
    "            if len(list1) != 0:\n",
    "                a_string = \"\". join(list1)\n",
    "        elif command == \",\":\n",
    "            if len(list1) != 0:\n",
    "                ascii_code = list1[-1]\n",
    "                list1.pop()\n",
    "                list1.append(chr(ascii_code))\n",
    "        elif command == \"#\":\n",
    "            skip_next = True\n",
    "        elif command == \"p\":\n",
    "            y1, x1, v = list1.pop(), list1.pop(), list1.pop()\n",
    "            x = 1\n",
    "            y = 10\n",
    "            coordinate=[x,y]\n",
    "            if x == x1:\n",
    "                if y == y1:\n",
    "                    command = chr(v)\n",
    "            \n",
    "            \n",
    "\n",
    "\n",
    "# ? Start moving in a random cardinal direction.\n",
    "# A \"put\" call (a way to store a value for later use). Pop y, x and v, then change the character at the position (x,y) in the program to the character with ASCII value v.\n",
    "#  g A \"get\" call (a way to retrieve data in storage). Pop y and x, then push ASCII value of the character at that position in the program.\n",
    "# @ End program.\n",
    "        coordinate=[x,y]\n",
    "        \n",
    "    return list1, coordinate"
   ]
  },
  {
   "cell_type": "code",
   "execution_count": 1791,
   "metadata": {},
   "outputs": [],
   "source": [
    "import random\n",
    "\n",
    "def interpret(code):\n",
    "    output = \"\"\n",
    "    coordinates = code.split(\"\\n\")\n",
    "    coordinate = [list(row) for row in coordinates]\n",
    "    stack = []\n",
    "    x = 0 \n",
    "    y = 0\n",
    "    dx = 1\n",
    "    dy = 0\n",
    "    a = \"\"\n",
    "    temp=1\n",
    "    ascii_code = 0\n",
    "    opened = False\n",
    "    skip_next = False\n",
    "    \n",
    "    while True:\n",
    "        command = coordinate[y][x]\n",
    "        if skip_next:\n",
    "            skip_next = False\n",
    "            x += dx\n",
    "            y += dy\n",
    "            continue\n",
    "        elif command.isnumeric():\n",
    "            stack.append(int(command))\n",
    "        elif command == '>':\n",
    "            dx = 1\n",
    "            dy = 0\n",
    "        elif command == '<':\n",
    "            dx = -1\n",
    "            dy = 0\n",
    "        elif command == '^':\n",
    "            dx = 0\n",
    "            dy = -1\n",
    "        elif command == 'v':\n",
    "            dx = 0\n",
    "            dy = 1\n",
    "        elif command == '?':\n",
    "            dx = random.randint(-1,1)\n",
    "            if dx != 0:\n",
    "                dy = 0\n",
    "            else:\n",
    "                dy = random.choice([-1, 1])\n",
    "        elif command == '\"':\n",
    "            opened = not opened\n",
    "        elif opened:\n",
    "            stack.append(ord(command))\n",
    "        elif command == \"+\":\n",
    "            a, b = stack.pop(), stack.pop()\n",
    "            stack.append(a + b)\n",
    "        elif command == \"-\":\n",
    "            a, b = stack.pop(), stack.pop()\n",
    "            stack.append(b - a)\n",
    "        elif command == \"*\":\n",
    "            a, b = stack.pop(), stack.pop()\n",
    "            stack.append(a * b)\n",
    "        elif command == \"/\":\n",
    "            a, b = stack.pop(), stack.pop()\n",
    "            stack.append(int(b / a) if a != 0 else 0)\n",
    "        elif command == \"%\":\n",
    "            a, b = stack.pop(), stack.pop()\n",
    "            stack.append(b % a if a != 0 else 0)\n",
    "        elif command == \"!\":\n",
    "            if int(stack[-1]) == 0:\n",
    "                stack[-1] = 1\n",
    "            else:\n",
    "                stack[-1] = 0\n",
    "        elif command == \"`\":\n",
    "            a, b = stack.pop(), stack.pop()\n",
    "            if b > a:\n",
    "                stack.append(1)\n",
    "            else:\n",
    "                stack.append(0)\n",
    "        elif command == \"_\":\n",
    "            if stack.pop() == 0:\n",
    "                dx = 1\n",
    "                dy = 0\n",
    "            else:\n",
    "                dx = -1\n",
    "                dy = 0\n",
    "        elif command == \"|\":\n",
    "            if stack.pop()  == 0:\n",
    "                dx = 0\n",
    "                dy = 1\n",
    "            else:\n",
    "                dx = 0\n",
    "                dy = -1\n",
    "        elif command == \":\":\n",
    "            if len(stack) == 0:\n",
    "                stack.append(0)\n",
    "            else:\n",
    "                stack.append(stack[-1])\n",
    "        elif command == \"\\\\\":\n",
    "            if len(stack) < 2:\n",
    "                stack.append(0)\n",
    "            else:\n",
    "                a = stack[-1]\n",
    "                stack[-1] = stack[-2]\n",
    "                stack[-2] = a\n",
    "        elif command == \"$\":\n",
    "            if len(stack) != 0:\n",
    "                stack.pop()\n",
    "        elif command == \".\":\n",
    "            if len(stack) !=0:\n",
    "                output += str(stack.pop())\n",
    "        elif command == \",\":\n",
    "            if len(stack) !=0:\n",
    "                ascii_code = stack[-1]\n",
    "                output += chr(ascii_code)\n",
    "            stack.pop()\n",
    "        elif command == \"#\":\n",
    "            skip_next = True\n",
    "        elif command == \"p\":\n",
    "            y1, x1, v = stack.pop(), stack.pop(), stack.pop()\n",
    "            coordinate[y1][x1] = chr(v)\n",
    "        elif command == \"g\":\n",
    "            y1, x1 = stack.pop(), stack.pop()\n",
    "            stack.append(ord(coordinate[y1][x1]))\n",
    "        elif command == '@':\n",
    "            break\n",
    "        x += dx\n",
    "        y += dy\n",
    "    return output"
   ]
  },
  {
   "cell_type": "code",
   "execution_count": 1792,
   "metadata": {
    "scrolled": true
   },
   "outputs": [
    {
     "data": {
      "text/plain": [
       "'23571113171923293137'"
      ]
     },
     "execution_count": 1792,
     "metadata": {},
     "output_type": "execute_result"
    }
   ],
   "source": [
    "interpret('2>:3g\" \"-!v\\  g30          <\\n |!`\"&\":+1_:.:03p>03g+:\"&\"`|\\n @               ^  p3\\\\\" \":<\\n2 2345678901234567890123456789012345678')\n"
   ]
  },
  {
   "cell_type": "markdown",
   "metadata": {},
   "source": [
    "# HackerRank"
   ]
  },
  {
   "cell_type": "code",
   "execution_count": 1796,
   "metadata": {},
   "outputs": [],
   "source": [
    "def is_leap(year):\n",
    "    leap = False\n",
    "    # The year can be evenly divided by 4, is a leap year, unless:\n",
    "        # The year can be evenly divided by 100, it is NOT a leap year, unless:\n",
    "            # The year is also evenly divisible by 400. Then it is a leap year.\n",
    "            \n",
    "    if year % 400 == 0:\n",
    "        leap = True\n",
    "    elif year % 100 == 0:\n",
    "        leap = False\n",
    "    elif year % 4 == 0:\n",
    "        leap = True\n",
    "    \n",
    "    return leap"
   ]
  },
  {
   "cell_type": "code",
   "execution_count": 1797,
   "metadata": {
    "scrolled": true
   },
   "outputs": [
    {
     "data": {
      "text/plain": [
       "False"
      ]
     },
     "execution_count": 1797,
     "metadata": {},
     "output_type": "execute_result"
    }
   ],
   "source": [
    "is_leap(1990)"
   ]
  },
  {
   "cell_type": "markdown",
   "metadata": {},
   "source": [
    "# Add and Prod"
   ]
  },
  {
   "cell_type": "raw",
   "metadata": {},
   "source": [
    "my_array = numpy.array([ [1, 2], [3, 4] ])\n",
    "\n",
    "print numpy.prod(my_array, axis = 0)            #Output : [3 8]\n",
    "print numpy.prod(my_array, axis = 1)            #Output : [ 2 12]\n",
    "print numpy.prod(my_array, axis = None)         #Output : 24\n",
    "print numpy.prod(my_array)                      #Output : 24"
   ]
  },
  {
   "cell_type": "code",
   "execution_count": 1866,
   "metadata": {},
   "outputs": [],
   "source": [
    "class Solution:\n",
    "    def singleNumber(self, nums) -> int:\n",
    "        d = {}\n",
    "        value = 0\n",
    "        for i in nums:\n",
    "            if i in d:\n",
    "                d[i] += 1\n",
    "            else:\n",
    "                d[i] = 1\n",
    "        \n",
    "        for k,v in d.items():\n",
    "            if v == 1:\n",
    "                value = k\n",
    "        return value"
   ]
  },
  {
   "cell_type": "code",
   "execution_count": 1868,
   "metadata": {},
   "outputs": [
    {
     "name": "stdout",
     "output_type": "stream",
     "text": [
      "5\n",
      "8\n",
      "3\n",
      "7\n"
     ]
    },
    {
     "data": {
      "text/plain": [
       "3"
      ]
     },
     "execution_count": 1868,
     "metadata": {},
     "output_type": "execute_result"
    }
   ],
   "source": [
    "Solution.singleNumber(None, [5,8,5,3,7,8,7])"
   ]
  },
  {
   "cell_type": "code",
   "execution_count": 1922,
   "metadata": {},
   "outputs": [],
   "source": [
    "class Solution:\n",
    "    def singleNumber(self, nums) -> int:\n",
    "        value=0\n",
    "        for i in nums:\n",
    "            value ^= i\n",
    "        return value"
   ]
  },
  {
   "cell_type": "code",
   "execution_count": 1923,
   "metadata": {},
   "outputs": [
    {
     "name": "stdout",
     "output_type": "stream",
     "text": [
      "value:0, i:5\n",
      "value:5, i:8\n",
      "value:13, i:5\n",
      "value:8, i:3\n",
      "value:11, i:7\n",
      "value:12, i:8\n",
      "value:4, i:7\n"
     ]
    },
    {
     "data": {
      "text/plain": [
       "3"
      ]
     },
     "execution_count": 1923,
     "metadata": {},
     "output_type": "execute_result"
    }
   ],
   "source": [
    "Solution.singleNumber(None, [5,8,5,3,7,8,7])"
   ]
  },
  {
   "cell_type": "markdown",
   "metadata": {},
   "source": [
    "# Most common words"
   ]
  },
  {
   "cell_type": "code",
   "execution_count": 2044,
   "metadata": {},
   "outputs": [],
   "source": [
    "import re\n",
    "\n",
    "class Solution:\n",
    "    def mostCommonWord(self, paragraph, banned) -> str:\n",
    "        banned.append('')\n",
    "        counts = dict()\n",
    "        words = re.split(\"\\s|(?<!\\d)[?!,.](?!\\d)\", paragraph.lower())\n",
    "        banned1 = [x.lower() for x in banned]\n",
    "\n",
    "        for word in words:\n",
    "            if word not in banned1:\n",
    "                if word in counts:\n",
    "                    counts[word] += 1\n",
    "                else:\n",
    "                    counts[word] = 1\n",
    "        return max(counts, key = counts.get)"
   ]
  },
  {
   "cell_type": "code",
   "execution_count": 2045,
   "metadata": {
    "scrolled": true
   },
   "outputs": [
    {
     "data": {
      "text/plain": [
       "'ball'"
      ]
     },
     "execution_count": 2045,
     "metadata": {},
     "output_type": "execute_result"
    }
   ],
   "source": [
    "Solution.mostCommonWord(None, \"Bob. hIt, baLl\",[\"bob\", \"hit\"])"
   ]
  },
  {
   "cell_type": "code",
   "execution_count": 1982,
   "metadata": {},
   "outputs": [],
   "source": [
    "def word_count(str):\n",
    "    counts = dict()\n",
    "    words = str.split()\n",
    "\n",
    "    for word in words:\n",
    "        if word in counts:\n",
    "            counts[word] += 1\n",
    "        else:\n",
    "            counts[word] = 1\n",
    "\n",
    "    return counts"
   ]
  },
  {
   "cell_type": "code",
   "execution_count": 1983,
   "metadata": {},
   "outputs": [
    {
     "data": {
      "text/plain": [
       "{'Bob': 1,\n",
       " 'hit': 3,\n",
       " 'a': 1,\n",
       " 'ball,': 1,\n",
       " 'the': 1,\n",
       " 'BALL': 1,\n",
       " 'flew': 1,\n",
       " 'far': 1,\n",
       " 'after': 1,\n",
       " 'it': 1,\n",
       " 'was': 1}"
      ]
     },
     "execution_count": 1983,
     "metadata": {},
     "output_type": "execute_result"
    }
   ],
   "source": [
    "word_count(\"Bob hit a ball, the hit BALL flew far after it was hit\")"
   ]
  },
  {
   "cell_type": "markdown",
   "metadata": {},
   "source": [
    "# Leetcode"
   ]
  },
  {
   "cell_type": "markdown",
   "metadata": {},
   "source": [
    "# October challenge"
   ]
  },
  {
   "cell_type": "markdown",
   "metadata": {},
   "source": [
    "# Day 1"
   ]
  },
  {
   "cell_type": "code",
   "execution_count": null,
   "metadata": {},
   "outputs": [],
   "source": []
  }
 ],
 "metadata": {
  "kernelspec": {
   "display_name": "Python 3",
   "language": "python",
   "name": "python3"
  },
  "language_info": {
   "codemirror_mode": {
    "name": "ipython",
    "version": 3
   },
   "file_extension": ".py",
   "mimetype": "text/x-python",
   "name": "python",
   "nbconvert_exporter": "python",
   "pygments_lexer": "ipython3",
   "version": "3.7.6"
  }
 },
 "nbformat": 4,
 "nbformat_minor": 4
}
